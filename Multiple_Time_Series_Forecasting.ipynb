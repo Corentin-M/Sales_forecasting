{
 "cells": [
  {
   "cell_type": "code",
   "execution_count": 12,
   "metadata": {},
   "outputs": [],
   "source": [
    "# import libraries\n",
    "import pandas as pd\n",
    "import numpy as np\n",
    "import os\n",
    "import matplotlib.pyplot as plt\n",
    "import seaborn as sns\n",
    "from datetime import datetime\n",
    "import json # import json for formatting data\n",
    "import os # and os for saving\n",
    "import boto3\n",
    "import sagemaker\n",
    "from sagemaker import get_execution_role\n",
    "import pickle\n",
    "\n",
    "from sklearn.metrics import mean_squared_log_error\n",
    "from sklearn.ensemble import RandomForestRegressor"
   ]
  },
  {
   "cell_type": "code",
   "execution_count": 13,
   "metadata": {},
   "outputs": [],
   "source": [
    "features_file = 'data/features.csv'\n",
    "features_df = pd.read_csv(features_file)\n",
    "\n",
    "stores_file = 'data/stores.csv'\n",
    "stores_df = pd.read_csv(stores_file)\n",
    "\n",
    "test_file = 'data/test.csv'\n",
    "test_df = pd.read_csv(test_file)"
   ]
  },
  {
   "cell_type": "code",
   "execution_count": 100,
   "metadata": {},
   "outputs": [
    {
     "data": {
      "text/html": [
       "<div>\n",
       "<style scoped>\n",
       "    .dataframe tbody tr th:only-of-type {\n",
       "        vertical-align: middle;\n",
       "    }\n",
       "\n",
       "    .dataframe tbody tr th {\n",
       "        vertical-align: top;\n",
       "    }\n",
       "\n",
       "    .dataframe thead th {\n",
       "        text-align: right;\n",
       "    }\n",
       "</style>\n",
       "<table border=\"1\" class=\"dataframe\">\n",
       "  <thead>\n",
       "    <tr style=\"text-align: right;\">\n",
       "      <th></th>\n",
       "      <th>Store</th>\n",
       "      <th>Dept</th>\n",
       "      <th>Weekly_Sales</th>\n",
       "      <th>IsHoliday</th>\n",
       "      <th>Week</th>\n",
       "      <th>Year</th>\n",
       "    </tr>\n",
       "  </thead>\n",
       "  <tbody>\n",
       "    <tr>\n",
       "      <th>0</th>\n",
       "      <td>1</td>\n",
       "      <td>1</td>\n",
       "      <td>24924.50</td>\n",
       "      <td>1</td>\n",
       "      <td>5</td>\n",
       "      <td>2010</td>\n",
       "    </tr>\n",
       "    <tr>\n",
       "      <th>1</th>\n",
       "      <td>1</td>\n",
       "      <td>1</td>\n",
       "      <td>46039.49</td>\n",
       "      <td>5</td>\n",
       "      <td>6</td>\n",
       "      <td>2010</td>\n",
       "    </tr>\n",
       "    <tr>\n",
       "      <th>2</th>\n",
       "      <td>1</td>\n",
       "      <td>1</td>\n",
       "      <td>41595.55</td>\n",
       "      <td>1</td>\n",
       "      <td>7</td>\n",
       "      <td>2010</td>\n",
       "    </tr>\n",
       "    <tr>\n",
       "      <th>3</th>\n",
       "      <td>1</td>\n",
       "      <td>1</td>\n",
       "      <td>19403.54</td>\n",
       "      <td>1</td>\n",
       "      <td>8</td>\n",
       "      <td>2010</td>\n",
       "    </tr>\n",
       "    <tr>\n",
       "      <th>4</th>\n",
       "      <td>1</td>\n",
       "      <td>1</td>\n",
       "      <td>21827.90</td>\n",
       "      <td>1</td>\n",
       "      <td>9</td>\n",
       "      <td>2010</td>\n",
       "    </tr>\n",
       "  </tbody>\n",
       "</table>\n",
       "</div>"
      ],
      "text/plain": [
       "   Store  Dept  Weekly_Sales  IsHoliday  Week  Year\n",
       "0      1     1      24924.50          1     5  2010\n",
       "1      1     1      46039.49          5     6  2010\n",
       "2      1     1      41595.55          1     7  2010\n",
       "3      1     1      19403.54          1     8  2010\n",
       "4      1     1      21827.90          1     9  2010"
      ]
     },
     "execution_count": 100,
     "metadata": {},
     "output_type": "execute_result"
    }
   ],
   "source": [
    "train_file = 'data/train.csv'\n",
    "train_df = pd.read_csv(train_file)\n",
    "\n",
    "train_df['Date'] = pd.to_datetime(train_df['Date'])\n",
    "train_df['Week'] = train_df.Date.apply(lambda x: x.weekofyear)\n",
    "train_df['Year'] = train_df.Date.apply(lambda x: x.year)\n",
    "train_df = train_df.drop(['Date'], axis=1)\n",
    "\n",
    "train_df.fillna(0, inplace=True)\n",
    "\n",
    "# Set negative sales to 0\n",
    "train_df.loc[train_df['Weekly_Sales'] < 0, 'Weekly_Sales'] = 0\n",
    "\n",
    "# Create a column with Store and Dept number as a key\n",
    "# We add '00' to avoid misunderstanding\n",
    "# train_df['StoreDept'] = train_df['Store'].map(str) + str('00') + train_df['Dept'].map(str)\n",
    "\n",
    "# In competition evaluation, weights in WMAE are 5 if week is holiday, 1 otherwise\n",
    "train_df['IsHoliday'].replace([False,True], [1,5], inplace = True)\n",
    "\n",
    "train_df.head()"
   ]
  },
  {
   "cell_type": "code",
   "execution_count": 101,
   "metadata": {},
   "outputs": [
    {
     "data": {
      "text/html": [
       "<div>\n",
       "<style scoped>\n",
       "    .dataframe tbody tr th:only-of-type {\n",
       "        vertical-align: middle;\n",
       "    }\n",
       "\n",
       "    .dataframe tbody tr th {\n",
       "        vertical-align: top;\n",
       "    }\n",
       "\n",
       "    .dataframe thead th {\n",
       "        text-align: right;\n",
       "    }\n",
       "</style>\n",
       "<table border=\"1\" class=\"dataframe\">\n",
       "  <thead>\n",
       "    <tr style=\"text-align: right;\">\n",
       "      <th></th>\n",
       "      <th>Store</th>\n",
       "      <th>Dept</th>\n",
       "      <th>Weekly_Sales</th>\n",
       "      <th>IsHoliday</th>\n",
       "      <th>Week</th>\n",
       "      <th>Year</th>\n",
       "      <th>Last_Week_Sales</th>\n",
       "      <th>Last_Week_Diff</th>\n",
       "    </tr>\n",
       "  </thead>\n",
       "  <tbody>\n",
       "    <tr>\n",
       "      <th>2</th>\n",
       "      <td>1</td>\n",
       "      <td>1</td>\n",
       "      <td>41595.55</td>\n",
       "      <td>1</td>\n",
       "      <td>7</td>\n",
       "      <td>2010</td>\n",
       "      <td>46039.49</td>\n",
       "      <td>21114.99</td>\n",
       "    </tr>\n",
       "    <tr>\n",
       "      <th>3</th>\n",
       "      <td>1</td>\n",
       "      <td>1</td>\n",
       "      <td>19403.54</td>\n",
       "      <td>1</td>\n",
       "      <td>8</td>\n",
       "      <td>2010</td>\n",
       "      <td>41595.55</td>\n",
       "      <td>-4443.94</td>\n",
       "    </tr>\n",
       "    <tr>\n",
       "      <th>4</th>\n",
       "      <td>1</td>\n",
       "      <td>1</td>\n",
       "      <td>21827.90</td>\n",
       "      <td>1</td>\n",
       "      <td>9</td>\n",
       "      <td>2010</td>\n",
       "      <td>19403.54</td>\n",
       "      <td>-22192.01</td>\n",
       "    </tr>\n",
       "    <tr>\n",
       "      <th>5</th>\n",
       "      <td>1</td>\n",
       "      <td>1</td>\n",
       "      <td>21043.39</td>\n",
       "      <td>1</td>\n",
       "      <td>10</td>\n",
       "      <td>2010</td>\n",
       "      <td>21827.90</td>\n",
       "      <td>2424.36</td>\n",
       "    </tr>\n",
       "    <tr>\n",
       "      <th>6</th>\n",
       "      <td>1</td>\n",
       "      <td>1</td>\n",
       "      <td>22136.64</td>\n",
       "      <td>1</td>\n",
       "      <td>11</td>\n",
       "      <td>2010</td>\n",
       "      <td>21043.39</td>\n",
       "      <td>-784.51</td>\n",
       "    </tr>\n",
       "  </tbody>\n",
       "</table>\n",
       "</div>"
      ],
      "text/plain": [
       "   Store  Dept  Weekly_Sales  IsHoliday  Week  Year  Last_Week_Sales  \\\n",
       "2      1     1      41595.55          1     7  2010         46039.49   \n",
       "3      1     1      19403.54          1     8  2010         41595.55   \n",
       "4      1     1      21827.90          1     9  2010         19403.54   \n",
       "5      1     1      21043.39          1    10  2010         21827.90   \n",
       "6      1     1      22136.64          1    11  2010         21043.39   \n",
       "\n",
       "   Last_Week_Diff  \n",
       "2        21114.99  \n",
       "3        -4443.94  \n",
       "4       -22192.01  \n",
       "5         2424.36  \n",
       "6         -784.51  "
      ]
     },
     "execution_count": 101,
     "metadata": {},
     "output_type": "execute_result"
    }
   ],
   "source": [
    "train_df2 = train_df.copy()\n",
    "train_df2 = train_df2[train_df2['Store']<3]\n",
    "train_df2['Last_Week_Sales'] = train_df2.groupby(['Store','Dept'])['Weekly_Sales'].shift()\n",
    "train_df2['Last_Week_Diff'] = train_df2.groupby(['Store','Dept'])['Last_Week_Sales'].diff()\n",
    "train_df2 = train_df2.dropna()\n",
    "train_df2.head()\n",
    "#len(train_df2)"
   ]
  },
  {
   "cell_type": "code",
   "execution_count": 102,
   "metadata": {},
   "outputs": [],
   "source": [
    "def rmsle(ytrue, ypred):\n",
    "    return np.sqrt(mean_squared_log_error(ytrue, ypred))"
   ]
  },
  {
   "cell_type": "markdown",
   "metadata": {},
   "source": [
    "## RMSLE / Store/dept / Last Week Sales"
   ]
  },
  {
   "cell_type": "code",
   "execution_count": 103,
   "metadata": {},
   "outputs": [
    {
     "name": "stderr",
     "output_type": "stream",
     "text": [
      "/home/ec2-user/anaconda3/envs/python3/lib/python3.6/site-packages/ipykernel/__main__.py:6: UserWarning: Boolean Series key will be reindexed to match DataFrame index.\n"
     ]
    },
    {
     "name": "stdout",
     "output_type": "stream",
     "text": [
      "Store 1 - Dept 1 - Error 0.25932\n",
      "Store 1 - Dept 2 - Error 0.06923\n",
      "Store 1 - Dept 3 - Error 0.24245\n",
      "Store 1 - Dept 4 - Error 0.08045\n",
      "Store 1 - Dept 5 - Error 0.18795\n",
      "Store 1 - Dept 6 - Error 1.91116\n",
      "Store 1 - Dept 7 - Error 0.16584\n",
      "Store 1 - Dept 8 - Error 0.07146\n",
      "Store 1 - Dept 9 - Error 0.18285\n",
      "Store 1 - Dept 10 - Error 0.10647\n",
      "Store 1 - Dept 11 - Error 0.19363\n",
      "Store 1 - Dept 12 - Error 0.14294\n",
      "Store 1 - Dept 13 - Error 0.07680\n",
      "Store 1 - Dept 14 - Error 0.12789\n",
      "Store 1 - Dept 16 - Error 0.20074\n",
      "Store 1 - Dept 17 - Error 0.14428\n",
      "Store 1 - Dept 18 - Error 1.63663\n",
      "Store 1 - Dept 19 - Error 0.32566\n",
      "Store 1 - Dept 20 - Error 0.21197\n",
      "Store 1 - Dept 21 - Error 0.12054\n",
      "Store 1 - Dept 22 - Error 0.17491\n",
      "Store 1 - Dept 23 - Error 0.14450\n",
      "Store 1 - Dept 24 - Error 0.27757\n",
      "Store 1 - Dept 25 - Error 0.16023\n",
      "Store 1 - Dept 26 - Error 0.19615\n",
      "Store 1 - Dept 27 - Error 0.19059\n",
      "Store 1 - Dept 28 - Error 0.21083\n",
      "Store 1 - Dept 29 - Error 0.13915\n",
      "Store 1 - Dept 30 - Error 0.19779\n",
      "Store 1 - Dept 31 - Error 0.37449\n",
      "Store 1 - Dept 32 - Error 0.28150\n",
      "Store 1 - Dept 33 - Error 0.23382\n",
      "Store 1 - Dept 34 - Error 0.12410\n",
      "Store 1 - Dept 35 - Error 0.17267\n",
      "Store 1 - Dept 36 - Error 0.49673\n",
      "Store 1 - Dept 37 - Error 0.12599\n",
      "Store 1 - Dept 38 - Error 0.15085\n",
      "Store 1 - Dept 40 - Error 0.05648\n",
      "Store 1 - Dept 41 - Error 0.33481\n",
      "Store 1 - Dept 42 - Error 0.13694\n",
      "Store 1 - Dept 44 - Error 0.14083\n",
      "Store 1 - Dept 45 - Error 1.10409\n",
      "Store 1 - Dept 46 - Error 0.08604\n",
      "Store 1 - Dept 47 - Error 2.56830\n",
      "Store 1 - Dept 48 - Error 1.92900\n",
      "Store 1 - Dept 49 - Error 0.16546\n",
      "Store 1 - Dept 52 - Error 0.24498\n",
      "Store 1 - Dept 54 - Error 1.36026\n",
      "Store 1 - Dept 55 - Error 0.14417\n",
      "Store 1 - Dept 56 - Error 0.22046\n",
      "Store 1 - Dept 58 - Error 0.69272\n",
      "Store 1 - Dept 59 - Error 0.38381\n",
      "Store 1 - Dept 60 - Error 0.25304\n",
      "Store 1 - Dept 67 - Error 0.32317\n",
      "Store 1 - Dept 71 - Error 0.30428\n",
      "Store 1 - Dept 72 - Error 0.15524\n",
      "Store 1 - Dept 74 - Error 0.12845\n",
      "Store 1 - Dept 79 - Error 0.25678\n",
      "Store 1 - Dept 80 - Error 0.07993\n",
      "Store 1 - Dept 81 - Error 0.06254\n",
      "Store 1 - Dept 82 - Error 0.10029\n",
      "Store 1 - Dept 83 - Error 0.17767\n",
      "Store 1 - Dept 85 - Error 0.15111\n",
      "Store 1 - Dept 87 - Error 0.17112\n",
      "Store 1 - Dept 90 - Error 0.07875\n",
      "Store 1 - Dept 91 - Error 0.12185\n",
      "Store 1 - Dept 92 - Error 0.12121\n",
      "Store 1 - Dept 93 - Error 0.15271\n",
      "Store 1 - Dept 94 - Error 0.10246\n",
      "Store 1 - Dept 95 - Error 0.07411\n",
      "Store 1 - Dept 96 - Error 0.12924\n",
      "Store 1 - Dept 97 - Error 0.11538\n",
      "Store 1 - Dept 98 - Error 0.12097\n",
      "Store 1 - Dept 99 - Error 2.38397\n",
      "Store 2 - Dept 1 - Error 0.28026\n",
      "Store 2 - Dept 2 - Error 0.06609\n",
      "Store 2 - Dept 3 - Error 0.22682\n",
      "Store 2 - Dept 4 - Error 0.06306\n",
      "Store 2 - Dept 5 - Error 0.17215\n",
      "Store 2 - Dept 6 - Error 0.25393\n",
      "Store 2 - Dept 7 - Error 0.14508\n",
      "Store 2 - Dept 8 - Error 0.04585\n",
      "Store 2 - Dept 9 - Error 0.17337\n",
      "Store 2 - Dept 10 - Error 0.08732\n",
      "Store 2 - Dept 11 - Error 0.17872\n",
      "Store 2 - Dept 12 - Error 0.11128\n",
      "Store 2 - Dept 13 - Error 0.05652\n",
      "Store 2 - Dept 14 - Error 0.14246\n",
      "Store 2 - Dept 16 - Error 0.22407\n",
      "Store 2 - Dept 17 - Error 0.10206\n",
      "Store 2 - Dept 18 - Error 1.64253\n",
      "Store 2 - Dept 19 - Error 0.16613\n",
      "Store 2 - Dept 20 - Error 0.12302\n",
      "Store 2 - Dept 21 - Error 0.07450\n",
      "Store 2 - Dept 22 - Error 0.16315\n",
      "Store 2 - Dept 23 - Error 0.16172\n",
      "Store 2 - Dept 24 - Error 0.24781\n",
      "Store 2 - Dept 25 - Error 0.11300\n",
      "Store 2 - Dept 26 - Error 0.17767\n",
      "Store 2 - Dept 27 - Error 0.18912\n",
      "Store 2 - Dept 28 - Error 0.17141\n",
      "Store 2 - Dept 29 - Error 0.10854\n",
      "Store 2 - Dept 30 - Error 0.16263\n",
      "Store 2 - Dept 31 - Error 0.29010\n",
      "Store 2 - Dept 32 - Error 0.23386\n",
      "Store 2 - Dept 33 - Error 0.25063\n",
      "Store 2 - Dept 34 - Error 0.13622\n",
      "Store 2 - Dept 35 - Error 0.20212\n",
      "Store 2 - Dept 36 - Error 0.38990\n",
      "Store 2 - Dept 37 - Error 0.12643\n",
      "Store 2 - Dept 38 - Error 0.12313\n",
      "Store 2 - Dept 40 - Error 0.04784\n",
      "Store 2 - Dept 41 - Error 0.26151\n",
      "Store 2 - Dept 42 - Error 0.08457\n",
      "Store 2 - Dept 44 - Error 0.14728\n",
      "Store 2 - Dept 45 - Error 0.59565\n",
      "Store 2 - Dept 46 - Error 0.06373\n",
      "Store 2 - Dept 47 - Error 3.32931\n",
      "Store 2 - Dept 48 - Error 1.06691\n",
      "Store 2 - Dept 49 - Error 0.21996\n",
      "Store 2 - Dept 52 - Error 0.15600\n",
      "Store 2 - Dept 54 - Error 1.72087\n",
      "Store 2 - Dept 55 - Error 0.17114\n",
      "Store 2 - Dept 56 - Error 0.31512\n",
      "Store 2 - Dept 58 - Error 0.37754\n",
      "Store 2 - Dept 59 - Error 0.35313\n",
      "Store 2 - Dept 60 - Error 0.29362\n",
      "Store 2 - Dept 67 - Error 0.34097\n",
      "Store 2 - Dept 71 - Error 0.21578\n",
      "Store 2 - Dept 72 - Error 0.17025\n",
      "Store 2 - Dept 74 - Error 0.11433\n",
      "Store 2 - Dept 78 - Error 0.13353\n",
      "Store 2 - Dept 79 - Error 0.19005\n",
      "Store 2 - Dept 80 - Error 0.06708\n",
      "Store 2 - Dept 81 - Error 0.05774\n",
      "Store 2 - Dept 82 - Error 0.09532\n",
      "Store 2 - Dept 83 - Error 0.12860\n",
      "Store 2 - Dept 85 - Error 0.19916\n",
      "Store 2 - Dept 87 - Error 0.22779\n",
      "Store 2 - Dept 90 - Error 0.05959\n",
      "Store 2 - Dept 91 - Error 0.07618\n",
      "Store 2 - Dept 92 - Error 0.08075\n",
      "Store 2 - Dept 93 - Error 0.12323\n",
      "Store 2 - Dept 94 - Error 0.09472\n",
      "Store 2 - Dept 95 - Error 0.05844\n",
      "Store 2 - Dept 96 - Error 0.09717\n",
      "Store 2 - Dept 97 - Error 0.07762\n",
      "Store 2 - Dept 98 - Error 0.12164\n",
      "Store 2 - Dept 99 - Error 2.64083\n",
      "Mean Error = 0.31812\n"
     ]
    }
   ],
   "source": [
    "mean_error = []\n",
    "week = 8\n",
    "\n",
    "train2010 = train_df2[train_df2['Year'] == 2010]\n",
    "train2011 = train_df2[train_df2['Year'] == 2011]\n",
    "train2012 = train_df2[(train_df['Year'] == 2012) & (train_df2['Week'] < week)]\n",
    "train = train2010.append(train2011).append(train2012)\n",
    "\n",
    "val = train_df2[(train_df2['Week'] >= week) & (train_df2['Year'] == 2012)]\n",
    "\n",
    "for store in train_df2['Store'].unique():\n",
    "    for dept in train_df2['Dept'].unique():\n",
    "        # Compute and print RMSLE for each series\n",
    "        data_df = val[(val.Store == store)&(val.Dept == dept)]\n",
    "\n",
    "        p = data_df['Last_Week_Sales'].values\n",
    "        \n",
    "        if len(p)>0:\n",
    "            error = rmsle(data_df['Weekly_Sales'].values, p)\n",
    "            print('Store %d - Dept %d - Error %.5f' % (store, dept, error))\n",
    "            mean_error.append(error)\n",
    "print('Mean Error = %.5f' % np.mean(mean_error))"
   ]
  },
  {
   "cell_type": "markdown",
   "metadata": {},
   "source": [
    "## RMSLE / week / Last Week Sales"
   ]
  },
  {
   "cell_type": "code",
   "execution_count": 104,
   "metadata": {},
   "outputs": [
    {
     "name": "stderr",
     "output_type": "stream",
     "text": [
      "/home/ec2-user/anaconda3/envs/python3/lib/python3.6/site-packages/ipykernel/__main__.py:6: UserWarning: Boolean Series key will be reindexed to match DataFrame index.\n",
      "/home/ec2-user/anaconda3/envs/python3/lib/python3.6/site-packages/ipykernel/__main__.py:6: UserWarning: Boolean Series key will be reindexed to match DataFrame index.\n"
     ]
    },
    {
     "name": "stdout",
     "output_type": "stream",
     "text": [
      "Week 8 - Error 0.63046\n",
      "Week 9 - Error 0.51319\n"
     ]
    },
    {
     "name": "stderr",
     "output_type": "stream",
     "text": [
      "/home/ec2-user/anaconda3/envs/python3/lib/python3.6/site-packages/ipykernel/__main__.py:6: UserWarning: Boolean Series key will be reindexed to match DataFrame index.\n",
      "/home/ec2-user/anaconda3/envs/python3/lib/python3.6/site-packages/ipykernel/__main__.py:6: UserWarning: Boolean Series key will be reindexed to match DataFrame index.\n"
     ]
    },
    {
     "name": "stdout",
     "output_type": "stream",
     "text": [
      "Week 10 - Error 0.35642\n",
      "Week 11 - Error 0.38096\n"
     ]
    },
    {
     "name": "stderr",
     "output_type": "stream",
     "text": [
      "/home/ec2-user/anaconda3/envs/python3/lib/python3.6/site-packages/ipykernel/__main__.py:6: UserWarning: Boolean Series key will be reindexed to match DataFrame index.\n",
      "/home/ec2-user/anaconda3/envs/python3/lib/python3.6/site-packages/ipykernel/__main__.py:6: UserWarning: Boolean Series key will be reindexed to match DataFrame index.\n"
     ]
    },
    {
     "name": "stdout",
     "output_type": "stream",
     "text": [
      "Week 12 - Error 0.67254\n",
      "Week 13 - Error 0.66868\n"
     ]
    },
    {
     "name": "stderr",
     "output_type": "stream",
     "text": [
      "/home/ec2-user/anaconda3/envs/python3/lib/python3.6/site-packages/ipykernel/__main__.py:6: UserWarning: Boolean Series key will be reindexed to match DataFrame index.\n",
      "/home/ec2-user/anaconda3/envs/python3/lib/python3.6/site-packages/ipykernel/__main__.py:6: UserWarning: Boolean Series key will be reindexed to match DataFrame index.\n"
     ]
    },
    {
     "name": "stdout",
     "output_type": "stream",
     "text": [
      "Week 14 - Error 0.28252\n",
      "Week 15 - Error 0.40351\n"
     ]
    },
    {
     "name": "stderr",
     "output_type": "stream",
     "text": [
      "/home/ec2-user/anaconda3/envs/python3/lib/python3.6/site-packages/ipykernel/__main__.py:6: UserWarning: Boolean Series key will be reindexed to match DataFrame index.\n",
      "/home/ec2-user/anaconda3/envs/python3/lib/python3.6/site-packages/ipykernel/__main__.py:6: UserWarning: Boolean Series key will be reindexed to match DataFrame index.\n"
     ]
    },
    {
     "name": "stdout",
     "output_type": "stream",
     "text": [
      "Week 16 - Error 0.64187\n",
      "Week 17 - Error 0.62446\n"
     ]
    },
    {
     "name": "stderr",
     "output_type": "stream",
     "text": [
      "/home/ec2-user/anaconda3/envs/python3/lib/python3.6/site-packages/ipykernel/__main__.py:6: UserWarning: Boolean Series key will be reindexed to match DataFrame index.\n",
      "/home/ec2-user/anaconda3/envs/python3/lib/python3.6/site-packages/ipykernel/__main__.py:6: UserWarning: Boolean Series key will be reindexed to match DataFrame index.\n"
     ]
    },
    {
     "name": "stdout",
     "output_type": "stream",
     "text": [
      "Week 18 - Error 0.39527\n",
      "Week 19 - Error 0.28579\n"
     ]
    },
    {
     "name": "stderr",
     "output_type": "stream",
     "text": [
      "/home/ec2-user/anaconda3/envs/python3/lib/python3.6/site-packages/ipykernel/__main__.py:6: UserWarning: Boolean Series key will be reindexed to match DataFrame index.\n",
      "/home/ec2-user/anaconda3/envs/python3/lib/python3.6/site-packages/ipykernel/__main__.py:6: UserWarning: Boolean Series key will be reindexed to match DataFrame index.\n"
     ]
    },
    {
     "name": "stdout",
     "output_type": "stream",
     "text": [
      "Week 20 - Error 0.19541\n",
      "Week 21 - Error 0.22957\n"
     ]
    },
    {
     "name": "stderr",
     "output_type": "stream",
     "text": [
      "/home/ec2-user/anaconda3/envs/python3/lib/python3.6/site-packages/ipykernel/__main__.py:6: UserWarning: Boolean Series key will be reindexed to match DataFrame index.\n",
      "/home/ec2-user/anaconda3/envs/python3/lib/python3.6/site-packages/ipykernel/__main__.py:6: UserWarning: Boolean Series key will be reindexed to match DataFrame index.\n"
     ]
    },
    {
     "name": "stdout",
     "output_type": "stream",
     "text": [
      "Week 22 - Error 0.24877\n",
      "Week 23 - Error 0.54641\n"
     ]
    },
    {
     "name": "stderr",
     "output_type": "stream",
     "text": [
      "/home/ec2-user/anaconda3/envs/python3/lib/python3.6/site-packages/ipykernel/__main__.py:6: UserWarning: Boolean Series key will be reindexed to match DataFrame index.\n",
      "/home/ec2-user/anaconda3/envs/python3/lib/python3.6/site-packages/ipykernel/__main__.py:6: UserWarning: Boolean Series key will be reindexed to match DataFrame index.\n"
     ]
    },
    {
     "name": "stdout",
     "output_type": "stream",
     "text": [
      "Week 24 - Error 0.30732\n",
      "Week 25 - Error 0.29223\n"
     ]
    },
    {
     "name": "stderr",
     "output_type": "stream",
     "text": [
      "/home/ec2-user/anaconda3/envs/python3/lib/python3.6/site-packages/ipykernel/__main__.py:6: UserWarning: Boolean Series key will be reindexed to match DataFrame index.\n",
      "/home/ec2-user/anaconda3/envs/python3/lib/python3.6/site-packages/ipykernel/__main__.py:6: UserWarning: Boolean Series key will be reindexed to match DataFrame index.\n"
     ]
    },
    {
     "name": "stdout",
     "output_type": "stream",
     "text": [
      "Week 26 - Error 0.34906\n",
      "Week 27 - Error 0.18541\n"
     ]
    },
    {
     "name": "stderr",
     "output_type": "stream",
     "text": [
      "/home/ec2-user/anaconda3/envs/python3/lib/python3.6/site-packages/ipykernel/__main__.py:6: UserWarning: Boolean Series key will be reindexed to match DataFrame index.\n",
      "/home/ec2-user/anaconda3/envs/python3/lib/python3.6/site-packages/ipykernel/__main__.py:6: UserWarning: Boolean Series key will be reindexed to match DataFrame index.\n"
     ]
    },
    {
     "name": "stdout",
     "output_type": "stream",
     "text": [
      "Week 28 - Error 0.40853\n",
      "Week 29 - Error 0.45685\n"
     ]
    },
    {
     "name": "stderr",
     "output_type": "stream",
     "text": [
      "/home/ec2-user/anaconda3/envs/python3/lib/python3.6/site-packages/ipykernel/__main__.py:6: UserWarning: Boolean Series key will be reindexed to match DataFrame index.\n",
      "/home/ec2-user/anaconda3/envs/python3/lib/python3.6/site-packages/ipykernel/__main__.py:6: UserWarning: Boolean Series key will be reindexed to match DataFrame index.\n"
     ]
    },
    {
     "name": "stdout",
     "output_type": "stream",
     "text": [
      "Week 30 - Error 0.22024\n",
      "Week 31 - Error 0.60025\n"
     ]
    },
    {
     "name": "stderr",
     "output_type": "stream",
     "text": [
      "/home/ec2-user/anaconda3/envs/python3/lib/python3.6/site-packages/ipykernel/__main__.py:6: UserWarning: Boolean Series key will be reindexed to match DataFrame index.\n",
      "/home/ec2-user/anaconda3/envs/python3/lib/python3.6/site-packages/ipykernel/__main__.py:6: UserWarning: Boolean Series key will be reindexed to match DataFrame index.\n"
     ]
    },
    {
     "name": "stdout",
     "output_type": "stream",
     "text": [
      "Week 32 - Error 0.80508\n",
      "Week 33 - Error 0.75363\n"
     ]
    },
    {
     "name": "stderr",
     "output_type": "stream",
     "text": [
      "/home/ec2-user/anaconda3/envs/python3/lib/python3.6/site-packages/ipykernel/__main__.py:6: UserWarning: Boolean Series key will be reindexed to match DataFrame index.\n",
      "/home/ec2-user/anaconda3/envs/python3/lib/python3.6/site-packages/ipykernel/__main__.py:6: UserWarning: Boolean Series key will be reindexed to match DataFrame index.\n"
     ]
    },
    {
     "name": "stdout",
     "output_type": "stream",
     "text": [
      "Week 34 - Error 0.42502\n",
      "Week 35 - Error 0.38903\n"
     ]
    },
    {
     "name": "stderr",
     "output_type": "stream",
     "text": [
      "/home/ec2-user/anaconda3/envs/python3/lib/python3.6/site-packages/ipykernel/__main__.py:6: UserWarning: Boolean Series key will be reindexed to match DataFrame index.\n",
      "/home/ec2-user/anaconda3/envs/python3/lib/python3.6/site-packages/ipykernel/__main__.py:6: UserWarning: Boolean Series key will be reindexed to match DataFrame index.\n"
     ]
    },
    {
     "name": "stdout",
     "output_type": "stream",
     "text": [
      "Week 36 - Error 0.49037\n",
      "Week 37 - Error 0.47227\n"
     ]
    },
    {
     "name": "stderr",
     "output_type": "stream",
     "text": [
      "/home/ec2-user/anaconda3/envs/python3/lib/python3.6/site-packages/ipykernel/__main__.py:6: UserWarning: Boolean Series key will be reindexed to match DataFrame index.\n",
      "/home/ec2-user/anaconda3/envs/python3/lib/python3.6/site-packages/ipykernel/__main__.py:6: UserWarning: Boolean Series key will be reindexed to match DataFrame index.\n"
     ]
    },
    {
     "name": "stdout",
     "output_type": "stream",
     "text": [
      "Week 38 - Error 0.29868\n",
      "Week 39 - Error 0.29491\n"
     ]
    },
    {
     "name": "stderr",
     "output_type": "stream",
     "text": [
      "/home/ec2-user/anaconda3/envs/python3/lib/python3.6/site-packages/ipykernel/__main__.py:6: UserWarning: Boolean Series key will be reindexed to match DataFrame index.\n",
      "/home/ec2-user/anaconda3/envs/python3/lib/python3.6/site-packages/ipykernel/__main__.py:6: UserWarning: Boolean Series key will be reindexed to match DataFrame index.\n"
     ]
    },
    {
     "name": "stdout",
     "output_type": "stream",
     "text": [
      "Week 40 - Error 0.81705\n",
      "Week 41 - Error 0.37607\n",
      "Week 42 - Error 0.33158\n",
      "Mean Error = 0.43856\n"
     ]
    },
    {
     "name": "stderr",
     "output_type": "stream",
     "text": [
      "/home/ec2-user/anaconda3/envs/python3/lib/python3.6/site-packages/ipykernel/__main__.py:6: UserWarning: Boolean Series key will be reindexed to match DataFrame index.\n"
     ]
    }
   ],
   "source": [
    "mean_error = []\n",
    "for week in range(8,43):\n",
    "\n",
    "    train2010 = train_df2[train_df2['Year'] == 2010]\n",
    "    train2011 = train_df2[train_df2['Year'] == 2011]\n",
    "    train2012 = train_df2[(train_df['Year'] == 2012) & (train_df2['Week'] < week)]\n",
    "    train = train2010.append(train2011).append(train2012)\n",
    "    \n",
    "    val = train_df2[(train_df2['Week'] == week) & (train_df2['Year'] == 2012)]\n",
    "\n",
    "    p = val['Last_Week_Sales'].values\n",
    "\n",
    "    error = rmsle(val['Weekly_Sales'].values, p)\n",
    "    print('Week %d - Error %.5f' % (week, error))\n",
    "    mean_error.append(error)\n",
    "print('Mean Error = %.5f' % np.mean(mean_error))"
   ]
  },
  {
   "cell_type": "markdown",
   "metadata": {},
   "source": [
    "## WMAE / Store/dept / Last Week Sales"
   ]
  },
  {
   "cell_type": "code",
   "execution_count": 105,
   "metadata": {},
   "outputs": [
    {
     "name": "stderr",
     "output_type": "stream",
     "text": [
      "/home/ec2-user/anaconda3/envs/python3/lib/python3.6/site-packages/ipykernel/__main__.py:8: SettingWithCopyWarning: \n",
      "A value is trying to be set on a copy of a slice from a DataFrame.\n",
      "Try using .loc[row_indexer,col_indexer] = value instead\n",
      "\n",
      "See the caveats in the documentation: http://pandas.pydata.org/pandas-docs/stable/indexing.html#indexing-view-versus-copy\n"
     ]
    },
    {
     "name": "stdout",
     "output_type": "stream",
     "text": [
      "Weighted mean absolute error (WMAE) for Store 1 Dept 1 = 6022.671525423728\n",
      "Weighted mean absolute error (WMAE) for Store 1 Dept 2 = 3945.4836158192097\n",
      "Weighted mean absolute error (WMAE) for Store 1 Dept 3 = 3364.568587570622\n",
      "Weighted mean absolute error (WMAE) for Store 1 Dept 4 = 3196.318926553672\n",
      "Weighted mean absolute error (WMAE) for Store 1 Dept 5 = 8888.024689265538\n",
      "Weighted mean absolute error (WMAE) for Store 1 Dept 6 = 3242.9519774011305\n",
      "Weighted mean absolute error (WMAE) for Store 1 Dept 7 = 13069.187005649716\n",
      "Weighted mean absolute error (WMAE) for Store 1 Dept 8 = 2266.1390960451977\n",
      "Weighted mean absolute error (WMAE) for Store 1 Dept 9 = 6027.056553672316\n",
      "Weighted mean absolute error (WMAE) for Store 1 Dept 10 = 2784.8285875706215\n",
      "Weighted mean absolute error (WMAE) for Store 1 Dept 11 = 4035.5635028248594\n",
      "Weighted mean absolute error (WMAE) for Store 1 Dept 12 = 1134.10802259887\n",
      "Weighted mean absolute error (WMAE) for Store 1 Dept 13 = 2412.1637288135607\n",
      "Weighted mean absolute error (WMAE) for Store 1 Dept 14 = 4269.432655367232\n",
      "Weighted mean absolute error (WMAE) for Store 1 Dept 16 = 3569.8187570621462\n",
      "Weighted mean absolute error (WMAE) for Store 1 Dept 17 = 1655.7909604519773\n",
      "Weighted mean absolute error (WMAE) for Store 1 Dept 18 = 4722.011428571428\n",
      "Weighted mean absolute error (WMAE) for Store 1 Dept 19 = 281.499209039548\n",
      "Weighted mean absolute error (WMAE) for Store 1 Dept 20 = 809.5031073446327\n",
      "Weighted mean absolute error (WMAE) for Store 1 Dept 21 = 1058.2620338983052\n",
      "Weighted mean absolute error (WMAE) for Store 1 Dept 22 = 2334.7240112994346\n",
      "Weighted mean absolute error (WMAE) for Store 1 Dept 23 = 5392.147175141243\n",
      "Weighted mean absolute error (WMAE) for Store 1 Dept 24 = 2186.790621468926\n",
      "Weighted mean absolute error (WMAE) for Store 1 Dept 25 = 1677.3430508474578\n",
      "Weighted mean absolute error (WMAE) for Store 1 Dept 26 = 1464.3037288135595\n",
      "Weighted mean absolute error (WMAE) for Store 1 Dept 27 = 366.9774011299435\n",
      "Weighted mean absolute error (WMAE) for Store 1 Dept 28 = 109.09887005649718\n",
      "Weighted mean absolute error (WMAE) for Store 1 Dept 29 = 1169.2370056497175\n",
      "Weighted mean absolute error (WMAE) for Store 1 Dept 30 = 497.80903954802267\n",
      "Weighted mean absolute error (WMAE) for Store 1 Dept 31 = 840.9928248587571\n",
      "Weighted mean absolute error (WMAE) for Store 1 Dept 32 = 3832.4748022598874\n",
      "Weighted mean absolute error (WMAE) for Store 1 Dept 33 = 1922.4350282485873\n",
      "Weighted mean absolute error (WMAE) for Store 1 Dept 34 = 1979.8137288135595\n",
      "Weighted mean absolute error (WMAE) for Store 1 Dept 35 = 484.69836158192084\n",
      "Weighted mean absolute error (WMAE) for Store 1 Dept 36 = 632.3774011299435\n",
      "Weighted mean absolute error (WMAE) for Store 1 Dept 37 = 298.2723163841808\n",
      "Weighted mean absolute error (WMAE) for Store 1 Dept 38 = 11922.381412429377\n",
      "Weighted mean absolute error (WMAE) for Store 1 Dept 40 = 3077.968870056497\n",
      "Weighted mean absolute error (WMAE) for Store 1 Dept 41 = 546.4097740112994\n",
      "Weighted mean absolute error (WMAE) for Store 1 Dept 42 = 860.4212994350282\n",
      "Weighted mean absolute error (WMAE) for Store 1 Dept 44 = 887.3950847457627\n",
      "Weighted mean absolute error (WMAE) for Store 1 Dept 45 = 19.98938144329897\n",
      "Weighted mean absolute error (WMAE) for Store 1 Dept 46 = 2966.631920903955\n",
      "Weighted mean absolute error (WMAE) for Store 1 Dept 47 = 60.6\n",
      "Weighted mean absolute error (WMAE) for Store 1 Dept 48 = 754.4276729559749\n",
      "Weighted mean absolute error (WMAE) for Store 1 Dept 49 = 1952.3329378531073\n",
      "Weighted mean absolute error (WMAE) for Store 1 Dept 51 = 31.67193548387096\n",
      "Weighted mean absolute error (WMAE) for Store 1 Dept 52 = 589.4499999999999\n",
      "Weighted mean absolute error (WMAE) for Store 1 Dept 54 = 58.880245398773006\n",
      "Weighted mean absolute error (WMAE) for Store 1 Dept 55 = 4065.4177966101693\n",
      "Weighted mean absolute error (WMAE) for Store 1 Dept 56 = 830.2090960451978\n",
      "Weighted mean absolute error (WMAE) for Store 1 Dept 58 = 1494.461920903955\n",
      "Weighted mean absolute error (WMAE) for Store 1 Dept 59 = 685.0457062146894\n",
      "Weighted mean absolute error (WMAE) for Store 1 Dept 60 = 244.3864406779661\n",
      "Weighted mean absolute error (WMAE) for Store 1 Dept 67 = 2181.134802259887\n",
      "Weighted mean absolute error (WMAE) for Store 1 Dept 71 = 953.0803954802259\n",
      "Weighted mean absolute error (WMAE) for Store 1 Dept 72 = 20012.002768361584\n",
      "Weighted mean absolute error (WMAE) for Store 1 Dept 74 = 1725.9300564971752\n",
      "Weighted mean absolute error (WMAE) for Store 1 Dept 77 = 192.0\n",
      "Weighted mean absolute error (WMAE) for Store 1 Dept 78 = 1.0\n",
      "Weighted mean absolute error (WMAE) for Store 1 Dept 79 = 6429.936892655365\n",
      "Weighted mean absolute error (WMAE) for Store 1 Dept 80 = 1485.3736158192085\n",
      "Weighted mean absolute error (WMAE) for Store 1 Dept 81 = 1857.0813559322032\n",
      "Weighted mean absolute error (WMAE) for Store 1 Dept 82 = 3690.7329943502823\n",
      "Weighted mean absolute error (WMAE) for Store 1 Dept 83 = 909.0933898305085\n",
      "Weighted mean absolute error (WMAE) for Store 1 Dept 85 = 699.4314689265537\n",
      "Weighted mean absolute error (WMAE) for Store 1 Dept 87 = 6350.765536723164\n",
      "Weighted mean absolute error (WMAE) for Store 1 Dept 90 = 7286.196892655366\n",
      "Weighted mean absolute error (WMAE) for Store 1 Dept 91 = 6783.72768361582\n",
      "Weighted mean absolute error (WMAE) for Store 1 Dept 92 = 16776.337853107343\n",
      "Weighted mean absolute error (WMAE) for Store 1 Dept 93 = 9335.339378531073\n",
      "Weighted mean absolute error (WMAE) for Store 1 Dept 94 = 5638.966271186441\n",
      "Weighted mean absolute error (WMAE) for Store 1 Dept 95 = 7958.306892655366\n",
      "Weighted mean absolute error (WMAE) for Store 1 Dept 96 = 3823.140705128205\n",
      "Weighted mean absolute error (WMAE) for Store 1 Dept 97 = 3745.686723163841\n",
      "Weighted mean absolute error (WMAE) for Store 1 Dept 98 = 2015.5310169491522\n",
      "Weighted mean absolute error (WMAE) for Store 1 Dept 99 = 562.5461818181818\n",
      "Weighted mean absolute error (WMAE) for Store 2 Dept 1 = 8673.094689265536\n",
      "Weighted mean absolute error (WMAE) for Store 2 Dept 2 = 5455.625536723163\n",
      "Weighted mean absolute error (WMAE) for Store 2 Dept 3 = 4711.632542372881\n"
     ]
    },
    {
     "name": "stderr",
     "output_type": "stream",
     "text": [
      "/home/ec2-user/anaconda3/envs/python3/lib/python3.6/site-packages/ipykernel/__main__.py:11: RuntimeWarning: divide by zero encountered in long_scalars\n",
      "/home/ec2-user/anaconda3/envs/python3/lib/python3.6/site-packages/ipykernel/__main__.py:11: RuntimeWarning: invalid value encountered in double_scalars\n"
     ]
    },
    {
     "name": "stdout",
     "output_type": "stream",
     "text": [
      "Weighted mean absolute error (WMAE) for Store 2 Dept 4 = 3835.5441242937854\n",
      "Weighted mean absolute error (WMAE) for Store 2 Dept 5 = 13714.555875706214\n",
      "Weighted mean absolute error (WMAE) for Store 2 Dept 6 = 3921.5690395480224\n",
      "Weighted mean absolute error (WMAE) for Store 2 Dept 7 = 21776.137570621468\n",
      "Weighted mean absolute error (WMAE) for Store 2 Dept 8 = 3447.4859322033894\n",
      "Weighted mean absolute error (WMAE) for Store 2 Dept 9 = 9183.121807909605\n",
      "Weighted mean absolute error (WMAE) for Store 2 Dept 10 = 3649.9128813559328\n",
      "Weighted mean absolute error (WMAE) for Store 2 Dept 11 = 4227.749152542372\n",
      "Weighted mean absolute error (WMAE) for Store 2 Dept 12 = 690.2178531073446\n",
      "Weighted mean absolute error (WMAE) for Store 2 Dept 13 = 2540.33593220339\n",
      "Weighted mean absolute error (WMAE) for Store 2 Dept 14 = 6905.82163841808\n",
      "Weighted mean absolute error (WMAE) for Store 2 Dept 16 = 4143.5599999999995\n",
      "Weighted mean absolute error (WMAE) for Store 2 Dept 17 = 2600.222429378531\n",
      "Weighted mean absolute error (WMAE) for Store 2 Dept 18 = 6848.95231292517\n",
      "Weighted mean absolute error (WMAE) for Store 2 Dept 19 = 611.0637853107344\n",
      "Weighted mean absolute error (WMAE) for Store 2 Dept 20 = 976.2655367231638\n",
      "Weighted mean absolute error (WMAE) for Store 2 Dept 21 = 1282.5207344632768\n",
      "Weighted mean absolute error (WMAE) for Store 2 Dept 22 = 3420.853050847458\n",
      "Weighted mean absolute error (WMAE) for Store 2 Dept 23 = 7691.571412429379\n",
      "Weighted mean absolute error (WMAE) for Store 2 Dept 24 = 3109.790621468927\n",
      "Weighted mean absolute error (WMAE) for Store 2 Dept 25 = 2714.4377966101692\n",
      "Weighted mean absolute error (WMAE) for Store 2 Dept 26 = 2166.3977966101697\n",
      "Weighted mean absolute error (WMAE) for Store 2 Dept 27 = 521.0705649717513\n",
      "Weighted mean absolute error (WMAE) for Store 2 Dept 28 = 137.10389830508475\n",
      "Weighted mean absolute error (WMAE) for Store 2 Dept 29 = 1558.8077401129942\n",
      "Weighted mean absolute error (WMAE) for Store 2 Dept 30 = 634.0633898305085\n",
      "Weighted mean absolute error (WMAE) for Store 2 Dept 31 = 1181.845197740113\n",
      "Weighted mean absolute error (WMAE) for Store 2 Dept 32 = 4908.89395480226\n",
      "Weighted mean absolute error (WMAE) for Store 2 Dept 33 = 2579.9670056497175\n",
      "Weighted mean absolute error (WMAE) for Store 2 Dept 34 = 2852.3793220338985\n",
      "Weighted mean absolute error (WMAE) for Store 2 Dept 35 = 697.7668361581921\n",
      "Weighted mean absolute error (WMAE) for Store 2 Dept 36 = 953.7977401129945\n",
      "Weighted mean absolute error (WMAE) for Store 2 Dept 37 = 496.81819209039554\n",
      "Weighted mean absolute error (WMAE) for Store 2 Dept 38 = 9667.202033898306\n",
      "Weighted mean absolute error (WMAE) for Store 2 Dept 40 = 4205.678192090395\n",
      "Weighted mean absolute error (WMAE) for Store 2 Dept 41 = 1137.0250847457628\n",
      "Weighted mean absolute error (WMAE) for Store 2 Dept 42 = 780.9290960451978\n",
      "Weighted mean absolute error (WMAE) for Store 2 Dept 44 = 1153.6431073446329\n",
      "Weighted mean absolute error (WMAE) for Store 2 Dept 45 = 35.029375\n",
      "Weighted mean absolute error (WMAE) for Store 2 Dept 46 = 4248.110169491525\n",
      "Weighted mean absolute error (WMAE) for Store 2 Dept 47 = 333.82142857142856\n",
      "Weighted mean absolute error (WMAE) for Store 2 Dept 48 = 1107.412485549133\n",
      "Weighted mean absolute error (WMAE) for Store 2 Dept 49 = 2600.8333898305086\n",
      "Weighted mean absolute error (WMAE) for Store 2 Dept 51 = 10.844000000000001\n",
      "Weighted mean absolute error (WMAE) for Store 2 Dept 52 = 847.6175706214689\n",
      "Weighted mean absolute error (WMAE) for Store 2 Dept 54 = 77.52783132530121\n",
      "Weighted mean absolute error (WMAE) for Store 2 Dept 55 = 5693.574971751413\n",
      "Weighted mean absolute error (WMAE) for Store 2 Dept 56 = 1406.8136158192092\n",
      "Weighted mean absolute error (WMAE) for Store 2 Dept 58 = 6499.263672316384\n",
      "Weighted mean absolute error (WMAE) for Store 2 Dept 59 = 906.9279096045198\n",
      "Weighted mean absolute error (WMAE) for Store 2 Dept 60 = 69.69787234042553\n",
      "Weighted mean absolute error (WMAE) for Store 2 Dept 67 = 3553.045310734463\n",
      "Weighted mean absolute error (WMAE) for Store 2 Dept 71 = 1341.4000564971752\n",
      "Weighted mean absolute error (WMAE) for Store 2 Dept 72 = 30903.522033898305\n",
      "Weighted mean absolute error (WMAE) for Store 2 Dept 74 = 2584.2558192090396\n",
      "Weighted mean absolute error (WMAE) for Store 2 Dept 78 = 7.42\n",
      "Weighted mean absolute error (WMAE) for Store 2 Dept 79 = 4688.521581920903\n",
      "Weighted mean absolute error (WMAE) for Store 2 Dept 80 = 1939.8819774011306\n",
      "Weighted mean absolute error (WMAE) for Store 2 Dept 81 = 1909.1241242937851\n",
      "Weighted mean absolute error (WMAE) for Store 2 Dept 82 = 6641.250225988701\n",
      "Weighted mean absolute error (WMAE) for Store 2 Dept 83 = 748.6402824858758\n",
      "Weighted mean absolute error (WMAE) for Store 2 Dept 85 = 734.8367231638418\n",
      "Weighted mean absolute error (WMAE) for Store 2 Dept 87 = 4316.499322033897\n",
      "Weighted mean absolute error (WMAE) for Store 2 Dept 90 = 8441.90220338983\n",
      "Weighted mean absolute error (WMAE) for Store 2 Dept 91 = 6288.27186440678\n",
      "Weighted mean absolute error (WMAE) for Store 2 Dept 92 = 17986.96350282486\n",
      "Weighted mean absolute error (WMAE) for Store 2 Dept 93 = 8574.17847457627\n",
      "Weighted mean absolute error (WMAE) for Store 2 Dept 94 = 6485.45836158192\n",
      "Weighted mean absolute error (WMAE) for Store 2 Dept 95 = 8164.482146892655\n",
      "Weighted mean absolute error (WMAE) for Store 2 Dept 96 = 3406.8219774011304\n",
      "Weighted mean absolute error (WMAE) for Store 2 Dept 97 = 3409.892824858757\n",
      "Weighted mean absolute error (WMAE) for Store 2 Dept 98 = 2257.631016949153\n",
      "Weighted mean absolute error (WMAE) for Store 2 Dept 99 = 974.463\n",
      "Weighted mean absolute error (WMAE) for Store 2 Dept 39 = 3.1199999999999997\n",
      "Global Weighted mean absolute error (WMAE) for these predicted series = 3838.8897039577423\n"
     ]
    }
   ],
   "source": [
    "total_sum_weights=[]\n",
    "total_sum_weighted_error=[]\n",
    "\n",
    "for store in train_df2['Store'].unique():\n",
    "    for dept in train_df2['Dept'].unique():\n",
    "        # Compute and print WMAE for each series\n",
    "        data_df = train_df2[(train_df2.Store == store)&(train_df2.Dept == dept)]\n",
    "        data_df['weighted_error']=data_df['IsHoliday']*abs(data_df['Weekly_Sales']-data_df['Last_Week_Sales'])\n",
    "        sum_weights = data_df.IsHoliday.sum()\n",
    "        sum_weighted_error = data_df.weighted_error.sum()\n",
    "        wmae = (1/sum_weights) * sum_weighted_error\n",
    "        \n",
    "        if str(wmae) != 'nan':\n",
    "            print('Weighted mean absolute error (WMAE) for Store {} Dept {} = {}'.format(str(store),str(dept),str(wmae)))\n",
    "            total_sum_weights.append(sum_weights)\n",
    "            total_sum_weighted_error.append(sum_weighted_error)\n",
    "        \n",
    "global_wmae = (1/sum(total_sum_weights)) * sum(total_sum_weighted_error)\n",
    "print('Global Weighted mean absolute error (WMAE) for these predicted series = {}'.format(str(global_wmae)))"
   ]
  },
  {
   "cell_type": "code",
   "execution_count": 18,
   "metadata": {},
   "outputs": [
    {
     "data": {
      "text/plain": [
       "<matplotlib.axes._subplots.AxesSubplot at 0x7f9a89d14438>"
      ]
     },
     "execution_count": 18,
     "metadata": {},
     "output_type": "execute_result"
    },
    {
     "data": {
      "image/png": "[encoded data removed]",
      "text/plain": [
       "<Figure size 720x360 with 1 Axes>"
      ]
     },
     "metadata": {},
     "output_type": "display_data"
    }
   ],
   "source": [
    "train_df2['Weekly_Sales'].hist(bins=20, figsize=(10,5))"
   ]
  },
  {
   "cell_type": "code",
   "execution_count": 96,
   "metadata": {},
   "outputs": [
    {
     "data": {
      "text/html": [
       "<div>\n",
       "<style scoped>\n",
       "    .dataframe tbody tr th:only-of-type {\n",
       "        vertical-align: middle;\n",
       "    }\n",
       "\n",
       "    .dataframe tbody tr th {\n",
       "        vertical-align: top;\n",
       "    }\n",
       "\n",
       "    .dataframe thead th {\n",
       "        text-align: right;\n",
       "    }\n",
       "</style>\n",
       "<table border=\"1\" class=\"dataframe\">\n",
       "  <thead>\n",
       "    <tr style=\"text-align: right;\">\n",
       "      <th></th>\n",
       "      <th>Store</th>\n",
       "      <th>Dept</th>\n",
       "      <th>Weekly_Sales</th>\n",
       "      <th>IsHoliday</th>\n",
       "      <th>Week</th>\n",
       "      <th>Year</th>\n",
       "    </tr>\n",
       "  </thead>\n",
       "  <tbody>\n",
       "    <tr>\n",
       "      <th>2</th>\n",
       "      <td>1</td>\n",
       "      <td>1</td>\n",
       "      <td>41595.55</td>\n",
       "      <td>1</td>\n",
       "      <td>7</td>\n",
       "      <td>2010</td>\n",
       "    </tr>\n",
       "    <tr>\n",
       "      <th>3</th>\n",
       "      <td>1</td>\n",
       "      <td>1</td>\n",
       "      <td>19403.54</td>\n",
       "      <td>1</td>\n",
       "      <td>8</td>\n",
       "      <td>2010</td>\n",
       "    </tr>\n",
       "    <tr>\n",
       "      <th>4</th>\n",
       "      <td>1</td>\n",
       "      <td>1</td>\n",
       "      <td>21827.90</td>\n",
       "      <td>1</td>\n",
       "      <td>9</td>\n",
       "      <td>2010</td>\n",
       "    </tr>\n",
       "    <tr>\n",
       "      <th>5</th>\n",
       "      <td>1</td>\n",
       "      <td>1</td>\n",
       "      <td>21043.39</td>\n",
       "      <td>1</td>\n",
       "      <td>10</td>\n",
       "      <td>2010</td>\n",
       "    </tr>\n",
       "    <tr>\n",
       "      <th>6</th>\n",
       "      <td>1</td>\n",
       "      <td>1</td>\n",
       "      <td>22136.64</td>\n",
       "      <td>1</td>\n",
       "      <td>11</td>\n",
       "      <td>2010</td>\n",
       "    </tr>\n",
       "  </tbody>\n",
       "</table>\n",
       "</div>"
      ],
      "text/plain": [
       "   Store  Dept  Weekly_Sales  IsHoliday  Week  Year\n",
       "2      1     1      41595.55          1     7  2010\n",
       "3      1     1      19403.54          1     8  2010\n",
       "4      1     1      21827.90          1     9  2010\n",
       "5      1     1      21043.39          1    10  2010\n",
       "6      1     1      22136.64          1    11  2010"
      ]
     },
     "execution_count": 96,
     "metadata": {},
     "output_type": "execute_result"
    }
   ],
   "source": [
    "train_df2.head()"
   ]
  },
  {
   "cell_type": "markdown",
   "metadata": {},
   "source": [
    "## RMSLE / Store/dept / Random Forest"
   ]
  },
  {
   "cell_type": "code",
   "execution_count": 109,
   "metadata": {},
   "outputs": [
    {
     "name": "stderr",
     "output_type": "stream",
     "text": [
      "/home/ec2-user/anaconda3/envs/python3/lib/python3.6/site-packages/ipykernel/__main__.py:8: UserWarning: Boolean Series key will be reindexed to match DataFrame index.\n"
     ]
    },
    {
     "name": "stdout",
     "output_type": "stream",
     "text": [
      "Store 1 - Dept 1 - Error 0.14986\n",
      "Store 1 - Dept 2 - Error 0.04491\n",
      "Store 1 - Dept 3 - Error 0.12888\n",
      "Store 1 - Dept 4 - Error 0.07398\n",
      "Store 1 - Dept 5 - Error 0.17700\n",
      "Store 1 - Dept 6 - Error 1.38767\n",
      "Store 1 - Dept 7 - Error 0.16937\n",
      "Store 1 - Dept 8 - Error 0.09792\n",
      "Store 1 - Dept 9 - Error 0.16778\n",
      "Store 1 - Dept 10 - Error 0.09762\n",
      "Store 1 - Dept 11 - Error 0.17792\n",
      "Store 1 - Dept 12 - Error 0.11332\n",
      "Store 1 - Dept 13 - Error 0.06699\n",
      "Store 1 - Dept 14 - Error 0.11154\n",
      "Store 1 - Dept 16 - Error 0.14441\n",
      "Store 1 - Dept 17 - Error 0.12696\n",
      "Store 1 - Dept 19 - Error 0.27807\n",
      "Store 1 - Dept 20 - Error 0.17965\n",
      "Store 1 - Dept 21 - Error 0.10481\n",
      "Store 1 - Dept 22 - Error 0.15845\n",
      "Store 1 - Dept 23 - Error 0.11593\n",
      "Store 1 - Dept 24 - Error 0.23440\n",
      "Store 1 - Dept 25 - Error 0.12477\n",
      "Store 1 - Dept 26 - Error 0.18144\n",
      "Store 1 - Dept 27 - Error 0.19762\n",
      "Store 1 - Dept 28 - Error 0.20686\n",
      "Store 1 - Dept 29 - Error 0.10390\n",
      "Store 1 - Dept 30 - Error 0.21859\n",
      "Store 1 - Dept 31 - Error 0.37992\n",
      "Store 1 - Dept 32 - Error 0.19848\n",
      "Store 1 - Dept 33 - Error 0.20844\n",
      "Store 1 - Dept 34 - Error 0.15282\n",
      "Store 1 - Dept 35 - Error 0.22765\n",
      "Store 1 - Dept 36 - Error 0.49922\n",
      "Store 1 - Dept 37 - Error 0.12788\n",
      "Store 1 - Dept 38 - Error 0.10392\n",
      "Store 1 - Dept 40 - Error 0.04668\n",
      "Store 1 - Dept 41 - Error 0.41219\n",
      "Store 1 - Dept 42 - Error 0.10751\n",
      "Store 1 - Dept 44 - Error 0.11056\n",
      "Store 1 - Dept 46 - Error 0.06173\n",
      "Store 1 - Dept 49 - Error 0.17165\n",
      "Store 1 - Dept 52 - Error 0.23624\n",
      "Store 1 - Dept 55 - Error 0.13534\n",
      "Store 1 - Dept 56 - Error 0.17860\n",
      "Store 1 - Dept 58 - Error 0.57081\n",
      "Store 1 - Dept 59 - Error 0.42710\n",
      "Store 1 - Dept 60 - Error 0.17980\n",
      "Store 1 - Dept 67 - Error 0.23296\n",
      "Store 1 - Dept 71 - Error 0.30979\n",
      "Store 1 - Dept 72 - Error 0.17942\n",
      "Store 1 - Dept 74 - Error 0.12357\n",
      "Store 1 - Dept 79 - Error 0.17987\n",
      "Store 1 - Dept 80 - Error 0.10274\n",
      "Store 1 - Dept 81 - Error 0.07663\n",
      "Store 1 - Dept 82 - Error 0.08559\n",
      "Store 1 - Dept 83 - Error 0.17467\n",
      "Store 1 - Dept 85 - Error 0.15450\n",
      "Store 1 - Dept 87 - Error 0.11507\n",
      "Store 1 - Dept 90 - Error 0.05806\n",
      "Store 1 - Dept 91 - Error 0.09314\n",
      "Store 1 - Dept 92 - Error 0.09222\n",
      "Store 1 - Dept 93 - Error 0.10523\n",
      "Store 1 - Dept 94 - Error 0.07085\n",
      "Store 1 - Dept 95 - Error 0.06067\n",
      "Store 1 - Dept 96 - Error 0.13067\n",
      "Store 1 - Dept 97 - Error 0.06734\n",
      "Store 1 - Dept 98 - Error 0.09398\n",
      "Store 2 - Dept 1 - Error 0.16047\n",
      "Store 2 - Dept 2 - Error 0.04542\n",
      "Store 2 - Dept 3 - Error 0.13883\n",
      "Store 2 - Dept 4 - Error 0.05267\n",
      "Store 2 - Dept 5 - Error 0.18688\n",
      "Store 2 - Dept 6 - Error 0.27213\n",
      "Store 2 - Dept 7 - Error 0.15346\n",
      "Store 2 - Dept 8 - Error 0.05188\n",
      "Store 2 - Dept 9 - Error 0.14952\n",
      "Store 2 - Dept 10 - Error 0.06698\n",
      "Store 2 - Dept 11 - Error 0.19165\n",
      "Store 2 - Dept 12 - Error 0.09894\n",
      "Store 2 - Dept 13 - Error 0.05385\n",
      "Store 2 - Dept 14 - Error 0.12045\n",
      "Store 2 - Dept 16 - Error 0.17554\n",
      "Store 2 - Dept 17 - Error 0.09614\n",
      "Store 2 - Dept 19 - Error 0.14044\n",
      "Store 2 - Dept 20 - Error 0.11255\n",
      "Store 2 - Dept 21 - Error 0.09281\n",
      "Store 2 - Dept 22 - Error 0.12309\n",
      "Store 2 - Dept 23 - Error 0.13110\n",
      "Store 2 - Dept 24 - Error 0.18500\n",
      "Store 2 - Dept 25 - Error 0.11691\n",
      "Store 2 - Dept 26 - Error 0.15831\n",
      "Store 2 - Dept 27 - Error 0.16622\n",
      "Store 2 - Dept 28 - Error 0.15257\n",
      "Store 2 - Dept 29 - Error 0.10522\n",
      "Store 2 - Dept 30 - Error 0.16496\n",
      "Store 2 - Dept 31 - Error 0.22192\n",
      "Store 2 - Dept 32 - Error 0.20992\n",
      "Store 2 - Dept 33 - Error 0.22434\n",
      "Store 2 - Dept 34 - Error 0.12197\n",
      "Store 2 - Dept 35 - Error 0.21914\n",
      "Store 2 - Dept 36 - Error 0.34565\n",
      "Store 2 - Dept 37 - Error 0.10837\n",
      "Store 2 - Dept 38 - Error 0.19672\n",
      "Store 2 - Dept 40 - Error 0.04504\n",
      "Store 2 - Dept 41 - Error 0.37174\n",
      "Store 2 - Dept 42 - Error 0.07248\n",
      "Store 2 - Dept 44 - Error 0.14294\n",
      "Store 2 - Dept 46 - Error 0.05212\n",
      "Store 2 - Dept 49 - Error 0.15285\n",
      "Store 2 - Dept 52 - Error 0.17550\n",
      "Store 2 - Dept 55 - Error 0.16294\n",
      "Store 2 - Dept 56 - Error 0.29867\n",
      "Store 2 - Dept 58 - Error 0.30648\n",
      "Store 2 - Dept 59 - Error 0.29044\n",
      "Store 2 - Dept 60 - Error 0.26565\n",
      "Store 2 - Dept 67 - Error 0.24168\n",
      "Store 2 - Dept 71 - Error 0.17876\n",
      "Store 2 - Dept 72 - Error 0.15684\n",
      "Store 2 - Dept 74 - Error 0.08977\n",
      "Store 2 - Dept 79 - Error 0.12175\n",
      "Store 2 - Dept 80 - Error 0.05225\n",
      "Store 2 - Dept 81 - Error 0.06306\n",
      "Store 2 - Dept 82 - Error 0.10272\n",
      "Store 2 - Dept 83 - Error 0.11176\n",
      "Store 2 - Dept 85 - Error 0.18251\n",
      "Store 2 - Dept 87 - Error 0.18687\n",
      "Store 2 - Dept 90 - Error 0.05386\n",
      "Store 2 - Dept 91 - Error 0.04697\n",
      "Store 2 - Dept 92 - Error 0.08971\n",
      "Store 2 - Dept 93 - Error 0.13300\n",
      "Store 2 - Dept 94 - Error 0.08988\n",
      "Store 2 - Dept 95 - Error 0.05272\n",
      "Store 2 - Dept 96 - Error 0.10999\n",
      "Store 2 - Dept 97 - Error 0.06042\n",
      "Store 2 - Dept 98 - Error 0.13060\n",
      "Mean Error = 0.16388\n"
     ]
    }
   ],
   "source": [
    "mean_error = []\n",
    "week = 8\n",
    "\n",
    "# train_df2 = train_df2.drop(['Last_Week_Sales','Last_Week_Diff'], axis=1)\n",
    "\n",
    "train2010 = train_df2[train_df2['Year'] == 2010]\n",
    "train2011 = train_df2[train_df2['Year'] == 2011]\n",
    "train2012 = train_df2[(train_df['Year'] == 2012) & (train_df2['Week'] < week)]\n",
    "train = train2010.append(train2011).append(train2012)\n",
    "\n",
    "val = train_df2[(train_df2['Week'] >= week) & (train_df2['Year'] == 2012)]\n",
    "\n",
    "for store in train_df2['Store'].unique():\n",
    "    for dept in train_df2['Dept'].unique():\n",
    "        \n",
    "        train_sd = train[(train.Store == store)&(train.Dept == dept)]\n",
    "        val_sd = val[(val.Store == store)&(val.Dept == dept)]\n",
    "  \n",
    "        xtr, xts = train_sd.drop(['Weekly_Sales'], axis=1), val_sd.drop(['Weekly_Sales'], axis=1)\n",
    "        ytr, yts = train_sd['Weekly_Sales'].values, val_sd['Weekly_Sales'].values\n",
    "\n",
    "        mdl = RandomForestRegressor(n_estimators=100, n_jobs=-1, random_state=0)\n",
    "        if len(xtr)>35:\n",
    "            mdl.fit(xtr, ytr)\n",
    "        \n",
    "            if len(xts)>35:\n",
    "                p = mdl.predict(xts)\n",
    "\n",
    "                if len(p)>0:\n",
    "                    error = rmsle(yts, p)\n",
    "                    print('Store %d - Dept %d - Error %.5f' % (store, dept, error))\n",
    "                    mean_error.append(error)\n",
    "                \n",
    "print('Mean Error = %.5f' % np.mean(mean_error))"
   ]
  },
  {
   "cell_type": "markdown",
   "metadata": {},
   "source": [
    "## WIP / WMAE / Store/dept / Random Forest"
   ]
  },
  {
   "cell_type": "code",
   "execution_count": null,
   "metadata": {},
   "outputs": [],
   "source": [
    "mean_error = []\n",
    "week = 8\n",
    "\n",
    "# train_df2 = train_df2.drop(['Last_Week_Sales','Last_Week_Diff'], axis=1)\n",
    "\n",
    "train2010 = train_df2[train_df2['Year'] == 2010]\n",
    "train2011 = train_df2[train_df2['Year'] == 2011]\n",
    "train2012 = train_df2[(train_df['Year'] == 2012) & (train_df2['Week'] < week)]\n",
    "train = train2010.append(train2011).append(train2012)\n",
    "\n",
    "val = train_df2[(train_df2['Week'] >= week) & (train_df2['Year'] == 2012)]\n",
    "\n",
    "for store in train_df2['Store'].unique():\n",
    "    for dept in train_df2['Dept'].unique():\n",
    "        \n",
    "        train_sd = train[(train.Store == store)&(train.Dept == dept)]\n",
    "        val_sd = val[(val.Store == store)&(val.Dept == dept)]\n",
    "  \n",
    "        xtr, xts = train_sd.drop(['Weekly_Sales'], axis=1), val_sd.drop(['Weekly_Sales'], axis=1)\n",
    "        ytr, yts = train_sd['Weekly_Sales'].values, val_sd['Weekly_Sales'].values\n",
    "\n",
    "        mdl = RandomForestRegressor(n_estimators=100, n_jobs=-1, random_state=0)\n",
    "        if len(xtr)>35:\n",
    "            mdl.fit(xtr, ytr)\n",
    "        \n",
    "            if len(xts)>35:\n",
    "                p = mdl.predict(xts)\n",
    "\n",
    "                if len(p)>0:\n",
    "                    error = rmsle(yts, p)\n",
    "                    print('Store %d - Dept %d - Error %.5f' % (store, dept, error))\n",
    "                    mean_error.append(error)\n",
    "                \n",
    "print('Mean Error = %.5f' % np.mean(mean_error))\n",
    "\n",
    "\n",
    "\n",
    "\n",
    "data_df['weighted_error']=data_df['IsHoliday']*abs(data_df['Weekly_Sales']-data_df['Last_Week_Sales'])\n",
    "        sum_weights = data_df.IsHoliday.sum()\n",
    "        sum_weighted_error = data_df.weighted_error.sum()\n",
    "        wmae = (1/sum_weights) * sum_weighted_error\n",
    "        \n",
    "        if str(wmae) != 'nan':\n",
    "            print('Weighted mean absolute error (WMAE) for Store {} Dept {} = {}'.format(str(store),str(dept),str(wmae)))\n",
    "            total_sum_weights.append(sum_weights)\n",
    "            total_sum_weighted_error.append(sum_weighted_error)\n",
    "        \n",
    "global_wmae = (1/sum(total_sum_weights)) * sum(total_sum_weighted_error)\n",
    "print('Global Weighted mean absolute error (WMAE) for these predicted series = {}'.format(str(global_wmae)))"
   ]
  },
  {
   "cell_type": "code",
   "execution_count": 76,
   "metadata": {},
   "outputs": [
    {
     "name": "stderr",
     "output_type": "stream",
     "text": [
      "/home/ec2-user/anaconda3/envs/python3/lib/python3.6/site-packages/ipykernel/__main__.py:6: UserWarning: Boolean Series key will be reindexed to match DataFrame index.\n"
     ]
    },
    {
     "name": "stdout",
     "output_type": "stream",
     "text": [
      "Week 8 - Error 0.60218\n"
     ]
    },
    {
     "name": "stderr",
     "output_type": "stream",
     "text": [
      "/home/ec2-user/anaconda3/envs/python3/lib/python3.6/site-packages/ipykernel/__main__.py:6: UserWarning: Boolean Series key will be reindexed to match DataFrame index.\n"
     ]
    },
    {
     "name": "stdout",
     "output_type": "stream",
     "text": [
      "Week 9 - Error 0.37971\n"
     ]
    },
    {
     "name": "stderr",
     "output_type": "stream",
     "text": [
      "/home/ec2-user/anaconda3/envs/python3/lib/python3.6/site-packages/ipykernel/__main__.py:6: UserWarning: Boolean Series key will be reindexed to match DataFrame index.\n"
     ]
    },
    {
     "name": "stdout",
     "output_type": "stream",
     "text": [
      "Week 10 - Error 0.34465\n"
     ]
    },
    {
     "name": "stderr",
     "output_type": "stream",
     "text": [
      "/home/ec2-user/anaconda3/envs/python3/lib/python3.6/site-packages/ipykernel/__main__.py:6: UserWarning: Boolean Series key will be reindexed to match DataFrame index.\n"
     ]
    },
    {
     "name": "stdout",
     "output_type": "stream",
     "text": [
      "Week 11 - Error 0.29093\n"
     ]
    },
    {
     "name": "stderr",
     "output_type": "stream",
     "text": [
      "/home/ec2-user/anaconda3/envs/python3/lib/python3.6/site-packages/ipykernel/__main__.py:6: UserWarning: Boolean Series key will be reindexed to match DataFrame index.\n"
     ]
    },
    {
     "name": "stdout",
     "output_type": "stream",
     "text": [
      "Week 12 - Error 0.68167\n"
     ]
    },
    {
     "name": "stderr",
     "output_type": "stream",
     "text": [
      "/home/ec2-user/anaconda3/envs/python3/lib/python3.6/site-packages/ipykernel/__main__.py:6: UserWarning: Boolean Series key will be reindexed to match DataFrame index.\n"
     ]
    },
    {
     "name": "stdout",
     "output_type": "stream",
     "text": [
      "Week 13 - Error 0.20401\n"
     ]
    },
    {
     "name": "stderr",
     "output_type": "stream",
     "text": [
      "/home/ec2-user/anaconda3/envs/python3/lib/python3.6/site-packages/ipykernel/__main__.py:6: UserWarning: Boolean Series key will be reindexed to match DataFrame index.\n"
     ]
    },
    {
     "name": "stdout",
     "output_type": "stream",
     "text": [
      "Week 14 - Error 0.34093\n"
     ]
    },
    {
     "name": "stderr",
     "output_type": "stream",
     "text": [
      "/home/ec2-user/anaconda3/envs/python3/lib/python3.6/site-packages/ipykernel/__main__.py:6: UserWarning: Boolean Series key will be reindexed to match DataFrame index.\n"
     ]
    },
    {
     "name": "stdout",
     "output_type": "stream",
     "text": [
      "Week 15 - Error 0.48233\n"
     ]
    },
    {
     "name": "stderr",
     "output_type": "stream",
     "text": [
      "/home/ec2-user/anaconda3/envs/python3/lib/python3.6/site-packages/ipykernel/__main__.py:6: UserWarning: Boolean Series key will be reindexed to match DataFrame index.\n"
     ]
    },
    {
     "name": "stdout",
     "output_type": "stream",
     "text": [
      "Week 16 - Error 0.62174\n"
     ]
    },
    {
     "name": "stderr",
     "output_type": "stream",
     "text": [
      "/home/ec2-user/anaconda3/envs/python3/lib/python3.6/site-packages/ipykernel/__main__.py:6: UserWarning: Boolean Series key will be reindexed to match DataFrame index.\n"
     ]
    },
    {
     "name": "stdout",
     "output_type": "stream",
     "text": [
      "Week 17 - Error 0.69414\n"
     ]
    },
    {
     "name": "stderr",
     "output_type": "stream",
     "text": [
      "/home/ec2-user/anaconda3/envs/python3/lib/python3.6/site-packages/ipykernel/__main__.py:6: UserWarning: Boolean Series key will be reindexed to match DataFrame index.\n"
     ]
    },
    {
     "name": "stdout",
     "output_type": "stream",
     "text": [
      "Week 18 - Error 0.42416\n"
     ]
    },
    {
     "name": "stderr",
     "output_type": "stream",
     "text": [
      "/home/ec2-user/anaconda3/envs/python3/lib/python3.6/site-packages/ipykernel/__main__.py:6: UserWarning: Boolean Series key will be reindexed to match DataFrame index.\n"
     ]
    },
    {
     "name": "stdout",
     "output_type": "stream",
     "text": [
      "Week 19 - Error 0.37150\n"
     ]
    },
    {
     "name": "stderr",
     "output_type": "stream",
     "text": [
      "/home/ec2-user/anaconda3/envs/python3/lib/python3.6/site-packages/ipykernel/__main__.py:6: UserWarning: Boolean Series key will be reindexed to match DataFrame index.\n"
     ]
    },
    {
     "name": "stdout",
     "output_type": "stream",
     "text": [
      "Week 20 - Error 0.29840\n"
     ]
    },
    {
     "name": "stderr",
     "output_type": "stream",
     "text": [
      "/home/ec2-user/anaconda3/envs/python3/lib/python3.6/site-packages/ipykernel/__main__.py:6: UserWarning: Boolean Series key will be reindexed to match DataFrame index.\n"
     ]
    },
    {
     "name": "stdout",
     "output_type": "stream",
     "text": [
      "Week 21 - Error 0.28138\n"
     ]
    },
    {
     "name": "stderr",
     "output_type": "stream",
     "text": [
      "/home/ec2-user/anaconda3/envs/python3/lib/python3.6/site-packages/ipykernel/__main__.py:6: UserWarning: Boolean Series key will be reindexed to match DataFrame index.\n"
     ]
    },
    {
     "name": "stdout",
     "output_type": "stream",
     "text": [
      "Week 22 - Error 0.30186\n"
     ]
    },
    {
     "name": "stderr",
     "output_type": "stream",
     "text": [
      "/home/ec2-user/anaconda3/envs/python3/lib/python3.6/site-packages/ipykernel/__main__.py:6: UserWarning: Boolean Series key will be reindexed to match DataFrame index.\n"
     ]
    },
    {
     "name": "stdout",
     "output_type": "stream",
     "text": [
      "Week 23 - Error 0.41702\n"
     ]
    },
    {
     "name": "stderr",
     "output_type": "stream",
     "text": [
      "/home/ec2-user/anaconda3/envs/python3/lib/python3.6/site-packages/ipykernel/__main__.py:6: UserWarning: Boolean Series key will be reindexed to match DataFrame index.\n"
     ]
    },
    {
     "name": "stdout",
     "output_type": "stream",
     "text": [
      "Week 24 - Error 0.20046\n"
     ]
    },
    {
     "name": "stderr",
     "output_type": "stream",
     "text": [
      "/home/ec2-user/anaconda3/envs/python3/lib/python3.6/site-packages/ipykernel/__main__.py:6: UserWarning: Boolean Series key will be reindexed to match DataFrame index.\n"
     ]
    },
    {
     "name": "stdout",
     "output_type": "stream",
     "text": [
      "Week 25 - Error 0.29387\n"
     ]
    },
    {
     "name": "stderr",
     "output_type": "stream",
     "text": [
      "/home/ec2-user/anaconda3/envs/python3/lib/python3.6/site-packages/ipykernel/__main__.py:6: UserWarning: Boolean Series key will be reindexed to match DataFrame index.\n"
     ]
    },
    {
     "name": "stdout",
     "output_type": "stream",
     "text": [
      "Week 26 - Error 0.51912\n"
     ]
    },
    {
     "name": "stderr",
     "output_type": "stream",
     "text": [
      "/home/ec2-user/anaconda3/envs/python3/lib/python3.6/site-packages/ipykernel/__main__.py:6: UserWarning: Boolean Series key will be reindexed to match DataFrame index.\n"
     ]
    },
    {
     "name": "stdout",
     "output_type": "stream",
     "text": [
      "Week 27 - Error 0.66454\n"
     ]
    },
    {
     "name": "stderr",
     "output_type": "stream",
     "text": [
      "/home/ec2-user/anaconda3/envs/python3/lib/python3.6/site-packages/ipykernel/__main__.py:6: UserWarning: Boolean Series key will be reindexed to match DataFrame index.\n"
     ]
    },
    {
     "name": "stdout",
     "output_type": "stream",
     "text": [
      "Week 28 - Error 0.64420\n"
     ]
    },
    {
     "name": "stderr",
     "output_type": "stream",
     "text": [
      "/home/ec2-user/anaconda3/envs/python3/lib/python3.6/site-packages/ipykernel/__main__.py:6: UserWarning: Boolean Series key will be reindexed to match DataFrame index.\n"
     ]
    },
    {
     "name": "stdout",
     "output_type": "stream",
     "text": [
      "Week 29 - Error 0.61010\n"
     ]
    },
    {
     "name": "stderr",
     "output_type": "stream",
     "text": [
      "/home/ec2-user/anaconda3/envs/python3/lib/python3.6/site-packages/ipykernel/__main__.py:6: UserWarning: Boolean Series key will be reindexed to match DataFrame index.\n"
     ]
    },
    {
     "name": "stdout",
     "output_type": "stream",
     "text": [
      "Week 30 - Error 0.71098\n"
     ]
    },
    {
     "name": "stderr",
     "output_type": "stream",
     "text": [
      "/home/ec2-user/anaconda3/envs/python3/lib/python3.6/site-packages/ipykernel/__main__.py:6: UserWarning: Boolean Series key will be reindexed to match DataFrame index.\n"
     ]
    },
    {
     "name": "stdout",
     "output_type": "stream",
     "text": [
      "Week 31 - Error 0.35417\n"
     ]
    },
    {
     "name": "stderr",
     "output_type": "stream",
     "text": [
      "/home/ec2-user/anaconda3/envs/python3/lib/python3.6/site-packages/ipykernel/__main__.py:6: UserWarning: Boolean Series key will be reindexed to match DataFrame index.\n"
     ]
    },
    {
     "name": "stdout",
     "output_type": "stream",
     "text": [
      "Week 32 - Error 0.84214\n"
     ]
    },
    {
     "name": "stderr",
     "output_type": "stream",
     "text": [
      "/home/ec2-user/anaconda3/envs/python3/lib/python3.6/site-packages/ipykernel/__main__.py:6: UserWarning: Boolean Series key will be reindexed to match DataFrame index.\n"
     ]
    },
    {
     "name": "stdout",
     "output_type": "stream",
     "text": [
      "Week 33 - Error 0.61835\n"
     ]
    },
    {
     "name": "stderr",
     "output_type": "stream",
     "text": [
      "/home/ec2-user/anaconda3/envs/python3/lib/python3.6/site-packages/ipykernel/__main__.py:6: UserWarning: Boolean Series key will be reindexed to match DataFrame index.\n"
     ]
    },
    {
     "name": "stdout",
     "output_type": "stream",
     "text": [
      "Week 34 - Error 0.44968\n"
     ]
    },
    {
     "name": "stderr",
     "output_type": "stream",
     "text": [
      "/home/ec2-user/anaconda3/envs/python3/lib/python3.6/site-packages/ipykernel/__main__.py:6: UserWarning: Boolean Series key will be reindexed to match DataFrame index.\n"
     ]
    },
    {
     "name": "stdout",
     "output_type": "stream",
     "text": [
      "Week 35 - Error 0.39802\n"
     ]
    },
    {
     "name": "stderr",
     "output_type": "stream",
     "text": [
      "/home/ec2-user/anaconda3/envs/python3/lib/python3.6/site-packages/ipykernel/__main__.py:6: UserWarning: Boolean Series key will be reindexed to match DataFrame index.\n"
     ]
    },
    {
     "name": "stdout",
     "output_type": "stream",
     "text": [
      "Week 36 - Error 0.90392\n"
     ]
    },
    {
     "name": "stderr",
     "output_type": "stream",
     "text": [
      "/home/ec2-user/anaconda3/envs/python3/lib/python3.6/site-packages/ipykernel/__main__.py:6: UserWarning: Boolean Series key will be reindexed to match DataFrame index.\n"
     ]
    },
    {
     "name": "stdout",
     "output_type": "stream",
     "text": [
      "Week 37 - Error 0.49368\n"
     ]
    },
    {
     "name": "stderr",
     "output_type": "stream",
     "text": [
      "/home/ec2-user/anaconda3/envs/python3/lib/python3.6/site-packages/ipykernel/__main__.py:6: UserWarning: Boolean Series key will be reindexed to match DataFrame index.\n"
     ]
    },
    {
     "name": "stdout",
     "output_type": "stream",
     "text": [
      "Week 38 - Error 0.22389\n"
     ]
    },
    {
     "name": "stderr",
     "output_type": "stream",
     "text": [
      "/home/ec2-user/anaconda3/envs/python3/lib/python3.6/site-packages/ipykernel/__main__.py:6: UserWarning: Boolean Series key will be reindexed to match DataFrame index.\n"
     ]
    },
    {
     "name": "stdout",
     "output_type": "stream",
     "text": [
      "Week 39 - Error 0.30956\n"
     ]
    },
    {
     "name": "stderr",
     "output_type": "stream",
     "text": [
      "/home/ec2-user/anaconda3/envs/python3/lib/python3.6/site-packages/ipykernel/__main__.py:6: UserWarning: Boolean Series key will be reindexed to match DataFrame index.\n"
     ]
    },
    {
     "name": "stdout",
     "output_type": "stream",
     "text": [
      "Week 40 - Error 0.42446\n"
     ]
    },
    {
     "name": "stderr",
     "output_type": "stream",
     "text": [
      "/home/ec2-user/anaconda3/envs/python3/lib/python3.6/site-packages/ipykernel/__main__.py:6: UserWarning: Boolean Series key will be reindexed to match DataFrame index.\n"
     ]
    },
    {
     "name": "stdout",
     "output_type": "stream",
     "text": [
      "Week 41 - Error 0.38238\n"
     ]
    },
    {
     "name": "stderr",
     "output_type": "stream",
     "text": [
      "/home/ec2-user/anaconda3/envs/python3/lib/python3.6/site-packages/ipykernel/__main__.py:6: UserWarning: Boolean Series key will be reindexed to match DataFrame index.\n"
     ]
    },
    {
     "name": "stdout",
     "output_type": "stream",
     "text": [
      "Week 42 - Error 0.26348\n",
      "Mean Error = 0.45839\n"
     ]
    }
   ],
   "source": [
    "mean_error = []\n",
    "for week in range(8,43):\n",
    "\n",
    "    train2010 = train_df2[train_df2['Year'] == 2010]\n",
    "    train2011 = train_df2[train_df2['Year'] == 2011]\n",
    "    train2012 = train_df2[(train_df['Year'] == 2012) & (train_df2['Week'] < week)]\n",
    "    train = train2010.append(train2011).append(train2012)\n",
    "    \n",
    "    val = train_df2[(train_df2['Week'] == week) & (train_df2['Year'] == 2012)]\n",
    "    \n",
    "\n",
    "    xtr, xts = train.drop(['Weekly_Sales'], axis=1), val.drop(['Weekly_Sales'], axis=1)\n",
    "    ytr, yts = train['Weekly_Sales'].values, val['Weekly_Sales'].values\n",
    "\n",
    "    mdl = RandomForestRegressor(n_estimators=100, n_jobs=-1, random_state=0)\n",
    "    mdl.fit(xtr, ytr)\n",
    "\n",
    "    p = mdl.predict(xts)\n",
    "\n",
    "    error = rmsle(yts, p)\n",
    "    print('Week %d - Error %.5f' % (week, error))\n",
    "    mean_error.append(error)\n",
    "print('Mean Error = %.5f' % np.mean(mean_error))"
   ]
  },
  {
   "cell_type": "code",
   "execution_count": null,
   "metadata": {},
   "outputs": [],
   "source": []
  }
 ],
 "metadata": {
  "kernelspec": {
   "display_name": "conda_python3",
   "language": "python",
   "name": "conda_python3"
  },
  "language_info": {
   "codemirror_mode": {
    "name": "ipython",
    "version": 3
   },
   "file_extension": ".py",
   "mimetype": "text/x-python",
   "name": "python",
   "nbconvert_exporter": "python",
   "pygments_lexer": "ipython3",
   "version": "3.6.5"
  }
 },
 "nbformat": 4,
 "nbformat_minor": 4
}
