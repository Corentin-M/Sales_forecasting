{
 "cells": [
  {
   "cell_type": "markdown",
   "metadata": {},
   "source": [
    "In this Notebook we will follow the same steps than Benchmark_and_RandomForest_Model Notebook  \n",
    "but making some change manually to the data to test the robustness of RF model"
   ]
  },
  {
   "cell_type": "code",
   "execution_count": 2,
   "metadata": {},
   "outputs": [],
   "source": [
    "# import libraries\n",
    "import pandas as pd\n",
    "import numpy as np\n",
    "import matplotlib.pyplot as plt\n",
    "from datetime import datetime\n",
    "from sklearn.ensemble import RandomForestRegressor"
   ]
  },
  {
   "cell_type": "code",
   "execution_count": 3,
   "metadata": {},
   "outputs": [
    {
     "data": {
      "text/html": [
       "<div>\n",
       "<style scoped>\n",
       "    .dataframe tbody tr th:only-of-type {\n",
       "        vertical-align: middle;\n",
       "    }\n",
       "\n",
       "    .dataframe tbody tr th {\n",
       "        vertical-align: top;\n",
       "    }\n",
       "\n",
       "    .dataframe thead th {\n",
       "        text-align: right;\n",
       "    }\n",
       "</style>\n",
       "<table border=\"1\" class=\"dataframe\">\n",
       "  <thead>\n",
       "    <tr style=\"text-align: right;\">\n",
       "      <th></th>\n",
       "      <th>Store</th>\n",
       "      <th>Dept</th>\n",
       "      <th>Weekly_Sales</th>\n",
       "      <th>IsHoliday</th>\n",
       "      <th>Week</th>\n",
       "      <th>Year</th>\n",
       "    </tr>\n",
       "  </thead>\n",
       "  <tbody>\n",
       "    <tr>\n",
       "      <th>0</th>\n",
       "      <td>1</td>\n",
       "      <td>1</td>\n",
       "      <td>24924.50</td>\n",
       "      <td>1</td>\n",
       "      <td>5</td>\n",
       "      <td>2010</td>\n",
       "    </tr>\n",
       "    <tr>\n",
       "      <th>1</th>\n",
       "      <td>1</td>\n",
       "      <td>1</td>\n",
       "      <td>46039.49</td>\n",
       "      <td>5</td>\n",
       "      <td>6</td>\n",
       "      <td>2010</td>\n",
       "    </tr>\n",
       "    <tr>\n",
       "      <th>2</th>\n",
       "      <td>1</td>\n",
       "      <td>1</td>\n",
       "      <td>41595.55</td>\n",
       "      <td>1</td>\n",
       "      <td>7</td>\n",
       "      <td>2010</td>\n",
       "    </tr>\n",
       "    <tr>\n",
       "      <th>3</th>\n",
       "      <td>1</td>\n",
       "      <td>1</td>\n",
       "      <td>19403.54</td>\n",
       "      <td>1</td>\n",
       "      <td>8</td>\n",
       "      <td>2010</td>\n",
       "    </tr>\n",
       "    <tr>\n",
       "      <th>4</th>\n",
       "      <td>1</td>\n",
       "      <td>1</td>\n",
       "      <td>21827.90</td>\n",
       "      <td>1</td>\n",
       "      <td>9</td>\n",
       "      <td>2010</td>\n",
       "    </tr>\n",
       "  </tbody>\n",
       "</table>\n",
       "</div>"
      ],
      "text/plain": [
       "   Store  Dept  Weekly_Sales  IsHoliday  Week  Year\n",
       "0      1     1      24924.50          1     5  2010\n",
       "1      1     1      46039.49          5     6  2010\n",
       "2      1     1      41595.55          1     7  2010\n",
       "3      1     1      19403.54          1     8  2010\n",
       "4      1     1      21827.90          1     9  2010"
      ]
     },
     "execution_count": 3,
     "metadata": {},
     "output_type": "execute_result"
    }
   ],
   "source": [
    "train_file = 'data/train.csv'\n",
    "train_df = pd.read_csv(train_file)\n",
    "\n",
    "# Replace Date column by Week and Year column because we get one data per week\n",
    "train_df['Date'] = pd.to_datetime(train_df['Date'])\n",
    "train_df['Week'] = train_df.Date.apply(lambda x: x.weekofyear)\n",
    "train_df['Year'] = train_df.Date.apply(lambda x: x.year)\n",
    "train_df = train_df.drop(['Date'], axis=1)\n",
    "\n",
    "# Set missing value to 0\n",
    "train_df.fillna(0, inplace=True)\n",
    "\n",
    "# Set negative sales to 0\n",
    "train_df.loc[train_df['Weekly_Sales'] < 0, 'Weekly_Sales'] = 0\n",
    "\n",
    "# In competition evaluation, weights in WMAE are 5 if week is holiday, 1 otherwise\n",
    "train_df['IsHoliday'].replace([False,True], [1,5], inplace = True)\n",
    "\n",
    "train_df.head()"
   ]
  },
  {
   "cell_type": "markdown",
   "metadata": {},
   "source": [
    "## Change one point to a high value"
   ]
  },
  {
   "cell_type": "code",
   "execution_count": 16,
   "metadata": {},
   "outputs": [
    {
     "name": "stdout",
     "output_type": "stream",
     "text": [
      "449    34454.69\n",
      "Name: Weekly_Sales, dtype: float64\n",
      "449    300000.0\n",
      "Name: Weekly_Sales, dtype: float64\n"
     ]
    }
   ],
   "source": [
    "# test robustness by changing weekly sales of week 25 to an about 10 times higher value\n",
    "print(train_df.loc[(train_df.Store == 1) & (train_df.Dept == 4) & (train_df.Week == 25) & (train_df.Year == 2010),'Weekly_Sales'])\n",
    "train_df.loc[(train_df.Store == 1) & (train_df.Dept == 4) & (train_df.Week == 25) & (train_df.Year == 2010),'Weekly_Sales'] = 300000\n",
    "print(train_df.loc[(train_df.Store == 1) & (train_df.Dept == 4) & (train_df.Week == 25) & (train_df.Year == 2010),'Weekly_Sales'])"
   ]
  },
  {
   "cell_type": "code",
   "execution_count": 17,
   "metadata": {},
   "outputs": [],
   "source": [
    "# create a copy of this dataframe to use it later in this original preprocessed form if needed\n",
    "train_df2 = train_df.copy()"
   ]
  },
  {
   "cell_type": "markdown",
   "metadata": {},
   "source": [
    "Look at the prediction for Store 1 Deparment 4"
   ]
  },
  {
   "cell_type": "code",
   "execution_count": 18,
   "metadata": {},
   "outputs": [],
   "source": [
    "# Create some lists to compute WMAE for all of our series\n",
    "total_sum_weights=[]\n",
    "total_sum_weighted_error=[]\n",
    "week = 8\n",
    "\n",
    "# Create a train dataframe with data from 2010 to week 8 in 2012\n",
    "train2010 = train_df2[train_df2['Year'] == 2010]\n",
    "train2011 = train_df2[train_df2['Year'] == 2011]\n",
    "train2012 = train_df2[(train_df['Year'] == 2012) & (train_df2['Week'] < week)]\n",
    "train = train2010.append(train2011).append(train2012)\n",
    "\n",
    "# Create a test dataframe with data from week 8 in 2012 (to get our wanted 36 weeks)\n",
    "test = train_df2[(train_df2['Week'] >= week) & (train_df2['Year'] == 2012)]"
   ]
  },
  {
   "cell_type": "code",
   "execution_count": 19,
   "metadata": {},
   "outputs": [
    {
     "name": "stdout",
     "output_type": "stream",
     "text": [
      "Weighted mean absolute error (WMAE) for Store 1 Dept 4 = 2877.6552150000093\n"
     ]
    },
    {
     "data": {
      "image/png": "[encoded data removed]",
      "text/plain": [
       "<Figure size 576x216 with 1 Axes>"
      ]
     },
     "metadata": {
      "needs_background": "light"
     },
     "output_type": "display_data"
    },
    {
     "name": "stdout",
     "output_type": "stream",
     "text": [
      "Global Weighted mean absolute error (WMAE) for these predicted series = 2877.6552150000093\n"
     ]
    }
   ],
   "source": [
    "store = 1\n",
    "dept = 4\n",
    "        \n",
    "# Select train and test dataframe for the wanted store and dept\n",
    "train_sd = train[(train.Store == store)&(train.Dept == dept)]\n",
    "test_sd = test[(test.Store == store)&(test.Dept == dept)]\n",
    "\n",
    "# Keep all data except Sales for xtrain and xtest\n",
    "xtrain = train_sd.drop(['Weekly_Sales'], axis=1)\n",
    "xtest = test_sd.drop(['Weekly_Sales'], axis=1)\n",
    "\n",
    "# Keep only Sales for ytrain and ytest\n",
    "ytrain = train_sd['Weekly_Sales'].values\n",
    "ytest = test_sd['Weekly_Sales'].values\n",
    "\n",
    "# Create a RandomForestRegressor model\n",
    "rfr = RandomForestRegressor(n_estimators=100, n_jobs=-1, random_state=0)\n",
    "\n",
    "# train the Random Forst model if there is data for training\n",
    "if len(xtrain)>0:           \n",
    "    rfr.fit(xtrain, ytrain)\n",
    "\n",
    "    # make a prediction if there is an expected output\n",
    "    if len(xtest)>0:\n",
    "        pred = rfr.predict(xtest)\n",
    "\n",
    "        # if there is an output, compute WMAE metric\n",
    "        if len(pred)>0:\n",
    "            xtest['weighted_error'] = xtest.IsHoliday * abs(ytest-pred)\n",
    "            sum_weights = xtest.IsHoliday.sum()\n",
    "            sum_weighted_error = xtest.weighted_error.sum()\n",
    "            wmae = (1/sum_weights) * sum_weighted_error\n",
    "\n",
    "            if str(wmae) != 'nan':\n",
    "                # plot predictions\n",
    "                print('Weighted mean absolute error (WMAE) for Store {} Dept {} = {}'.format(str(store),str(dept),str(wmae)))\n",
    "                plot_df = pd.DataFrame()\n",
    "                plot_df['predicted_sales'] = pred\n",
    "                plot_df['real_sales']=ytest\n",
    "                plt.figure(figsize=(8,3))\n",
    "                plot_df['real_sales'].plot(label='real sales', lw=3)\n",
    "                plot_df['predicted_sales'].plot(label='predicted sales', lw=3)\n",
    "                plt.legend()\n",
    "                plt.show()\n",
    "\n",
    "                total_sum_weights.append(sum_weights)\n",
    "                total_sum_weighted_error.append(sum_weighted_error)\n",
    "\n",
    "# Global WMAE for our model will be printed at the end\n",
    "global_wmae = (1/sum(total_sum_weights)) * sum(total_sum_weighted_error)\n",
    "print('Global Weighted mean absolute error (WMAE) for these predicted series = {}'.format(str(global_wmae)))"
   ]
  },
  {
   "cell_type": "markdown",
   "metadata": {},
   "source": [
    "The model takes this value into account and we can see the prediction becoming much higher for this week particular week.  \n",
    "Next we test another change  \n",
    "We set to 0 all the value of 2010 sales for this Store 1 department 4"
   ]
  },
  {
   "cell_type": "markdown",
   "metadata": {},
   "source": [
    "## Set to zero all sales of 2010"
   ]
  },
  {
   "cell_type": "code",
   "execution_count": 20,
   "metadata": {},
   "outputs": [],
   "source": [
    "# Set all weekly sales of 2010 to 0 for Store 1 department 4\n",
    "train_df.loc[(train_df.Store == 1) & (train_df.Dept == 4) & (train_df.Year == 2010),'Weekly_Sales'] = 0"
   ]
  },
  {
   "cell_type": "code",
   "execution_count": 21,
   "metadata": {},
   "outputs": [],
   "source": [
    "# create a copy of this dataframe to use it later in this original preprocessed form if needed\n",
    "train_df2 = train_df.copy()"
   ]
  },
  {
   "cell_type": "code",
   "execution_count": 22,
   "metadata": {},
   "outputs": [],
   "source": [
    "# Create some lists to compute WMAE for all of our series\n",
    "total_sum_weights=[]\n",
    "total_sum_weighted_error=[]\n",
    "week = 8\n",
    "\n",
    "# Create a train dataframe with data from 2010 to week 8 in 2012\n",
    "train2010 = train_df2[train_df2['Year'] == 2010]\n",
    "train2011 = train_df2[train_df2['Year'] == 2011]\n",
    "train2012 = train_df2[(train_df2['Year'] == 2012) & (train_df2['Week'] < week)]\n",
    "train = train2010.append(train2011).append(train2012)\n",
    "\n",
    "# Create a test dataframe with data from week 8 in 2012 (to get our wanted 36 weeks)\n",
    "test = train_df2[(train_df2['Week'] >= week) & (train_df2['Year'] == 2012)]"
   ]
  },
  {
   "cell_type": "code",
   "execution_count": 23,
   "metadata": {},
   "outputs": [
    {
     "name": "stdout",
     "output_type": "stream",
     "text": [
      "Weighted mean absolute error (WMAE) for Store 1 Dept 4 = 1850.4405175000118\n"
     ]
    },
    {
     "data": {
      "image/png": "[encoded data removed]",
      "text/plain": [
       "<Figure size 576x216 with 1 Axes>"
      ]
     },
     "metadata": {
      "needs_background": "light"
     },
     "output_type": "display_data"
    },
    {
     "name": "stdout",
     "output_type": "stream",
     "text": [
      "Global Weighted mean absolute error (WMAE) for these predicted series = 1850.4405175000118\n"
     ]
    }
   ],
   "source": [
    "store = 1\n",
    "dept = 4\n",
    "        \n",
    "# Select train and test dataframe for the wanted store and dept\n",
    "train_sd = train[(train.Store == store)&(train.Dept == dept)]\n",
    "test_sd = test[(test.Store == store)&(test.Dept == dept)]\n",
    "\n",
    "# Keep all data except Sales for xtrain and xtest\n",
    "xtrain = train_sd.drop(['Weekly_Sales'], axis=1)\n",
    "xtest = test_sd.drop(['Weekly_Sales'], axis=1)\n",
    "\n",
    "# Keep only Sales for ytrain and ytest\n",
    "ytrain = train_sd['Weekly_Sales'].values\n",
    "ytest = test_sd['Weekly_Sales'].values\n",
    "\n",
    "# Create a RandomForestRegressor model\n",
    "rfr = RandomForestRegressor(n_estimators=100, n_jobs=-1, random_state=0)\n",
    "\n",
    "# train the Random Forst model if there is data for training\n",
    "if len(xtrain)>0:           \n",
    "    rfr.fit(xtrain, ytrain)\n",
    "\n",
    "    # make a prediction if there is an expected output\n",
    "    if len(xtest)>0:\n",
    "        pred = rfr.predict(xtest)\n",
    "\n",
    "        # if there is an output, compute WMAE metric\n",
    "        if len(pred)>0:\n",
    "            xtest['weighted_error'] = xtest.IsHoliday * abs(ytest-pred)\n",
    "            sum_weights = xtest.IsHoliday.sum()\n",
    "            sum_weighted_error = xtest.weighted_error.sum()\n",
    "            wmae = (1/sum_weights) * sum_weighted_error\n",
    "\n",
    "            if str(wmae) != 'nan':\n",
    "                # plot predictions\n",
    "                print('Weighted mean absolute error (WMAE) for Store {} Dept {} = {}'.format(str(store),str(dept),str(wmae)))\n",
    "                plot_df = pd.DataFrame()\n",
    "                plot_df['predicted_sales'] = pred\n",
    "                plot_df['real_sales']=ytest\n",
    "                plt.figure(figsize=(8,3))\n",
    "                plot_df['real_sales'].plot(label='real sales', lw=3)\n",
    "                plot_df['predicted_sales'].plot(label='predicted sales', lw=3)\n",
    "                plt.legend()\n",
    "                plt.show()\n",
    "\n",
    "                total_sum_weights.append(sum_weights)\n",
    "                total_sum_weighted_error.append(sum_weighted_error)\n",
    "\n",
    "# Global WMAE for our model will be printed at the end\n",
    "global_wmae = (1/sum(total_sum_weights)) * sum(total_sum_weighted_error)\n",
    "print('Global Weighted mean absolute error (WMAE) for these predicted series = {}'.format(str(global_wmae)))"
   ]
  },
  {
   "cell_type": "markdown",
   "metadata": {},
   "source": [
    "Predictions stay coherent and don’t change too much. In this particular case, we even get better WMAE than with sales of 2010"
   ]
  },
  {
   "cell_type": "markdown",
   "metadata": {},
   "source": [
    "## Set to 0 sales from the 2 previous years"
   ]
  },
  {
   "cell_type": "code",
   "execution_count": 4,
   "metadata": {},
   "outputs": [],
   "source": [
    "# Set all weekly sales of 2010 and 2011 to 0 for Store 1 department 4\n",
    "train_df.loc[(train_df.Store == 1) & (train_df.Dept == 4) & (train_df.Year != 2012),'Weekly_Sales'] = 0"
   ]
  },
  {
   "cell_type": "code",
   "execution_count": 5,
   "metadata": {},
   "outputs": [],
   "source": [
    "# create a copy of this dataframe to use it later in this original preprocessed form if needed\n",
    "train_df2 = train_df.copy()"
   ]
  },
  {
   "cell_type": "code",
   "execution_count": 6,
   "metadata": {},
   "outputs": [],
   "source": [
    "# Create some lists to compute WMAE for all of our series\n",
    "total_sum_weights=[]\n",
    "total_sum_weighted_error=[]\n",
    "week = 8\n",
    "\n",
    "# Create a train dataframe with data from 2010 to week 8 in 2012\n",
    "train2010 = train_df2[train_df2['Year'] == 2010]\n",
    "train2011 = train_df2[train_df2['Year'] == 2011]\n",
    "train2012 = train_df2[(train_df2['Year'] == 2012) & (train_df2['Week'] < week)]\n",
    "train = train2010.append(train2011).append(train2012)\n",
    "\n",
    "# Create a test dataframe with data from week 8 in 2012 (to get our wanted 36 weeks)\n",
    "test = train_df2[(train_df2['Week'] >= week) & (train_df2['Year'] == 2012)]"
   ]
  },
  {
   "cell_type": "code",
   "execution_count": 7,
   "metadata": {},
   "outputs": [
    {
     "name": "stdout",
     "output_type": "stream",
     "text": [
      "Weighted mean absolute error (WMAE) for Store 1 Dept 4 = 1982.9615125000078\n"
     ]
    },
    {
     "data": {
      "image/png": "[encoded data removed]",
      "text/plain": [
       "<Figure size 576x216 with 1 Axes>"
      ]
     },
     "metadata": {
      "needs_background": "light"
     },
     "output_type": "display_data"
    },
    {
     "name": "stdout",
     "output_type": "stream",
     "text": [
      "Global Weighted mean absolute error (WMAE) for these predicted series = 1982.9615125000078\n"
     ]
    }
   ],
   "source": [
    "store = 1\n",
    "dept = 4\n",
    "        \n",
    "# Select train and test dataframe for the wanted store and dept\n",
    "train_sd = train[(train.Store == store)&(train.Dept == dept)]\n",
    "test_sd = test[(test.Store == store)&(test.Dept == dept)]\n",
    "\n",
    "# Keep all data except Sales for xtrain and xtest\n",
    "xtrain = train_sd.drop(['Weekly_Sales'], axis=1)\n",
    "xtest = test_sd.drop(['Weekly_Sales'], axis=1)\n",
    "\n",
    "# Keep only Sales for ytrain and ytest\n",
    "ytrain = train_sd['Weekly_Sales'].values\n",
    "ytest = test_sd['Weekly_Sales'].values\n",
    "\n",
    "# Create a RandomForestRegressor model\n",
    "rfr = RandomForestRegressor(n_estimators=100, n_jobs=-1, random_state=0)\n",
    "\n",
    "# train the Random Forst model if there is data for training\n",
    "if len(xtrain)>0:           \n",
    "    rfr.fit(xtrain, ytrain)\n",
    "\n",
    "    # make a prediction if there is an expected output\n",
    "    if len(xtest)>0:\n",
    "        pred = rfr.predict(xtest)\n",
    "\n",
    "        # if there is an output, compute WMAE metric\n",
    "        if len(pred)>0:\n",
    "            xtest['weighted_error'] = xtest.IsHoliday * abs(ytest-pred)\n",
    "            sum_weights = xtest.IsHoliday.sum()\n",
    "            sum_weighted_error = xtest.weighted_error.sum()\n",
    "            wmae = (1/sum_weights) * sum_weighted_error\n",
    "\n",
    "            if str(wmae) != 'nan':\n",
    "                # plot predictions\n",
    "                print('Weighted mean absolute error (WMAE) for Store {} Dept {} = {}'.format(str(store),str(dept),str(wmae)))\n",
    "                plot_df = pd.DataFrame()\n",
    "                plot_df['predicted_sales'] = pred\n",
    "                plot_df['real_sales']=ytest\n",
    "                plt.figure(figsize=(8,3))\n",
    "                plot_df['real_sales'].plot(label='real sales', lw=3)\n",
    "                plot_df['predicted_sales'].plot(label='predicted sales', lw=3)\n",
    "                plt.legend()\n",
    "                plt.show()\n",
    "\n",
    "                total_sum_weights.append(sum_weights)\n",
    "                total_sum_weighted_error.append(sum_weighted_error)\n",
    "\n",
    "# Global WMAE for our model will be printed at the end\n",
    "global_wmae = (1/sum(total_sum_weights)) * sum(total_sum_weighted_error)\n",
    "print('Global Weighted mean absolute error (WMAE) for these predicted series = {}'.format(str(global_wmae)))"
   ]
  },
  {
   "cell_type": "markdown",
   "metadata": {},
   "source": [
    "The prediction is really poor but take previous weeks of 2012 into account to get a prediction in the average"
   ]
  },
  {
   "cell_type": "code",
   "execution_count": null,
   "metadata": {},
   "outputs": [],
   "source": []
  }
 ],
 "metadata": {
  "kernelspec": {
   "display_name": "conda_python3",
   "language": "python",
   "name": "conda_python3"
  },
  "language_info": {
   "codemirror_mode": {
    "name": "ipython",
    "version": 3
   },
   "file_extension": ".py",
   "mimetype": "text/x-python",
   "name": "python",
   "nbconvert_exporter": "python",
   "pygments_lexer": "ipython3",
   "version": "3.6.10"
  }
 },
 "nbformat": 4,
 "nbformat_minor": 4
}
