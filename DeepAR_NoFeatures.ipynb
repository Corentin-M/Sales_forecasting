{
 "cells": [
  {
   "cell_type": "markdown",
   "metadata": {},
   "source": [
    "## Load libraries and Data"
   ]
  },
  {
   "cell_type": "code",
   "execution_count": 1,
   "metadata": {},
   "outputs": [],
   "source": [
    "# import libraries\n",
    "import pandas as pd\n",
    "import numpy as np\n",
    "import os\n",
    "import matplotlib.pyplot as plt\n",
    "import seaborn as sns\n",
    "from datetime import datetime\n",
    "import json # import json for formatting data\n",
    "import os # and os for saving\n",
    "import boto3\n",
    "import sagemaker\n",
    "from sagemaker import get_execution_role"
   ]
  },
  {
   "cell_type": "code",
   "execution_count": 71,
   "metadata": {},
   "outputs": [
    {
     "name": "stdout",
     "output_type": "stream",
     "text": [
      "            Store  Dept  Weekly_Sales\n",
      "Date                                 \n",
      "2010-02-05      1     1      24924.50\n",
      "2010-02-12      1     1      46039.49\n",
      "2010-02-19      1     1      41595.55\n",
      "2010-02-26      1     1      19403.54\n",
      "2010-03-05      1     1      21827.90\n"
     ]
    }
   ],
   "source": [
    "# Save as Dataframe the train file and keep only Store, Dept, Sales and use Date as Index\n",
    "train_file = 'data/train.csv'\n",
    "train_df = pd.read_csv(train_file)\n",
    "train_df['Date'] = [datetime.strptime(date, '%Y-%m-%d').date() for date in train_df['Date'].astype(str).values.tolist()]\n",
    "train_df.index = train_df['Date']\n",
    "train_df = train_df.drop(['Date', 'IsHoliday'], axis=1)\n",
    "\n",
    "train_df.sort_values([\"Store\",\"Dept\"], ascending = (False,False))\n",
    "\n",
    "# take only one store for first try of training job\n",
    "# train_df = train_df[train_df.Store == 1]\n",
    "\n",
    "print(train_df.head())"
   ]
  },
  {
   "cell_type": "code",
   "execution_count": 72,
   "metadata": {},
   "outputs": [
    {
     "name": "stdout",
     "output_type": "stream",
     "text": [
      "[ 1  2  3  4  5  6  7  8  9 10 11 12 13 14 15 16 17 18 19 20 21 22 23 24\n",
      " 25 26 27 28 29 30 31 32 33 34 35 36 37 38 39 40 41 42 43 44 45]\n",
      "45\n"
     ]
    }
   ],
   "source": [
    "# Look at the Store list to see if there are missing numbers\n",
    "print(train_df.Store.unique())\n",
    "print(train_df.Store.nunique())"
   ]
  },
  {
   "cell_type": "code",
   "execution_count": 74,
   "metadata": {},
   "outputs": [
    {
     "name": "stdout",
     "output_type": "stream",
     "text": [
      "[ 1  2  3  4  5  6  7  8  9 10 11 12 13 14 16 17 18 19 20 21 22 23 24 25\n",
      " 26 27 28 29 30 31 32 33 34 35 36 37 38 40 41 42 44 45 46 47 48 49 51 52\n",
      " 54 55 56 58 59 60 67 71 72 74 77 78 79 80 81 82 83 85 87 90 91 92 93 94\n",
      " 95 96 97 98 99 39 50 43 65]\n",
      "81\n"
     ]
    }
   ],
   "source": [
    "# Look at the Dept list to see if there are missing numbers\n",
    "print(train_df.Dept.unique())\n",
    "print(train_df.Dept.nunique())"
   ]
  },
  {
   "cell_type": "code",
   "execution_count": 84,
   "metadata": {},
   "outputs": [
    {
     "name": "stdout",
     "output_type": "stream",
     "text": [
      "            Store  Dept  Weekly_Sales  Cat_Store  Cat_Dept\n",
      "Date                                                      \n",
      "2010-02-05      1     1      24924.50          0         0\n",
      "2010-02-12      1     1      46039.49          0         0\n",
      "2010-02-19      1     1      41595.55          0         0\n",
      "2010-02-26      1     1      19403.54          0         0\n",
      "2010-03-05      1     1      21827.90          0         0\n"
     ]
    }
   ],
   "source": [
    "# Add columns to convert Store to a \"Category\" field appropriate for DeepAR\n",
    "train_df['Cat_Store'] = train_df['Store'] - 1\n",
    "\n",
    "# Add columns to convert Dept to a \"Category\" field appropriate for DeepAR\n",
    "liste = range(81)\n",
    "for i in liste:\n",
    "    department = train_df.Dept.unique()[i]\n",
    "    train_df.loc[train_df['Dept'] == department, 'Cat_Dept'] = int(i)  \n",
    "\n",
    "print(train_df.head())"
   ]
  },
  {
   "cell_type": "code",
   "execution_count": 86,
   "metadata": {},
   "outputs": [
    {
     "name": "stdout",
     "output_type": "stream",
     "text": [
      "[ 0  1  2  3  4  5  6  7  8  9 10 11 12 13 14 15 16 17 18 19 20 21 22 23\n",
      " 24 25 26 27 28 29 30 31 32 33 34 35 36 37 38 39 40 41 42 43 44]\n",
      "45\n"
     ]
    }
   ],
   "source": [
    "# Verify Cat_Store\n",
    "print(train_df.Cat_Store.unique())\n",
    "print(train_df.Cat_Store.nunique())"
   ]
  },
  {
   "cell_type": "code",
   "execution_count": 85,
   "metadata": {},
   "outputs": [
    {
     "name": "stdout",
     "output_type": "stream",
     "text": [
      "[ 0  1  2  3  4  5  6  7  8  9 10 11 12 13 14 15 16 17 18 19 20 21 22 23\n",
      " 24 25 26 27 28 29 30 31 32 33 34 35 36 37 38 39 40 41 42 43 44 45 46 47\n",
      " 48 49 50 51 52 53 54 55 56 57 58 59 60 61 62 63 64 65 66 67 68 69 70 71\n",
      " 72 73 74 75 76 77 78 79 80]\n",
      "81\n"
     ]
    }
   ],
   "source": [
    "# Verify Cat_Dept\n",
    "print(train_df.Cat_Dept.unique())\n",
    "print(train_df.Cat_Dept.nunique())"
   ]
  },
  {
   "cell_type": "markdown",
   "metadata": {},
   "source": [
    "## Plot Sales Evolution"
   ]
  },
  {
   "cell_type": "code",
   "execution_count": 3,
   "metadata": {},
   "outputs": [],
   "source": [
    "# Define a function to plot sales evolution depending of the store and department number\n",
    "def sales_evolution(store_number, dept_number):\n",
    "    example_store_dept_sales = train_df[(train_df.Store == store_number) & (train_df.Dept == dept_number)]['Weekly_Sales']\n",
    "    plt.figure(figsize=(8,3))\n",
    "    example_store_dept_sales.plot(title='Store {} Dpt {} Sales evolution'.format(store_number, dept_number), color='blue') \n",
    "    return plt.show()"
   ]
  },
  {
   "cell_type": "code",
   "execution_count": 83,
   "metadata": {},
   "outputs": [
    {
     "data": {
      "image/png": "[encoded data removed]",
      "text/plain": [
       "<Figure size 576x216 with 1 Axes>"
      ]
     },
     "metadata": {},
     "output_type": "display_data"
    },
    {
     "data": {
      "image/png": "[encoded data removed]",
      "text/plain": [
       "<Figure size 576x216 with 1 Axes>"
      ]
     },
     "metadata": {},
     "output_type": "display_data"
    },
    {
     "data": {
      "image/png": "[encoded data removed]",
      "text/plain": [
       "<Figure size 576x216 with 1 Axes>"
      ]
     },
     "metadata": {},
     "output_type": "display_data"
    }
   ],
   "source": [
    "# Plot some examples\n",
    "sales_evolution(2,3)\n",
    "sales_evolution(8,10)\n",
    "sales_evolution(3,4)"
   ]
  },
  {
   "cell_type": "markdown",
   "metadata": {},
   "source": [
    "## Create and display complete time series"
   ]
  },
  {
   "cell_type": "code",
   "execution_count": 87,
   "metadata": {},
   "outputs": [],
   "source": [
    "def make_time_series(df, years, freq='W-FRI'):\n",
    "    '''Creates as many time series as they are stores x departments x complete years. \n",
    "      :param df: dataframe with train data. One 3 columns : Store, Dept, Weekly_Sales.\n",
    "          This dataframe should also be indexed by a datetime.\n",
    "      :param years: A list of years to make time series out of, ex. ['2010', '2011'].\n",
    "      :param freq: The frequency of data recording (W-FRI = Weekly, starting on Friday)\n",
    "      :return: A list of pd.Series(), time series data.\n",
    "      '''\n",
    "    \n",
    "    # store time series\n",
    "    time_series = []\n",
    "    \n",
    "    # create time series for each store and each department\n",
    "    for store in df.Cat_Store.unique().tolist():\n",
    "        for dept in df.Cat_Dept.unique().tolist():\n",
    "            \n",
    "            # create DataFrame with weekly_sales for the store and department studied\n",
    "            sample_df = df[(df.Cat_Store == store) & (df.Cat_Dept == dept)]['Weekly_Sales']\n",
    "                        \n",
    "            # initialise start_idx\n",
    "            start_idx = 0\n",
    "            \n",
    "            # create time series for each year in years\n",
    "            for i in range(len(years)):\n",
    "\n",
    "                # for each year 52 weeks (no year of 53 weeks in our dataset)\n",
    "                year = years[i]\n",
    "                end_idx = start_idx+52\n",
    "\n",
    "                # create start and end datetimes\n",
    "                t_start = year + '-02-05' # start with first date \n",
    "                t_end = str(int(year)+1) + '-01-28' # end friday one year later\n",
    "\n",
    "                # get wanted sample_df data\n",
    "                data = sample_df[start_idx:end_idx]\n",
    "\n",
    "                # create time series for the year\n",
    "                index = pd.date_range(start=t_start, end=t_end, freq=freq)\n",
    "                Serie_df = pd.Series(data=data, index=index)\n",
    "                \n",
    "                # include info of the store and dept as last values to use as category in DeepAR\n",
    "                Info_df = pd.Series(data=[int(store), int(dept)], index=['store','dept'])\n",
    "                time_series.append(pd.concat([Serie_df, Info_df]))\n",
    "                \n",
    "                # start next year in loop\n",
    "                start_idx = end_idx+1                \n",
    "    \n",
    "    # return list of time series\n",
    "    return time_series"
   ]
  },
  {
   "cell_type": "code",
   "execution_count": 88,
   "metadata": {},
   "outputs": [],
   "source": [
    "# Create yearly time series for our 2 complete years\n",
    "full_years = ['2010', '2011']\n",
    "freq='W-FRI' # weekly recordings\n",
    "\n",
    "# make time series\n",
    "time_series = make_time_series(train_df, full_years, freq=freq)"
   ]
  },
  {
   "cell_type": "code",
   "execution_count": 89,
   "metadata": {},
   "outputs": [
    {
     "data": {
      "image/png": "[encoded data removed]",
      "text/plain": [
       "<Figure size 720x288 with 1 Axes>"
      ]
     },
     "metadata": {},
     "output_type": "display_data"
    }
   ],
   "source": [
    "# display first time series\n",
    "time_series_idx = 33\n",
    "\n",
    "# plot time series except the last two values corresponding to store and department\n",
    "plt.figure(figsize=(10,4))\n",
    "time_series[time_series_idx][:-2].plot(title='Serie n°{} - one year sales evolution'.format(time_series_idx))\n",
    "plt.show()"
   ]
  },
  {
   "cell_type": "markdown",
   "metadata": {},
   "source": [
    "## Splitting in Time"
   ]
  },
  {
   "cell_type": "code",
   "execution_count": 90,
   "metadata": {},
   "outputs": [],
   "source": [
    "# create truncated, training time series\n",
    "def create_training_series(complete_time_series, prediction_length):\n",
    "    '''Given a complete list of time series data, create training time series.\n",
    "       :param complete_time_series: A list of all complete time series.\n",
    "       :param prediction_length: The number of points we want to predict.\n",
    "       :return: A list of training time series.\n",
    "       '''\n",
    "    # get training series\n",
    "    time_series_training = []\n",
    "    \n",
    "    for ts in complete_time_series:\n",
    "        \n",
    "        # save store and departement number for the serie as Info\n",
    "        Info_df = ts[-2:]\n",
    "        \n",
    "        # truncate \"prediction_length\" weeks + 2 corresponding to the store and departement number\n",
    "        truncate = prediction_length + 2\n",
    "        Train_Serie_df = ts[:-truncate]\n",
    "        \n",
    "        # save Train_Serie with its Info\n",
    "        time_series_training.append(pd.concat([Train_Serie_df, Info_df]))\n",
    "        \n",
    "    return time_series_training"
   ]
  },
  {
   "cell_type": "code",
   "execution_count": 91,
   "metadata": {},
   "outputs": [],
   "source": [
    "# set prediction length\n",
    "prediction_length = 4 # 4 weeks ~ a month\n",
    "\n",
    "time_series_training = create_training_series(time_series, prediction_length)"
   ]
  },
  {
   "cell_type": "code",
   "execution_count": 92,
   "metadata": {},
   "outputs": [
    {
     "data": {
      "image/png": "[encoded data removed]",
      "text/plain": [
       "<Figure size 720x288 with 1 Axes>"
      ]
     },
     "metadata": {},
     "output_type": "display_data"
    }
   ],
   "source": [
    "# display train/test time series\n",
    "time_series_idx = 33\n",
    "\n",
    "plt.figure(figsize=(10,4))\n",
    "# test data is the whole time series\n",
    "time_series[time_series_idx][:-2].plot(label='test', lw=3)\n",
    "# train data is all but the last prediction pts\n",
    "time_series_training[time_series_idx][:-2].plot(label='train', ls=':', lw=3)\n",
    "\n",
    "plt.legend()\n",
    "plt.show()"
   ]
  },
  {
   "cell_type": "markdown",
   "metadata": {},
   "source": [
    "## Convert to JSON"
   ]
  },
  {
   "cell_type": "code",
   "execution_count": 93,
   "metadata": {},
   "outputs": [],
   "source": [
    "def series_to_json_obj(ts):\n",
    "    '''Returns a dictionary of values in DeepAR, JSON format.\n",
    "       :param ts: A single time series.\n",
    "       :return: A dictionary of values with \"start\" and \"target\" keys.\n",
    "       '''\n",
    "    # get start time and target and cat from the time series, ts\n",
    "    target = list(ts[:-2])\n",
    "    no_nan_target = pd.Series(target).fillna(0).tolist()\n",
    "    \n",
    "    json_obj = {\"start\": str(ts.index[0]), \"target\": no_nan_target, \"cat\": list(map(int, ts[-2:]))}\n",
    "    return json_obj"
   ]
  },
  {
   "cell_type": "code",
   "execution_count": 94,
   "metadata": {},
   "outputs": [
    {
     "name": "stdout",
     "output_type": "stream",
     "text": [
      "{'start': '2011-02-11 00:00:00', 'target': [0.0, 0.0, 0.0, 0.0, 0.0, 0.0, 0.0, 0.0, 0.0, 0.0, 0.0, 0.0, 0.0, 227.24, 1.8, 0.35, 0.0, 1.0, 2.0, 0.0, 0.5, 0.0, 0.3, 0.0, 0.0, 0.0, 0.0, 0.0, 4.97, 83.64, 149.24, 868.86, 2540.81, 3279.04, 4959.46, 5758.87, 7304.78, 16545.45, 14133.85, 10170.41, 14159.67, 30543.19, 47731.67, 41114.36, 33932.27, 22602.34, 21444.65, 7018.32, 1700.85, 1468.65, 1842.47], 'cat': [0, 16]}\n"
     ]
    }
   ],
   "source": [
    "# test out the code\n",
    "ts = time_series[33]\n",
    "\n",
    "json_obj = series_to_json_obj(ts)\n",
    "\n",
    "print(json_obj)"
   ]
  },
  {
   "cell_type": "markdown",
   "metadata": {},
   "source": [
    "## Saving Data, Locally"
   ]
  },
  {
   "cell_type": "code",
   "execution_count": 95,
   "metadata": {},
   "outputs": [],
   "source": [
    "def write_json_dataset(time_series, filename): \n",
    "    with open(filename, 'wb') as f:\n",
    "        # for each of our times series, there is one JSON line\n",
    "        for ts in time_series:\n",
    "            json_line = json.dumps(series_to_json_obj(ts)) + '\\n'\n",
    "            json_line = json_line.encode('utf-8')\n",
    "            f.write(json_line)\n",
    "    print(filename + ' saved.')"
   ]
  },
  {
   "cell_type": "code",
   "execution_count": 96,
   "metadata": {},
   "outputs": [],
   "source": [
    "# save this data to a local directory\n",
    "data_dir = 'json_sales_data'\n",
    "\n",
    "# make data dir, if it does not exist\n",
    "if not os.path.exists(data_dir):\n",
    "    os.makedirs(data_dir)"
   ]
  },
  {
   "cell_type": "code",
   "execution_count": 97,
   "metadata": {},
   "outputs": [
    {
     "name": "stdout",
     "output_type": "stream",
     "text": [
      "json_sales_data/train.json saved.\n",
      "json_sales_data/test.json saved.\n"
     ]
    }
   ],
   "source": [
    "# directories to save train/test data\n",
    "train_key = os.path.join(data_dir, 'train.json')\n",
    "test_key = os.path.join(data_dir, 'test.json')\n",
    "\n",
    "# write train/test JSON files\n",
    "write_json_dataset(time_series_training, train_key)        \n",
    "write_json_dataset(time_series, test_key)"
   ]
  },
  {
   "cell_type": "markdown",
   "metadata": {},
   "source": [
    "## Uploading data to S3"
   ]
  },
  {
   "cell_type": "code",
   "execution_count": 33,
   "metadata": {},
   "outputs": [],
   "source": [
    "# session, role, bucket\n",
    "sagemaker_session = sagemaker.Session()\n",
    "role = get_execution_role()\n",
    "bucket = sagemaker_session.default_bucket()"
   ]
  },
  {
   "cell_type": "code",
   "execution_count": 34,
   "metadata": {},
   "outputs": [],
   "source": [
    "# general prefix\n",
    "prefix='deepar-weekly-sales'\n",
    "\n",
    "# *unique* train/test prefixes\n",
    "train_prefix   = '{}/{}'.format(prefix, 'train')\n",
    "test_prefix    = '{}/{}'.format(prefix, 'test')\n",
    "\n",
    "# uploading data to S3, and saving locations\n",
    "train_path  = sagemaker_session.upload_data(train_key, bucket=bucket, key_prefix=train_prefix)\n",
    "test_path   = sagemaker_session.upload_data(test_key,  bucket=bucket, key_prefix=test_prefix)"
   ]
  },
  {
   "cell_type": "code",
   "execution_count": 35,
   "metadata": {},
   "outputs": [
    {
     "name": "stdout",
     "output_type": "stream",
     "text": [
      "Training data is stored in: s3://sagemaker-eu-central-1-293973958717/deepar-weekly-sales/train/train.json\n",
      "Test data is stored in: s3://sagemaker-eu-central-1-293973958717/deepar-weekly-sales/test/test.json\n"
     ]
    }
   ],
   "source": [
    "# check locations\n",
    "print('Training data is stored in: '+ train_path)\n",
    "print('Test data is stored in: '+ test_path)"
   ]
  },
  {
   "cell_type": "markdown",
   "metadata": {},
   "source": [
    "# Training a DeepAR Estimator"
   ]
  },
  {
   "cell_type": "markdown",
   "metadata": {},
   "source": [
    "## Instantiate an Estimator"
   ]
  },
  {
   "cell_type": "code",
   "execution_count": 36,
   "metadata": {},
   "outputs": [],
   "source": [
    "from sagemaker.amazon.amazon_estimator import get_image_uri\n",
    "\n",
    "image_name = get_image_uri(boto3.Session().region_name, # get the region\n",
    "                           'forecasting-deepar') # specify image"
   ]
  },
  {
   "cell_type": "code",
   "execution_count": 37,
   "metadata": {},
   "outputs": [],
   "source": [
    "from sagemaker.estimator import Estimator\n",
    "\n",
    "# dir to save model artifacts\n",
    "s3_output_path = \"s3://{}/{}/output\".format(bucket, prefix)\n",
    "\n",
    "# instantiate a DeepAR estimator\n",
    "estimator = Estimator(sagemaker_session=sagemaker_session,\n",
    "                      image_name=image_name,\n",
    "                      role=role,\n",
    "                      train_instance_count=1,\n",
    "                      train_instance_type='ml.c4.xlarge',\n",
    "                      output_path=s3_output_path\n",
    "                      )"
   ]
  },
  {
   "cell_type": "markdown",
   "metadata": {},
   "source": [
    "## Setting Hyperparameters"
   ]
  },
  {
   "cell_type": "code",
   "execution_count": 38,
   "metadata": {},
   "outputs": [],
   "source": [
    "freq='W'\n",
    "context_length=4 # same as prediction_length\n",
    "\n",
    "hyperparameters = {\n",
    "    \"epochs\": \"50\",\n",
    "    \"time_freq\": freq,\n",
    "    \"prediction_length\": str(prediction_length),\n",
    "    \"context_length\": str(context_length),\n",
    "    \"num_cells\": \"50\",\n",
    "    \"num_layers\": \"2\",\n",
    "    \"mini_batch_size\": \"128\",\n",
    "    \"learning_rate\": \"0.001\",\n",
    "    \"early_stopping_patience\": \"10\"\n",
    "}"
   ]
  },
  {
   "cell_type": "code",
   "execution_count": 39,
   "metadata": {},
   "outputs": [],
   "source": [
    "# set the hyperparams\n",
    "estimator.set_hyperparameters(**hyperparameters)"
   ]
  },
  {
   "cell_type": "markdown",
   "metadata": {},
   "source": [
    "## Training job"
   ]
  },
  {
   "cell_type": "code",
   "execution_count": 40,
   "metadata": {},
   "outputs": [
    {
     "name": "stdout",
     "output_type": "stream",
     "text": [
      "2020-06-14 09:30:46 Starting - Starting the training job...\n",
      "2020-06-14 09:30:48 Starting - Launching requested ML instances......\n",
      "2020-06-14 09:31:51 Starting - Preparing the instances for training...\n",
      "2020-06-14 09:32:34 Downloading - Downloading input data...\n",
      "2020-06-14 09:33:05 Training - Downloading the training image..\u001b[34mArguments: train\u001b[0m\n",
      "\u001b[34m[06/14/2020 09:33:24 INFO 140075443283776] Reading default configuration from /opt/amazon/lib/python2.7/site-packages/algorithm/resources/default-input.json: {u'num_dynamic_feat': u'auto', u'dropout_rate': u'0.10', u'mini_batch_size': u'128', u'test_quantiles': u'[0.1, 0.2, 0.3, 0.4, 0.5, 0.6, 0.7, 0.8, 0.9]', u'_tuning_objective_metric': u'', u'_num_gpus': u'auto', u'num_eval_samples': u'100', u'learning_rate': u'0.001', u'num_cells': u'40', u'num_layers': u'2', u'embedding_dimension': u'10', u'_kvstore': u'auto', u'_num_kv_servers': u'auto', u'cardinality': u'auto', u'likelihood': u'student-t', u'early_stopping_patience': u''}\u001b[0m\n",
      "\u001b[34m[06/14/2020 09:33:24 INFO 140075443283776] Reading provided configuration from /opt/ml/input/config/hyperparameters.json: {u'learning_rate': u'0.001', u'num_cells': u'50', u'prediction_length': u'4', u'epochs': u'50', u'time_freq': u'W', u'context_length': u'4', u'num_layers': u'2', u'mini_batch_size': u'128', u'early_stopping_patience': u'10'}\u001b[0m\n",
      "\u001b[34m[06/14/2020 09:33:24 INFO 140075443283776] Final configuration: {u'dropout_rate': u'0.10', u'test_quantiles': u'[0.1, 0.2, 0.3, 0.4, 0.5, 0.6, 0.7, 0.8, 0.9]', u'_tuning_objective_metric': u'', u'num_eval_samples': u'100', u'learning_rate': u'0.001', u'num_layers': u'2', u'epochs': u'50', u'embedding_dimension': u'10', u'num_cells': u'50', u'_num_kv_servers': u'auto', u'mini_batch_size': u'128', u'likelihood': u'student-t', u'num_dynamic_feat': u'auto', u'cardinality': u'auto', u'_num_gpus': u'auto', u'prediction_length': u'4', u'time_freq': u'W', u'context_length': u'4', u'_kvstore': u'auto', u'early_stopping_patience': u'10'}\u001b[0m\n",
      "\u001b[34mProcess 1 is a worker.\u001b[0m\n",
      "\u001b[34m[06/14/2020 09:33:24 INFO 140075443283776] Detected entry point for worker worker\u001b[0m\n",
      "\u001b[34m[06/14/2020 09:33:24 INFO 140075443283776] Using early stopping with patience 10\u001b[0m\n",
      "\u001b[34m[06/14/2020 09:33:24 INFO 140075443283776] [cardinality=auto] `cat` field was found in the file `/opt/ml/input/data/train/train.json` and will be used for training.\u001b[0m\n",
      "\u001b[34m[06/14/2020 09:33:24 INFO 140075443283776] [num_dynamic_feat=auto] `dynamic_feat` field was NOT found in the file `/opt/ml/input/data/train/train.json` and will NOT be used for training.\u001b[0m\n",
      "\u001b[34m[06/14/2020 09:33:24 INFO 140075443283776] [cardinality=auto] Inferred value of cardinality=[1, 7] from dataset.\u001b[0m\n",
      "\u001b[34m[06/14/2020 09:33:24 INFO 140075443283776] Training set statistics:\u001b[0m\n",
      "\u001b[34m[06/14/2020 09:33:24 INFO 140075443283776] Real time series\u001b[0m\n",
      "\u001b[34m[06/14/2020 09:33:24 INFO 140075443283776] number of time series: 14\u001b[0m\n",
      "\u001b[34m[06/14/2020 09:33:24 INFO 140075443283776] number of observations: 665\u001b[0m\n",
      "\u001b[34m[06/14/2020 09:33:24 INFO 140075443283776] mean target length: 47\u001b[0m\n",
      "\u001b[34m[06/14/2020 09:33:24 INFO 140075443283776] min/mean/max target: 2640.97998047/25240.1446194/166697.71875\u001b[0m\n",
      "\u001b[34m[06/14/2020 09:33:24 INFO 140075443283776] mean abs(target): 25240.1446194\u001b[0m\n",
      "\u001b[34m[06/14/2020 09:33:24 INFO 140075443283776] contains missing values: no\u001b[0m\n",
      "\u001b[34m[06/14/2020 09:33:24 INFO 140075443283776] Small number of time series. Doing 92 passes over dataset with prob 0.993788819876 per epoch.\u001b[0m\n",
      "\u001b[34m[06/14/2020 09:33:24 INFO 140075443283776] Test set statistics:\u001b[0m\n",
      "\u001b[34m[06/14/2020 09:33:24 INFO 140075443283776] Real time series\u001b[0m\n",
      "\u001b[34m[06/14/2020 09:33:24 INFO 140075443283776] number of time series: 14\u001b[0m\n",
      "\u001b[34m[06/14/2020 09:33:24 INFO 140075443283776] number of observations: 721\u001b[0m\n",
      "\u001b[34m[06/14/2020 09:33:24 INFO 140075443283776] mean target length: 51\u001b[0m\n",
      "\u001b[34m[06/14/2020 09:33:24 INFO 140075443283776] min/mean/max target: 1376.15002441/24871.0239684/166697.71875\u001b[0m\n",
      "\u001b[34m[06/14/2020 09:33:24 INFO 140075443283776] mean abs(target): 24871.0239684\u001b[0m\n",
      "\u001b[34m[06/14/2020 09:33:24 INFO 140075443283776] contains missing values: no\u001b[0m\n",
      "\u001b[34m[06/14/2020 09:33:24 INFO 140075443283776] nvidia-smi took: 0.0252411365509 secs to identify 0 gpus\u001b[0m\n",
      "\u001b[34m[06/14/2020 09:33:24 INFO 140075443283776] Number of GPUs being used: 0\u001b[0m\n",
      "\u001b[34m[06/14/2020 09:33:24 INFO 140075443283776] Create Store: local\u001b[0m\n",
      "\u001b[34m#metrics {\"Metrics\": {\"get_graph.time\": {\"count\": 1, \"max\": 24.342060089111328, \"sum\": 24.342060089111328, \"min\": 24.342060089111328}}, \"EndTime\": 1592127205.003202, \"Dimensions\": {\"Host\": \"algo-1\", \"Operation\": \"training\", \"Algorithm\": \"AWS/DeepAR\"}, \"StartTime\": 1592127204.977948}\n",
      "\u001b[0m\n",
      "\u001b[34m[06/14/2020 09:33:25 INFO 140075443283776] Number of GPUs being used: 0\u001b[0m\n",
      "\u001b[34m#metrics {\"Metrics\": {\"initialize.time\": {\"count\": 1, \"max\": 65.34504890441895, \"sum\": 65.34504890441895, \"min\": 65.34504890441895}}, \"EndTime\": 1592127205.043427, \"Dimensions\": {\"Host\": \"algo-1\", \"Operation\": \"training\", \"Algorithm\": \"AWS/DeepAR\"}, \"StartTime\": 1592127205.003268}\n",
      "\u001b[0m\n",
      "\u001b[34m[06/14/2020 09:33:25 INFO 140075443283776] Epoch[0] Batch[0] avg_epoch_loss=11.066067\u001b[0m\n",
      "\u001b[34m[06/14/2020 09:33:25 INFO 140075443283776] #quality_metric: host=algo-1, epoch=0, batch=0 train loss <loss>=11.0660667419\u001b[0m\n",
      "\u001b[34m[06/14/2020 09:33:25 INFO 140075443283776] Epoch[0] Batch[5] avg_epoch_loss=10.478965\u001b[0m\n",
      "\u001b[34m[06/14/2020 09:33:25 INFO 140075443283776] #quality_metric: host=algo-1, epoch=0, batch=5 train loss <loss>=10.4789651235\u001b[0m\n",
      "\u001b[34m[06/14/2020 09:33:25 INFO 140075443283776] Epoch[0] Batch [5]#011Speed: 4863.08 samples/sec#011loss=10.478965\u001b[0m\n",
      "\u001b[34m[06/14/2020 09:33:25 INFO 140075443283776] Epoch[0] Batch[10] avg_epoch_loss=10.408785\u001b[0m\n",
      "\u001b[34m[06/14/2020 09:33:25 INFO 140075443283776] #quality_metric: host=algo-1, epoch=0, batch=10 train loss <loss>=10.3245677948\u001b[0m\n",
      "\u001b[34m[06/14/2020 09:33:25 INFO 140075443283776] Epoch[0] Batch [10]#011Speed: 5122.04 samples/sec#011loss=10.324568\u001b[0m\n",
      "\u001b[34m[06/14/2020 09:33:25 INFO 140075443283776] processed a total of 1320 examples\u001b[0m\n",
      "\u001b[34m#metrics {\"Metrics\": {\"epochs\": {\"count\": 1, \"max\": 50, \"sum\": 50.0, \"min\": 50}, \"update.time\": {\"count\": 1, \"max\": 787.222146987915, \"sum\": 787.222146987915, \"min\": 787.222146987915}}, \"EndTime\": 1592127205.830787, \"Dimensions\": {\"Host\": \"algo-1\", \"Operation\": \"training\", \"Algorithm\": \"AWS/DeepAR\"}, \"StartTime\": 1592127205.043487}\n",
      "\u001b[0m\n",
      "\u001b[34m[06/14/2020 09:33:25 INFO 140075443283776] #throughput_metric: host=algo-1, train throughput=1676.48861882 records/second\u001b[0m\n",
      "\u001b[34m[06/14/2020 09:33:25 INFO 140075443283776] #progress_metric: host=algo-1, completed 2 % of epochs\u001b[0m\n",
      "\u001b[34m[06/14/2020 09:33:25 INFO 140075443283776] #quality_metric: host=algo-1, epoch=0, train loss <loss>=10.4087845195\u001b[0m\n",
      "\u001b[34m[06/14/2020 09:33:25 INFO 140075443283776] best epoch loss so far\u001b[0m\n",
      "\u001b[34m[06/14/2020 09:33:25 INFO 140075443283776] Saved checkpoint to \"/opt/ml/model/state_da504f09-cd36-4606-ab0b-22a68c740e20-0000.params\"\u001b[0m\n",
      "\u001b[34m#metrics {\"Metrics\": {\"state.serialize.time\": {\"count\": 1, \"max\": 9.455204010009766, \"sum\": 9.455204010009766, \"min\": 9.455204010009766}}, \"EndTime\": 1592127205.84094, \"Dimensions\": {\"Host\": \"algo-1\", \"Operation\": \"training\", \"Algorithm\": \"AWS/DeepAR\"}, \"StartTime\": 1592127205.830884}\n",
      "\u001b[0m\n",
      "\u001b[34m[06/14/2020 09:33:26 INFO 140075443283776] Epoch[1] Batch[0] avg_epoch_loss=10.323663\u001b[0m\n",
      "\u001b[34m[06/14/2020 09:33:26 INFO 140075443283776] #quality_metric: host=algo-1, epoch=1, batch=0 train loss <loss>=10.3236627579\u001b[0m\n",
      "\u001b[34m[06/14/2020 09:33:26 INFO 140075443283776] Epoch[1] Batch[5] avg_epoch_loss=10.128894\u001b[0m\n",
      "\u001b[34m[06/14/2020 09:33:26 INFO 140075443283776] #quality_metric: host=algo-1, epoch=1, batch=5 train loss <loss>=10.1288940112\u001b[0m\n",
      "\u001b[34m[06/14/2020 09:33:26 INFO 140075443283776] Epoch[1] Batch [5]#011Speed: 5171.30 samples/sec#011loss=10.128894\u001b[0m\n",
      "\u001b[34m[06/14/2020 09:33:26 INFO 140075443283776] Epoch[1] Batch[10] avg_epoch_loss=10.156019\u001b[0m\n",
      "\u001b[34m[06/14/2020 09:33:26 INFO 140075443283776] #quality_metric: host=algo-1, epoch=1, batch=10 train loss <loss>=10.1885700226\u001b[0m\n",
      "\u001b[34m[06/14/2020 09:33:26 INFO 140075443283776] Epoch[1] Batch [10]#011Speed: 5121.60 samples/sec#011loss=10.188570\u001b[0m\n",
      "\u001b[34m[06/14/2020 09:33:26 INFO 140075443283776] processed a total of 1302 examples\u001b[0m\n",
      "\u001b[34m#metrics {\"Metrics\": {\"update.time\": {\"count\": 1, \"max\": 698.0361938476562, \"sum\": 698.0361938476562, \"min\": 698.0361938476562}}, \"EndTime\": 1592127206.5391, \"Dimensions\": {\"Host\": \"algo-1\", \"Operation\": \"training\", \"Algorithm\": \"AWS/DeepAR\"}, \"StartTime\": 1592127205.841007}\n",
      "\u001b[0m\n",
      "\u001b[34m[06/14/2020 09:33:26 INFO 140075443283776] #throughput_metric: host=algo-1, train throughput=1864.93659777 records/second\u001b[0m\n",
      "\u001b[34m[06/14/2020 09:33:26 INFO 140075443283776] #progress_metric: host=algo-1, completed 4 % of epochs\u001b[0m\n",
      "\u001b[34m[06/14/2020 09:33:26 INFO 140075443283776] #quality_metric: host=algo-1, epoch=1, train loss <loss>=10.1560194709\u001b[0m\n",
      "\u001b[34m[06/14/2020 09:33:26 INFO 140075443283776] best epoch loss so far\u001b[0m\n",
      "\u001b[34m[06/14/2020 09:33:26 INFO 140075443283776] Saved checkpoint to \"/opt/ml/model/state_b976802f-db78-4bb8-be41-be82b650466b-0000.params\"\u001b[0m\n",
      "\u001b[34m#metrics {\"Metrics\": {\"state.serialize.time\": {\"count\": 1, \"max\": 10.38503646850586, \"sum\": 10.38503646850586, \"min\": 10.38503646850586}}, \"EndTime\": 1592127206.550008, \"Dimensions\": {\"Host\": \"algo-1\", \"Operation\": \"training\", \"Algorithm\": \"AWS/DeepAR\"}, \"StartTime\": 1592127206.539176}\n",
      "\u001b[0m\n",
      "\u001b[34m[06/14/2020 09:33:27 INFO 140075443283776] Epoch[2] Batch[0] avg_epoch_loss=10.103234\u001b[0m\n",
      "\u001b[34m[06/14/2020 09:33:27 INFO 140075443283776] #quality_metric: host=algo-1, epoch=2, batch=0 train loss <loss>=10.1032342911\u001b[0m\n",
      "\u001b[34m[06/14/2020 09:33:27 INFO 140075443283776] Epoch[2] Batch[5] avg_epoch_loss=9.841803\u001b[0m\n",
      "\u001b[34m[06/14/2020 09:33:27 INFO 140075443283776] #quality_metric: host=algo-1, epoch=2, batch=5 train loss <loss>=9.84180323283\u001b[0m\n",
      "\u001b[34m[06/14/2020 09:33:27 INFO 140075443283776] Epoch[2] Batch [5]#011Speed: 4998.52 samples/sec#011loss=9.841803\u001b[0m\n",
      "\u001b[34m[06/14/2020 09:33:27 INFO 140075443283776] Epoch[2] Batch[10] avg_epoch_loss=9.763402\u001b[0m\n",
      "\u001b[34m[06/14/2020 09:33:27 INFO 140075443283776] #quality_metric: host=algo-1, epoch=2, batch=10 train loss <loss>=9.6693195343\u001b[0m\n",
      "\u001b[34m[06/14/2020 09:33:27 INFO 140075443283776] Epoch[2] Batch [10]#011Speed: 5044.70 samples/sec#011loss=9.669320\u001b[0m\n",
      "\u001b[34m[06/14/2020 09:33:27 INFO 140075443283776] processed a total of 1299 examples\u001b[0m\n",
      "\u001b[34m#metrics {\"Metrics\": {\"update.time\": {\"count\": 1, \"max\": 730.2389144897461, \"sum\": 730.2389144897461, \"min\": 730.2389144897461}}, \"EndTime\": 1592127207.280355, \"Dimensions\": {\"Host\": \"algo-1\", \"Operation\": \"training\", \"Algorithm\": \"AWS/DeepAR\"}, \"StartTime\": 1592127206.550063}\n",
      "\u001b[0m\n",
      "\u001b[34m[06/14/2020 09:33:27 INFO 140075443283776] #throughput_metric: host=algo-1, train throughput=1778.60158143 records/second\u001b[0m\n",
      "\u001b[34m[06/14/2020 09:33:27 INFO 140075443283776] #progress_metric: host=algo-1, completed 6 % of epochs\u001b[0m\n",
      "\u001b[34m[06/14/2020 09:33:27 INFO 140075443283776] #quality_metric: host=algo-1, epoch=2, train loss <loss>=9.76340155168\u001b[0m\n",
      "\u001b[34m[06/14/2020 09:33:27 INFO 140075443283776] best epoch loss so far\u001b[0m\n",
      "\u001b[34m[06/14/2020 09:33:27 INFO 140075443283776] Saved checkpoint to \"/opt/ml/model/state_6866ef28-0957-4be3-a8bb-f5094a7d6aca-0000.params\"\u001b[0m\n",
      "\u001b[34m#metrics {\"Metrics\": {\"state.serialize.time\": {\"count\": 1, \"max\": 10.499000549316406, \"sum\": 10.499000549316406, \"min\": 10.499000549316406}}, \"EndTime\": 1592127207.29147, \"Dimensions\": {\"Host\": \"algo-1\", \"Operation\": \"training\", \"Algorithm\": \"AWS/DeepAR\"}, \"StartTime\": 1592127207.280432}\n",
      "\u001b[0m\n",
      "\u001b[34m[06/14/2020 09:33:27 INFO 140075443283776] Epoch[3] Batch[0] avg_epoch_loss=9.637689\u001b[0m\n",
      "\u001b[34m[06/14/2020 09:33:27 INFO 140075443283776] #quality_metric: host=algo-1, epoch=3, batch=0 train loss <loss>=9.63768863678\u001b[0m\n",
      "\u001b[34m[06/14/2020 09:33:27 INFO 140075443283776] Epoch[3] Batch[5] avg_epoch_loss=9.694482\u001b[0m\n",
      "\u001b[34m[06/14/2020 09:33:27 INFO 140075443283776] #quality_metric: host=algo-1, epoch=3, batch=5 train loss <loss>=9.69448232651\u001b[0m\n",
      "\u001b[34m[06/14/2020 09:33:27 INFO 140075443283776] Epoch[3] Batch [5]#011Speed: 5416.89 samples/sec#011loss=9.694482\u001b[0m\n",
      "\u001b[34m[06/14/2020 09:33:28 INFO 140075443283776] Epoch[3] Batch[10] avg_epoch_loss=9.700321\u001b[0m\n",
      "\u001b[34m[06/14/2020 09:33:28 INFO 140075443283776] #quality_metric: host=algo-1, epoch=3, batch=10 train loss <loss>=9.70732727051\u001b[0m\n",
      "\u001b[34m[06/14/2020 09:33:28 INFO 140075443283776] Epoch[3] Batch [10]#011Speed: 5210.50 samples/sec#011loss=9.707327\u001b[0m\n",
      "\u001b[34m[06/14/2020 09:33:28 INFO 140075443283776] processed a total of 1331 examples\u001b[0m\n",
      "\u001b[34m#metrics {\"Metrics\": {\"update.time\": {\"count\": 1, \"max\": 732.241153717041, \"sum\": 732.241153717041, \"min\": 732.241153717041}}, \"EndTime\": 1592127208.023825, \"Dimensions\": {\"Host\": \"algo-1\", \"Operation\": \"training\", \"Algorithm\": \"AWS/DeepAR\"}, \"StartTime\": 1592127207.291526}\n",
      "\u001b[0m\n",
      "\u001b[34m[06/14/2020 09:33:28 INFO 140075443283776] #throughput_metric: host=algo-1, train throughput=1817.39769286 records/second\u001b[0m\n",
      "\u001b[34m[06/14/2020 09:33:28 INFO 140075443283776] #progress_metric: host=algo-1, completed 8 % of epochs\u001b[0m\n",
      "\u001b[34m[06/14/2020 09:33:28 INFO 140075443283776] #quality_metric: host=algo-1, epoch=3, train loss <loss>=9.70032093742\u001b[0m\n",
      "\u001b[34m[06/14/2020 09:33:28 INFO 140075443283776] best epoch loss so far\u001b[0m\n",
      "\u001b[34m[06/14/2020 09:33:28 INFO 140075443283776] Saved checkpoint to \"/opt/ml/model/state_a141731d-565c-4941-8c52-fe96681c3b97-0000.params\"\u001b[0m\n",
      "\u001b[34m#metrics {\"Metrics\": {\"state.serialize.time\": {\"count\": 1, \"max\": 8.658885955810547, \"sum\": 8.658885955810547, \"min\": 8.658885955810547}}, \"EndTime\": 1592127208.033145, \"Dimensions\": {\"Host\": \"algo-1\", \"Operation\": \"training\", \"Algorithm\": \"AWS/DeepAR\"}, \"StartTime\": 1592127208.02391}\n",
      "\u001b[0m\n",
      "\u001b[34m[06/14/2020 09:33:28 INFO 140075443283776] Epoch[4] Batch[0] avg_epoch_loss=9.620007\u001b[0m\n",
      "\u001b[34m[06/14/2020 09:33:28 INFO 140075443283776] #quality_metric: host=algo-1, epoch=4, batch=0 train loss <loss>=9.62000656128\u001b[0m\n",
      "\u001b[34m[06/14/2020 09:33:28 INFO 140075443283776] Epoch[4] Batch[5] avg_epoch_loss=9.662451\u001b[0m\n",
      "\u001b[34m[06/14/2020 09:33:28 INFO 140075443283776] #quality_metric: host=algo-1, epoch=4, batch=5 train loss <loss>=9.66245142619\u001b[0m\n",
      "\u001b[34m[06/14/2020 09:33:28 INFO 140075443283776] Epoch[4] Batch [5]#011Speed: 5167.84 samples/sec#011loss=9.662451\u001b[0m\n",
      "\u001b[34m[06/14/2020 09:33:28 INFO 140075443283776] Epoch[4] Batch[10] avg_epoch_loss=9.617021\u001b[0m\n",
      "\u001b[34m[06/14/2020 09:33:28 INFO 140075443283776] #quality_metric: host=algo-1, epoch=4, batch=10 train loss <loss>=9.56250495911\u001b[0m\n",
      "\u001b[34m[06/14/2020 09:33:28 INFO 140075443283776] Epoch[4] Batch [10]#011Speed: 4804.27 samples/sec#011loss=9.562505\u001b[0m\n",
      "\u001b[34m[06/14/2020 09:33:28 INFO 140075443283776] processed a total of 1401 examples\u001b[0m\n",
      "\u001b[34m#metrics {\"Metrics\": {\"update.time\": {\"count\": 1, \"max\": 700.4489898681641, \"sum\": 700.4489898681641, \"min\": 700.4489898681641}}, \"EndTime\": 1592127208.733703, \"Dimensions\": {\"Host\": \"algo-1\", \"Operation\": \"training\", \"Algorithm\": \"AWS/DeepAR\"}, \"StartTime\": 1592127208.033203}\n",
      "\u001b[0m\n",
      "\u001b[34m[06/14/2020 09:33:28 INFO 140075443283776] #throughput_metric: host=algo-1, train throughput=1999.81142852 records/second\u001b[0m\n",
      "\u001b[34m[06/14/2020 09:33:28 INFO 140075443283776] #progress_metric: host=algo-1, completed 10 % of epochs\u001b[0m\n",
      "\u001b[34m[06/14/2020 09:33:28 INFO 140075443283776] #quality_metric: host=algo-1, epoch=4, train loss <loss>=9.61702121388\u001b[0m\n",
      "\u001b[34m[06/14/2020 09:33:28 INFO 140075443283776] best epoch loss so far\u001b[0m\n",
      "\u001b[34m[06/14/2020 09:33:28 INFO 140075443283776] Saved checkpoint to \"/opt/ml/model/state_f19f06b9-726d-4edc-a4a2-e5b7d58d4f39-0000.params\"\u001b[0m\n",
      "\u001b[34m#metrics {\"Metrics\": {\"state.serialize.time\": {\"count\": 1, \"max\": 8.121013641357422, \"sum\": 8.121013641357422, \"min\": 8.121013641357422}}, \"EndTime\": 1592127208.742511, \"Dimensions\": {\"Host\": \"algo-1\", \"Operation\": \"training\", \"Algorithm\": \"AWS/DeepAR\"}, \"StartTime\": 1592127208.733781}\n",
      "\u001b[0m\n",
      "\u001b[34m[06/14/2020 09:33:29 INFO 140075443283776] Epoch[5] Batch[0] avg_epoch_loss=9.489686\u001b[0m\n",
      "\u001b[34m[06/14/2020 09:33:29 INFO 140075443283776] #quality_metric: host=algo-1, epoch=5, batch=0 train loss <loss>=9.48968601227\u001b[0m\n",
      "\u001b[34m[06/14/2020 09:33:29 INFO 140075443283776] Epoch[5] Batch[5] avg_epoch_loss=9.530796\u001b[0m\n",
      "\u001b[34m[06/14/2020 09:33:29 INFO 140075443283776] #quality_metric: host=algo-1, epoch=5, batch=5 train loss <loss>=9.53079620997\u001b[0m\n",
      "\u001b[34m[06/14/2020 09:33:29 INFO 140075443283776] Epoch[5] Batch [5]#011Speed: 5005.95 samples/sec#011loss=9.530796\u001b[0m\n",
      "\u001b[34m[06/14/2020 09:33:29 INFO 140075443283776] Epoch[5] Batch[10] avg_epoch_loss=9.456375\u001b[0m\n",
      "\u001b[34m[06/14/2020 09:33:29 INFO 140075443283776] #quality_metric: host=algo-1, epoch=5, batch=10 train loss <loss>=9.36706886292\u001b[0m\n",
      "\u001b[34m[06/14/2020 09:33:29 INFO 140075443283776] Epoch[5] Batch [10]#011Speed: 5029.62 samples/sec#011loss=9.367069\u001b[0m\n",
      "\u001b[34m[06/14/2020 09:33:29 INFO 140075443283776] processed a total of 1317 examples\u001b[0m\n",
      "\u001b[34m#metrics {\"Metrics\": {\"update.time\": {\"count\": 1, \"max\": 677.5250434875488, \"sum\": 677.5250434875488, \"min\": 677.5250434875488}}, \"EndTime\": 1592127209.420144, \"Dimensions\": {\"Host\": \"algo-1\", \"Operation\": \"training\", \"Algorithm\": \"AWS/DeepAR\"}, \"StartTime\": 1592127208.742568}\n",
      "\u001b[0m\n",
      "\u001b[34m[06/14/2020 09:33:29 INFO 140075443283776] #throughput_metric: host=algo-1, train throughput=1943.49284458 records/second\u001b[0m\n",
      "\u001b[34m[06/14/2020 09:33:29 INFO 140075443283776] #progress_metric: host=algo-1, completed 12 % of epochs\u001b[0m\n",
      "\u001b[34m[06/14/2020 09:33:29 INFO 140075443283776] #quality_metric: host=algo-1, epoch=5, train loss <loss>=9.45637468858\u001b[0m\n",
      "\u001b[34m[06/14/2020 09:33:29 INFO 140075443283776] best epoch loss so far\u001b[0m\n",
      "\u001b[34m[06/14/2020 09:33:29 INFO 140075443283776] Saved checkpoint to \"/opt/ml/model/state_cc852867-8d32-4e19-b5cf-1cc64df6836f-0000.params\"\u001b[0m\n",
      "\u001b[34m#metrics {\"Metrics\": {\"state.serialize.time\": {\"count\": 1, \"max\": 8.430004119873047, \"sum\": 8.430004119873047, \"min\": 8.430004119873047}}, \"EndTime\": 1592127209.429209, \"Dimensions\": {\"Host\": \"algo-1\", \"Operation\": \"training\", \"Algorithm\": \"AWS/DeepAR\"}, \"StartTime\": 1592127209.420227}\n",
      "\u001b[0m\n",
      "\u001b[34m[06/14/2020 09:33:29 INFO 140075443283776] Epoch[6] Batch[0] avg_epoch_loss=9.523388\u001b[0m\n",
      "\u001b[34m[06/14/2020 09:33:29 INFO 140075443283776] #quality_metric: host=algo-1, epoch=6, batch=0 train loss <loss>=9.52338790894\u001b[0m\n",
      "\u001b[34m[06/14/2020 09:33:30 INFO 140075443283776] Epoch[6] Batch[5] avg_epoch_loss=9.493942\u001b[0m\n",
      "\u001b[34m[06/14/2020 09:33:30 INFO 140075443283776] #quality_metric: host=algo-1, epoch=6, batch=5 train loss <loss>=9.49394226074\u001b[0m\n",
      "\u001b[34m[06/14/2020 09:33:30 INFO 140075443283776] Epoch[6] Batch [5]#011Speed: 3817.11 samples/sec#011loss=9.493942\u001b[0m\n",
      "\u001b[34m[06/14/2020 09:33:30 INFO 140075443283776] Epoch[6] Batch[10] avg_epoch_loss=9.389099\u001b[0m\n",
      "\u001b[34m[06/14/2020 09:33:30 INFO 140075443283776] #quality_metric: host=algo-1, epoch=6, batch=10 train loss <loss>=9.26328697205\u001b[0m\n",
      "\u001b[34m[06/14/2020 09:33:30 INFO 140075443283776] Epoch[6] Batch [10]#011Speed: 3542.12 samples/sec#011loss=9.263287\u001b[0m\n",
      "\u001b[34m[06/14/2020 09:33:30 INFO 140075443283776] processed a total of 1310 examples\u001b[0m\n",
      "\u001b[34m#metrics {\"Metrics\": {\"update.time\": {\"count\": 1, \"max\": 769.1450119018555, \"sum\": 769.1450119018555, \"min\": 769.1450119018555}}, \"EndTime\": 1592127210.19847, \"Dimensions\": {\"Host\": \"algo-1\", \"Operation\": \"training\", \"Algorithm\": \"AWS/DeepAR\"}, \"StartTime\": 1592127209.429263}\n",
      "\u001b[0m\n",
      "\u001b[34m[06/14/2020 09:33:30 INFO 140075443283776] #throughput_metric: host=algo-1, train throughput=1702.84889022 records/second\u001b[0m\n",
      "\u001b[34m[06/14/2020 09:33:30 INFO 140075443283776] #progress_metric: host=algo-1, completed 14 % of epochs\u001b[0m\n",
      "\u001b[34m[06/14/2020 09:33:30 INFO 140075443283776] #quality_metric: host=algo-1, epoch=6, train loss <loss>=9.3890989477\u001b[0m\n",
      "\u001b[34m[06/14/2020 09:33:30 INFO 140075443283776] best epoch loss so far\u001b[0m\n",
      "\u001b[34m[06/14/2020 09:33:30 INFO 140075443283776] Saved checkpoint to \"/opt/ml/model/state_c41f5410-c657-4a33-89f3-e931c169372c-0000.params\"\u001b[0m\n",
      "\u001b[34m#metrics {\"Metrics\": {\"state.serialize.time\": {\"count\": 1, \"max\": 11.465072631835938, \"sum\": 11.465072631835938, \"min\": 11.465072631835938}}, \"EndTime\": 1592127210.210597, \"Dimensions\": {\"Host\": \"algo-1\", \"Operation\": \"training\", \"Algorithm\": \"AWS/DeepAR\"}, \"StartTime\": 1592127210.198581}\n",
      "\u001b[0m\n",
      "\u001b[34m[06/14/2020 09:33:30 INFO 140075443283776] Epoch[7] Batch[0] avg_epoch_loss=9.343815\u001b[0m\n",
      "\u001b[34m[06/14/2020 09:33:30 INFO 140075443283776] #quality_metric: host=algo-1, epoch=7, batch=0 train loss <loss>=9.34381484985\u001b[0m\n",
      "\u001b[34m[06/14/2020 09:33:31 INFO 140075443283776] Epoch[7] Batch[5] avg_epoch_loss=9.410269\u001b[0m\n",
      "\u001b[34m[06/14/2020 09:33:31 INFO 140075443283776] #quality_metric: host=algo-1, epoch=7, batch=5 train loss <loss>=9.41026926041\u001b[0m\n",
      "\u001b[34m[06/14/2020 09:33:31 INFO 140075443283776] Epoch[7] Batch [5]#011Speed: 3813.68 samples/sec#011loss=9.410269\u001b[0m\n",
      "\u001b[34m[06/14/2020 09:33:31 INFO 140075443283776] Epoch[7] Batch[10] avg_epoch_loss=9.513729\u001b[0m\n",
      "\u001b[34m[06/14/2020 09:33:31 INFO 140075443283776] #quality_metric: host=algo-1, epoch=7, batch=10 train loss <loss>=9.63788146973\u001b[0m\n",
      "\u001b[34m[06/14/2020 09:33:31 INFO 140075443283776] Epoch[7] Batch [10]#011Speed: 3827.73 samples/sec#011loss=9.637881\u001b[0m\n",
      "\u001b[34m[06/14/2020 09:33:31 INFO 140075443283776] processed a total of 1362 examples\u001b[0m\n",
      "\u001b[34m#metrics {\"Metrics\": {\"update.time\": {\"count\": 1, \"max\": 1044.2581176757812, \"sum\": 1044.2581176757812, \"min\": 1044.2581176757812}}, \"EndTime\": 1592127211.254979, \"Dimensions\": {\"Host\": \"algo-1\", \"Operation\": \"training\", \"Algorithm\": \"AWS/DeepAR\"}, \"StartTime\": 1592127210.210662}\n",
      "\u001b[0m\n",
      "\u001b[34m[06/14/2020 09:33:31 INFO 140075443283776] #throughput_metric: host=algo-1, train throughput=1304.13290799 records/second\u001b[0m\n",
      "\u001b[34m[06/14/2020 09:33:31 INFO 140075443283776] #progress_metric: host=algo-1, completed 16 % of epochs\u001b[0m\n",
      "\u001b[34m[06/14/2020 09:33:31 INFO 140075443283776] #quality_metric: host=algo-1, epoch=7, train loss <loss>=9.51372935555\u001b[0m\n",
      "\u001b[34m[06/14/2020 09:33:31 INFO 140075443283776] loss did not improve\u001b[0m\n",
      "\u001b[34m[06/14/2020 09:33:31 INFO 140075443283776] Epoch[8] Batch[0] avg_epoch_loss=9.482468\u001b[0m\n",
      "\u001b[34m[06/14/2020 09:33:31 INFO 140075443283776] #quality_metric: host=algo-1, epoch=8, batch=0 train loss <loss>=9.48246765137\u001b[0m\n",
      "\u001b[34m[06/14/2020 09:33:31 INFO 140075443283776] Epoch[8] Batch[5] avg_epoch_loss=9.473306\u001b[0m\n",
      "\u001b[34m[06/14/2020 09:33:31 INFO 140075443283776] #quality_metric: host=algo-1, epoch=8, batch=5 train loss <loss>=9.47330649694\u001b[0m\n",
      "\u001b[34m[06/14/2020 09:33:31 INFO 140075443283776] Epoch[8] Batch [5]#011Speed: 5254.39 samples/sec#011loss=9.473306\u001b[0m\n",
      "\u001b[34m[06/14/2020 09:33:32 INFO 140075443283776] Epoch[8] Batch[10] avg_epoch_loss=9.446192\u001b[0m\n",
      "\u001b[34m[06/14/2020 09:33:32 INFO 140075443283776] #quality_metric: host=algo-1, epoch=8, batch=10 train loss <loss>=9.41365528107\u001b[0m\n",
      "\u001b[34m[06/14/2020 09:33:32 INFO 140075443283776] Epoch[8] Batch [10]#011Speed: 4903.76 samples/sec#011loss=9.413655\u001b[0m\n",
      "\u001b[34m[06/14/2020 09:33:32 INFO 140075443283776] processed a total of 1326 examples\u001b[0m\n",
      "\u001b[34m#metrics {\"Metrics\": {\"update.time\": {\"count\": 1, \"max\": 747.0219135284424, \"sum\": 747.0219135284424, \"min\": 747.0219135284424}}, \"EndTime\": 1592127212.002505, \"Dimensions\": {\"Host\": \"algo-1\", \"Operation\": \"training\", \"Algorithm\": \"AWS/DeepAR\"}, \"StartTime\": 1592127211.255057}\n",
      "\u001b[0m\n",
      "\u001b[34m[06/14/2020 09:33:32 INFO 140075443283776] #throughput_metric: host=algo-1, train throughput=1774.77757358 records/second\u001b[0m\n",
      "\u001b[34m[06/14/2020 09:33:32 INFO 140075443283776] #progress_metric: host=algo-1, completed 18 % of epochs\u001b[0m\n",
      "\u001b[34m[06/14/2020 09:33:32 INFO 140075443283776] #quality_metric: host=algo-1, epoch=8, train loss <loss>=9.44619230791\u001b[0m\n",
      "\u001b[34m[06/14/2020 09:33:32 INFO 140075443283776] loss did not improve\u001b[0m\n",
      "\u001b[34m[06/14/2020 09:33:32 INFO 140075443283776] Epoch[9] Batch[0] avg_epoch_loss=9.337564\u001b[0m\n",
      "\u001b[34m[06/14/2020 09:33:32 INFO 140075443283776] #quality_metric: host=algo-1, epoch=9, batch=0 train loss <loss>=9.33756446838\u001b[0m\n",
      "\u001b[34m[06/14/2020 09:33:32 INFO 140075443283776] Epoch[9] Batch[5] avg_epoch_loss=9.386949\u001b[0m\n",
      "\u001b[34m[06/14/2020 09:33:32 INFO 140075443283776] #quality_metric: host=algo-1, epoch=9, batch=5 train loss <loss>=9.38694874446\u001b[0m\n",
      "\u001b[34m[06/14/2020 09:33:32 INFO 140075443283776] Epoch[9] Batch [5]#011Speed: 3698.35 samples/sec#011loss=9.386949\u001b[0m\n",
      "\u001b[34m[06/14/2020 09:33:32 INFO 140075443283776] Epoch[9] Batch[10] avg_epoch_loss=9.370526\u001b[0m\n",
      "\u001b[34m[06/14/2020 09:33:32 INFO 140075443283776] #quality_metric: host=algo-1, epoch=9, batch=10 train loss <loss>=9.35081920624\u001b[0m\n",
      "\u001b[34m[06/14/2020 09:33:32 INFO 140075443283776] Epoch[9] Batch [10]#011Speed: 4739.30 samples/sec#011loss=9.350819\u001b[0m\n",
      "\u001b[34m[06/14/2020 09:33:32 INFO 140075443283776] processed a total of 1391 examples\u001b[0m\n",
      "\u001b[34m#metrics {\"Metrics\": {\"update.time\": {\"count\": 1, \"max\": 790.0509834289551, \"sum\": 790.0509834289551, \"min\": 790.0509834289551}}, \"EndTime\": 1592127212.79304, \"Dimensions\": {\"Host\": \"algo-1\", \"Operation\": \"training\", \"Algorithm\": \"AWS/DeepAR\"}, \"StartTime\": 1592127212.002584}\n",
      "\u001b[0m\n",
      "\u001b[34m[06/14/2020 09:33:32 INFO 140075443283776] #throughput_metric: host=algo-1, train throughput=1760.38290404 records/second\u001b[0m\n",
      "\u001b[34m[06/14/2020 09:33:32 INFO 140075443283776] #progress_metric: host=algo-1, completed 20 % of epochs\u001b[0m\n",
      "\u001b[34m[06/14/2020 09:33:32 INFO 140075443283776] #quality_metric: host=algo-1, epoch=9, train loss <loss>=9.37052622708\u001b[0m\n",
      "\u001b[34m[06/14/2020 09:33:32 INFO 140075443283776] best epoch loss so far\u001b[0m\n",
      "\u001b[34m[06/14/2020 09:33:32 INFO 140075443283776] Saved checkpoint to \"/opt/ml/model/state_1c7b0100-7d92-4aa6-a0a4-e09fd213534c-0000.params\"\u001b[0m\n",
      "\u001b[34m#metrics {\"Metrics\": {\"state.serialize.time\": {\"count\": 1, \"max\": 8.355855941772461, \"sum\": 8.355855941772461, \"min\": 8.355855941772461}}, \"EndTime\": 1592127212.801981, \"Dimensions\": {\"Host\": \"algo-1\", \"Operation\": \"training\", \"Algorithm\": \"AWS/DeepAR\"}, \"StartTime\": 1592127212.793118}\n",
      "\u001b[0m\n",
      "\u001b[34m[06/14/2020 09:33:33 INFO 140075443283776] Epoch[10] Batch[0] avg_epoch_loss=9.184750\u001b[0m\n",
      "\u001b[34m[06/14/2020 09:33:33 INFO 140075443283776] #quality_metric: host=algo-1, epoch=10, batch=0 train loss <loss>=9.18474960327\u001b[0m\n",
      "\n",
      "2020-06-14 09:33:22 Training - Training image download completed. Training in progress.\u001b[34m[06/14/2020 09:33:33 INFO 140075443283776] Epoch[10] Batch[5] avg_epoch_loss=9.305506\u001b[0m\n",
      "\u001b[34m[06/14/2020 09:33:33 INFO 140075443283776] #quality_metric: host=algo-1, epoch=10, batch=5 train loss <loss>=9.30550607045\u001b[0m\n",
      "\u001b[34m[06/14/2020 09:33:33 INFO 140075443283776] Epoch[10] Batch [5]#011Speed: 5315.12 samples/sec#011loss=9.305506\u001b[0m\n",
      "\u001b[34m[06/14/2020 09:33:33 INFO 140075443283776] Epoch[10] Batch[10] avg_epoch_loss=9.250154\u001b[0m\n",
      "\u001b[34m[06/14/2020 09:33:33 INFO 140075443283776] #quality_metric: host=algo-1, epoch=10, batch=10 train loss <loss>=9.18373146057\u001b[0m\n",
      "\u001b[34m[06/14/2020 09:33:33 INFO 140075443283776] Epoch[10] Batch [10]#011Speed: 5045.09 samples/sec#011loss=9.183731\u001b[0m\n",
      "\u001b[34m[06/14/2020 09:33:33 INFO 140075443283776] processed a total of 1312 examples\u001b[0m\n",
      "\u001b[34m#metrics {\"Metrics\": {\"update.time\": {\"count\": 1, \"max\": 672.3101139068604, \"sum\": 672.3101139068604, \"min\": 672.3101139068604}}, \"EndTime\": 1592127213.474373, \"Dimensions\": {\"Host\": \"algo-1\", \"Operation\": \"training\", \"Algorithm\": \"AWS/DeepAR\"}, \"StartTime\": 1592127212.802022}\n",
      "\u001b[0m\n",
      "\u001b[34m[06/14/2020 09:33:33 INFO 140075443283776] #throughput_metric: host=algo-1, train throughput=1951.20498988 records/second\u001b[0m\n",
      "\u001b[34m[06/14/2020 09:33:33 INFO 140075443283776] #progress_metric: host=algo-1, completed 22 % of epochs\u001b[0m\n",
      "\u001b[34m[06/14/2020 09:33:33 INFO 140075443283776] #quality_metric: host=algo-1, epoch=10, train loss <loss>=9.25015397505\u001b[0m\n",
      "\u001b[34m[06/14/2020 09:33:33 INFO 140075443283776] best epoch loss so far\u001b[0m\n",
      "\u001b[34m[06/14/2020 09:33:33 INFO 140075443283776] Saved checkpoint to \"/opt/ml/model/state_04e1e43e-6ce0-499b-a664-e7c6ccd6dec9-0000.params\"\u001b[0m\n",
      "\u001b[34m#metrics {\"Metrics\": {\"state.serialize.time\": {\"count\": 1, \"max\": 7.586956024169922, \"sum\": 7.586956024169922, \"min\": 7.586956024169922}}, \"EndTime\": 1592127213.482545, \"Dimensions\": {\"Host\": \"algo-1\", \"Operation\": \"training\", \"Algorithm\": \"AWS/DeepAR\"}, \"StartTime\": 1592127213.47444}\n",
      "\u001b[0m\n",
      "\u001b[34m[06/14/2020 09:33:33 INFO 140075443283776] Epoch[11] Batch[0] avg_epoch_loss=9.149373\u001b[0m\n",
      "\u001b[34m[06/14/2020 09:33:33 INFO 140075443283776] #quality_metric: host=algo-1, epoch=11, batch=0 train loss <loss>=9.1493730545\u001b[0m\n",
      "\u001b[34m[06/14/2020 09:33:34 INFO 140075443283776] Epoch[11] Batch[5] avg_epoch_loss=9.219230\u001b[0m\n",
      "\u001b[34m[06/14/2020 09:33:34 INFO 140075443283776] #quality_metric: host=algo-1, epoch=11, batch=5 train loss <loss>=9.21923033396\u001b[0m\n",
      "\u001b[34m[06/14/2020 09:33:34 INFO 140075443283776] Epoch[11] Batch [5]#011Speed: 5365.84 samples/sec#011loss=9.219230\u001b[0m\n",
      "\u001b[34m[06/14/2020 09:33:34 INFO 140075443283776] processed a total of 1270 examples\u001b[0m\n",
      "\u001b[34m#metrics {\"Metrics\": {\"update.time\": {\"count\": 1, \"max\": 644.2742347717285, \"sum\": 644.2742347717285, \"min\": 644.2742347717285}}, \"EndTime\": 1592127214.126936, \"Dimensions\": {\"Host\": \"algo-1\", \"Operation\": \"training\", \"Algorithm\": \"AWS/DeepAR\"}, \"StartTime\": 1592127213.482608}\n",
      "\u001b[0m\n",
      "\u001b[34m[06/14/2020 09:33:34 INFO 140075443283776] #throughput_metric: host=algo-1, train throughput=1970.91125441 records/second\u001b[0m\n",
      "\u001b[34m[06/14/2020 09:33:34 INFO 140075443283776] #progress_metric: host=algo-1, completed 24 % of epochs\u001b[0m\n",
      "\u001b[34m[06/14/2020 09:33:34 INFO 140075443283776] #quality_metric: host=algo-1, epoch=11, train loss <loss>=9.2666384697\u001b[0m\n",
      "\u001b[34m[06/14/2020 09:33:34 INFO 140075443283776] loss did not improve\u001b[0m\n",
      "\u001b[34m[06/14/2020 09:33:34 INFO 140075443283776] Epoch[12] Batch[0] avg_epoch_loss=9.186854\u001b[0m\n",
      "\u001b[34m[06/14/2020 09:33:34 INFO 140075443283776] #quality_metric: host=algo-1, epoch=12, batch=0 train loss <loss>=9.18685436249\u001b[0m\n",
      "\u001b[34m[06/14/2020 09:33:34 INFO 140075443283776] Epoch[12] Batch[5] avg_epoch_loss=9.180371\u001b[0m\n",
      "\u001b[34m[06/14/2020 09:33:34 INFO 140075443283776] #quality_metric: host=algo-1, epoch=12, batch=5 train loss <loss>=9.1803706487\u001b[0m\n",
      "\u001b[34m[06/14/2020 09:33:34 INFO 140075443283776] Epoch[12] Batch [5]#011Speed: 5304.16 samples/sec#011loss=9.180371\u001b[0m\n",
      "\u001b[34m[06/14/2020 09:33:34 INFO 140075443283776] Epoch[12] Batch[10] avg_epoch_loss=9.245820\u001b[0m\n",
      "\u001b[34m[06/14/2020 09:33:34 INFO 140075443283776] #quality_metric: host=algo-1, epoch=12, batch=10 train loss <loss>=9.32435932159\u001b[0m\n",
      "\u001b[34m[06/14/2020 09:33:34 INFO 140075443283776] Epoch[12] Batch [10]#011Speed: 5107.45 samples/sec#011loss=9.324359\u001b[0m\n",
      "\u001b[34m[06/14/2020 09:33:34 INFO 140075443283776] processed a total of 1332 examples\u001b[0m\n",
      "\u001b[34m#metrics {\"Metrics\": {\"update.time\": {\"count\": 1, \"max\": 687.9000663757324, \"sum\": 687.9000663757324, \"min\": 687.9000663757324}}, \"EndTime\": 1592127214.81532, \"Dimensions\": {\"Host\": \"algo-1\", \"Operation\": \"training\", \"Algorithm\": \"AWS/DeepAR\"}, \"StartTime\": 1592127214.127002}\n",
      "\u001b[0m\n",
      "\u001b[34m[06/14/2020 09:33:34 INFO 140075443283776] #throughput_metric: host=algo-1, train throughput=1935.97080318 records/second\u001b[0m\n",
      "\u001b[34m[06/14/2020 09:33:34 INFO 140075443283776] #progress_metric: host=algo-1, completed 26 % of epochs\u001b[0m\n",
      "\u001b[34m[06/14/2020 09:33:34 INFO 140075443283776] #quality_metric: host=algo-1, epoch=12, train loss <loss>=9.24582004547\u001b[0m\n",
      "\u001b[34m[06/14/2020 09:33:34 INFO 140075443283776] best epoch loss so far\u001b[0m\n",
      "\u001b[34m[06/14/2020 09:33:34 INFO 140075443283776] Saved checkpoint to \"/opt/ml/model/state_3d9bff48-d2f4-4d5e-878e-40129d65a5d9-0000.params\"\u001b[0m\n",
      "\u001b[34m#metrics {\"Metrics\": {\"state.serialize.time\": {\"count\": 1, \"max\": 8.337020874023438, \"sum\": 8.337020874023438, \"min\": 8.337020874023438}}, \"EndTime\": 1592127214.824293, \"Dimensions\": {\"Host\": \"algo-1\", \"Operation\": \"training\", \"Algorithm\": \"AWS/DeepAR\"}, \"StartTime\": 1592127214.815406}\n",
      "\u001b[0m\n",
      "\u001b[34m[06/14/2020 09:33:35 INFO 140075443283776] Epoch[13] Batch[0] avg_epoch_loss=9.300369\u001b[0m\n",
      "\u001b[34m[06/14/2020 09:33:35 INFO 140075443283776] #quality_metric: host=algo-1, epoch=13, batch=0 train loss <loss>=9.3003692627\u001b[0m\n",
      "\u001b[34m[06/14/2020 09:33:35 INFO 140075443283776] Epoch[13] Batch[5] avg_epoch_loss=9.357056\u001b[0m\n",
      "\u001b[34m[06/14/2020 09:33:35 INFO 140075443283776] #quality_metric: host=algo-1, epoch=13, batch=5 train loss <loss>=9.35705582301\u001b[0m\n",
      "\u001b[34m[06/14/2020 09:33:35 INFO 140075443283776] Epoch[13] Batch [5]#011Speed: 5100.33 samples/sec#011loss=9.357056\u001b[0m\n",
      "\u001b[34m[06/14/2020 09:33:35 INFO 140075443283776] Epoch[13] Batch[10] avg_epoch_loss=9.321459\u001b[0m\n",
      "\u001b[34m[06/14/2020 09:33:35 INFO 140075443283776] #quality_metric: host=algo-1, epoch=13, batch=10 train loss <loss>=9.27874221802\u001b[0m\n",
      "\u001b[34m[06/14/2020 09:33:35 INFO 140075443283776] Epoch[13] Batch [10]#011Speed: 4830.16 samples/sec#011loss=9.278742\u001b[0m\n",
      "\u001b[34m[06/14/2020 09:33:35 INFO 140075443283776] processed a total of 1350 examples\u001b[0m\n",
      "\u001b[34m#metrics {\"Metrics\": {\"update.time\": {\"count\": 1, \"max\": 704.5199871063232, \"sum\": 704.5199871063232, \"min\": 704.5199871063232}}, \"EndTime\": 1592127215.528941, \"Dimensions\": {\"Host\": \"algo-1\", \"Operation\": \"training\", \"Algorithm\": \"AWS/DeepAR\"}, \"StartTime\": 1592127214.824358}\n",
      "\u001b[0m\n",
      "\u001b[34m[06/14/2020 09:33:35 INFO 140075443283776] #throughput_metric: host=algo-1, train throughput=1915.86374767 records/second\u001b[0m\n",
      "\u001b[34m[06/14/2020 09:33:35 INFO 140075443283776] #progress_metric: host=algo-1, completed 28 % of epochs\u001b[0m\n",
      "\u001b[34m[06/14/2020 09:33:35 INFO 140075443283776] #quality_metric: host=algo-1, epoch=13, train loss <loss>=9.32145872983\u001b[0m\n",
      "\u001b[34m[06/14/2020 09:33:35 INFO 140075443283776] loss did not improve\u001b[0m\n",
      "\u001b[34m[06/14/2020 09:33:36 INFO 140075443283776] Epoch[14] Batch[0] avg_epoch_loss=9.314615\u001b[0m\n",
      "\u001b[34m[06/14/2020 09:33:36 INFO 140075443283776] #quality_metric: host=algo-1, epoch=14, batch=0 train loss <loss>=9.31461524963\u001b[0m\n",
      "\u001b[34m[06/14/2020 09:33:36 INFO 140075443283776] Epoch[14] Batch[5] avg_epoch_loss=9.299927\u001b[0m\n",
      "\u001b[34m[06/14/2020 09:33:36 INFO 140075443283776] #quality_metric: host=algo-1, epoch=14, batch=5 train loss <loss>=9.29992659887\u001b[0m\n",
      "\u001b[34m[06/14/2020 09:33:36 INFO 140075443283776] Epoch[14] Batch [5]#011Speed: 4819.17 samples/sec#011loss=9.299927\u001b[0m\n",
      "\u001b[34m[06/14/2020 09:33:36 INFO 140075443283776] processed a total of 1266 examples\u001b[0m\n",
      "\u001b[34m#metrics {\"Metrics\": {\"update.time\": {\"count\": 1, \"max\": 705.4879665374756, \"sum\": 705.4879665374756, \"min\": 705.4879665374756}}, \"EndTime\": 1592127216.235038, \"Dimensions\": {\"Host\": \"algo-1\", \"Operation\": \"training\", \"Algorithm\": \"AWS/DeepAR\"}, \"StartTime\": 1592127215.529023}\n",
      "\u001b[0m\n",
      "\u001b[34m[06/14/2020 09:33:36 INFO 140075443283776] #throughput_metric: host=algo-1, train throughput=1794.2558229 records/second\u001b[0m\n",
      "\u001b[34m[06/14/2020 09:33:36 INFO 140075443283776] #progress_metric: host=algo-1, completed 30 % of epochs\u001b[0m\n",
      "\u001b[34m[06/14/2020 09:33:36 INFO 140075443283776] #quality_metric: host=algo-1, epoch=14, train loss <loss>=9.27120847702\u001b[0m\n",
      "\u001b[34m[06/14/2020 09:33:36 INFO 140075443283776] loss did not improve\u001b[0m\n",
      "\u001b[34m[06/14/2020 09:33:36 INFO 140075443283776] Epoch[15] Batch[0] avg_epoch_loss=9.204038\u001b[0m\n",
      "\u001b[34m[06/14/2020 09:33:36 INFO 140075443283776] #quality_metric: host=algo-1, epoch=15, batch=0 train loss <loss>=9.20403766632\u001b[0m\n",
      "\u001b[34m[06/14/2020 09:33:36 INFO 140075443283776] Epoch[15] Batch[5] avg_epoch_loss=9.262214\u001b[0m\n",
      "\u001b[34m[06/14/2020 09:33:36 INFO 140075443283776] #quality_metric: host=algo-1, epoch=15, batch=5 train loss <loss>=9.26221370697\u001b[0m\n",
      "\u001b[34m[06/14/2020 09:33:36 INFO 140075443283776] Epoch[15] Batch [5]#011Speed: 5335.42 samples/sec#011loss=9.262214\u001b[0m\n",
      "\u001b[34m[06/14/2020 09:33:36 INFO 140075443283776] processed a total of 1278 examples\u001b[0m\n",
      "\u001b[34m#metrics {\"Metrics\": {\"update.time\": {\"count\": 1, \"max\": 642.5330638885498, \"sum\": 642.5330638885498, \"min\": 642.5330638885498}}, \"EndTime\": 1592127216.878104, \"Dimensions\": {\"Host\": \"algo-1\", \"Operation\": \"training\", \"Algorithm\": \"AWS/DeepAR\"}, \"StartTime\": 1592127216.235103}\n",
      "\u001b[0m\n",
      "\u001b[34m[06/14/2020 09:33:36 INFO 140075443283776] #throughput_metric: host=algo-1, train throughput=1988.64112776 records/second\u001b[0m\n",
      "\u001b[34m[06/14/2020 09:33:36 INFO 140075443283776] #progress_metric: host=algo-1, completed 32 % of epochs\u001b[0m\n",
      "\u001b[34m[06/14/2020 09:33:36 INFO 140075443283776] #quality_metric: host=algo-1, epoch=15, train loss <loss>=9.22895860672\u001b[0m\n",
      "\u001b[34m[06/14/2020 09:33:36 INFO 140075443283776] best epoch loss so far\u001b[0m\n",
      "\u001b[34m[06/14/2020 09:33:36 INFO 140075443283776] Saved checkpoint to \"/opt/ml/model/state_cf6d6d3a-e129-4eb4-b390-61d55de50b5f-0000.params\"\u001b[0m\n",
      "\u001b[34m#metrics {\"Metrics\": {\"state.serialize.time\": {\"count\": 1, \"max\": 10.426998138427734, \"sum\": 10.426998138427734, \"min\": 10.426998138427734}}, \"EndTime\": 1592127216.889082, \"Dimensions\": {\"Host\": \"algo-1\", \"Operation\": \"training\", \"Algorithm\": \"AWS/DeepAR\"}, \"StartTime\": 1592127216.878182}\n",
      "\u001b[0m\n",
      "\u001b[34m[06/14/2020 09:33:37 INFO 140075443283776] Epoch[16] Batch[0] avg_epoch_loss=9.420427\u001b[0m\n",
      "\u001b[34m[06/14/2020 09:33:37 INFO 140075443283776] #quality_metric: host=algo-1, epoch=16, batch=0 train loss <loss>=9.42042732239\u001b[0m\n",
      "\u001b[34m[06/14/2020 09:33:37 INFO 140075443283776] Epoch[16] Batch[5] avg_epoch_loss=9.272910\u001b[0m\n",
      "\u001b[34m[06/14/2020 09:33:37 INFO 140075443283776] #quality_metric: host=algo-1, epoch=16, batch=5 train loss <loss>=9.27290980021\u001b[0m\n",
      "\u001b[34m[06/14/2020 09:33:37 INFO 140075443283776] Epoch[16] Batch [5]#011Speed: 5200.63 samples/sec#011loss=9.272910\u001b[0m\n",
      "\u001b[34m[06/14/2020 09:33:37 INFO 140075443283776] Epoch[16] Batch[10] avg_epoch_loss=9.421221\u001b[0m\n",
      "\u001b[34m[06/14/2020 09:33:37 INFO 140075443283776] #quality_metric: host=algo-1, epoch=16, batch=10 train loss <loss>=9.59919376373\u001b[0m\n",
      "\u001b[34m[06/14/2020 09:33:37 INFO 140075443283776] Epoch[16] Batch [10]#011Speed: 4842.35 samples/sec#011loss=9.599194\u001b[0m\n",
      "\u001b[34m[06/14/2020 09:33:37 INFO 140075443283776] processed a total of 1337 examples\u001b[0m\n",
      "\u001b[34m#metrics {\"Metrics\": {\"update.time\": {\"count\": 1, \"max\": 755.2340030670166, \"sum\": 755.2340030670166, \"min\": 755.2340030670166}}, \"EndTime\": 1592127217.644472, \"Dimensions\": {\"Host\": \"algo-1\", \"Operation\": \"training\", \"Algorithm\": \"AWS/DeepAR\"}, \"StartTime\": 1592127216.889183}\n",
      "\u001b[0m\n",
      "\u001b[34m[06/14/2020 09:33:37 INFO 140075443283776] #throughput_metric: host=algo-1, train throughput=1770.06413825 records/second\u001b[0m\n",
      "\u001b[34m[06/14/2020 09:33:37 INFO 140075443283776] #progress_metric: host=algo-1, completed 34 % of epochs\u001b[0m\n",
      "\u001b[34m[06/14/2020 09:33:37 INFO 140075443283776] #quality_metric: host=algo-1, epoch=16, train loss <loss>=9.42122069272\u001b[0m\n",
      "\u001b[34m[06/14/2020 09:33:37 INFO 140075443283776] loss did not improve\u001b[0m\n",
      "\u001b[34m[06/14/2020 09:33:38 INFO 140075443283776] Epoch[17] Batch[0] avg_epoch_loss=9.309956\u001b[0m\n",
      "\u001b[34m[06/14/2020 09:33:38 INFO 140075443283776] #quality_metric: host=algo-1, epoch=17, batch=0 train loss <loss>=9.30995559692\u001b[0m\n",
      "\u001b[34m[06/14/2020 09:33:38 INFO 140075443283776] Epoch[17] Batch[5] avg_epoch_loss=9.142107\u001b[0m\n",
      "\u001b[34m[06/14/2020 09:33:38 INFO 140075443283776] #quality_metric: host=algo-1, epoch=17, batch=5 train loss <loss>=9.14210716883\u001b[0m\n",
      "\u001b[34m[06/14/2020 09:33:38 INFO 140075443283776] Epoch[17] Batch [5]#011Speed: 5320.17 samples/sec#011loss=9.142107\u001b[0m\n",
      "\u001b[34m[06/14/2020 09:33:38 INFO 140075443283776] Epoch[17] Batch[10] avg_epoch_loss=9.215425\u001b[0m\n",
      "\u001b[34m[06/14/2020 09:33:38 INFO 140075443283776] #quality_metric: host=algo-1, epoch=17, batch=10 train loss <loss>=9.30340633392\u001b[0m\n",
      "\u001b[34m[06/14/2020 09:33:38 INFO 140075443283776] Epoch[17] Batch [10]#011Speed: 4862.34 samples/sec#011loss=9.303406\u001b[0m\n",
      "\u001b[34m[06/14/2020 09:33:38 INFO 140075443283776] processed a total of 1348 examples\u001b[0m\n",
      "\u001b[34m#metrics {\"Metrics\": {\"update.time\": {\"count\": 1, \"max\": 746.5119361877441, \"sum\": 746.5119361877441, \"min\": 746.5119361877441}}, \"EndTime\": 1592127218.391489, \"Dimensions\": {\"Host\": \"algo-1\", \"Operation\": \"training\", \"Algorithm\": \"AWS/DeepAR\"}, \"StartTime\": 1592127217.644544}\n",
      "\u001b[0m\n",
      "\u001b[34m[06/14/2020 09:33:38 INFO 140075443283776] #throughput_metric: host=algo-1, train throughput=1805.45571687 records/second\u001b[0m\n",
      "\u001b[34m[06/14/2020 09:33:38 INFO 140075443283776] #progress_metric: host=algo-1, completed 36 % of epochs\u001b[0m\n",
      "\u001b[34m[06/14/2020 09:33:38 INFO 140075443283776] #quality_metric: host=algo-1, epoch=17, train loss <loss>=9.21542497115\u001b[0m\n",
      "\u001b[34m[06/14/2020 09:33:38 INFO 140075443283776] best epoch loss so far\u001b[0m\n",
      "\u001b[34m[06/14/2020 09:33:38 INFO 140075443283776] Saved checkpoint to \"/opt/ml/model/state_d27bd349-6ecf-4a81-a6e8-0d3433cd6512-0000.params\"\u001b[0m\n",
      "\u001b[34m#metrics {\"Metrics\": {\"state.serialize.time\": {\"count\": 1, \"max\": 10.445833206176758, \"sum\": 10.445833206176758, \"min\": 10.445833206176758}}, \"EndTime\": 1592127218.402462, \"Dimensions\": {\"Host\": \"algo-1\", \"Operation\": \"training\", \"Algorithm\": \"AWS/DeepAR\"}, \"StartTime\": 1592127218.391566}\n",
      "\u001b[0m\n",
      "\u001b[34m[06/14/2020 09:33:38 INFO 140075443283776] Epoch[18] Batch[0] avg_epoch_loss=9.383564\u001b[0m\n",
      "\u001b[34m[06/14/2020 09:33:38 INFO 140075443283776] #quality_metric: host=algo-1, epoch=18, batch=0 train loss <loss>=9.38356399536\u001b[0m\n",
      "\u001b[34m[06/14/2020 09:33:38 INFO 140075443283776] Epoch[18] Batch[5] avg_epoch_loss=9.229187\u001b[0m\n",
      "\u001b[34m[06/14/2020 09:33:38 INFO 140075443283776] #quality_metric: host=algo-1, epoch=18, batch=5 train loss <loss>=9.22918732961\u001b[0m\n",
      "\u001b[34m[06/14/2020 09:33:38 INFO 140075443283776] Epoch[18] Batch [5]#011Speed: 5265.20 samples/sec#011loss=9.229187\u001b[0m\n",
      "\u001b[34m[06/14/2020 09:33:39 INFO 140075443283776] Epoch[18] Batch[10] avg_epoch_loss=9.213902\u001b[0m\n",
      "\u001b[34m[06/14/2020 09:33:39 INFO 140075443283776] #quality_metric: host=algo-1, epoch=18, batch=10 train loss <loss>=9.19555854797\u001b[0m\n",
      "\u001b[34m[06/14/2020 09:33:39 INFO 140075443283776] Epoch[18] Batch [10]#011Speed: 5073.49 samples/sec#011loss=9.195559\u001b[0m\n",
      "\u001b[34m[06/14/2020 09:33:39 INFO 140075443283776] processed a total of 1377 examples\u001b[0m\n",
      "\u001b[34m#metrics {\"Metrics\": {\"update.time\": {\"count\": 1, \"max\": 717.6949977874756, \"sum\": 717.6949977874756, \"min\": 717.6949977874756}}, \"EndTime\": 1592127219.120274, \"Dimensions\": {\"Host\": \"algo-1\", \"Operation\": \"training\", \"Algorithm\": \"AWS/DeepAR\"}, \"StartTime\": 1592127218.402521}\n",
      "\u001b[0m\n",
      "\u001b[34m[06/14/2020 09:33:39 INFO 140075443283776] #throughput_metric: host=algo-1, train throughput=1918.30776323 records/second\u001b[0m\n",
      "\u001b[34m[06/14/2020 09:33:39 INFO 140075443283776] #progress_metric: host=algo-1, completed 38 % of epochs\u001b[0m\n",
      "\u001b[34m[06/14/2020 09:33:39 INFO 140075443283776] #quality_metric: host=algo-1, epoch=18, train loss <loss>=9.21390151978\u001b[0m\n",
      "\u001b[34m[06/14/2020 09:33:39 INFO 140075443283776] best epoch loss so far\u001b[0m\n",
      "\u001b[34m[06/14/2020 09:33:39 INFO 140075443283776] Saved checkpoint to \"/opt/ml/model/state_5763fe30-153d-4198-8ffa-ffd0922b459d-0000.params\"\u001b[0m\n",
      "\u001b[34m#metrics {\"Metrics\": {\"state.serialize.time\": {\"count\": 1, \"max\": 8.352994918823242, \"sum\": 8.352994918823242, \"min\": 8.352994918823242}}, \"EndTime\": 1592127219.129224, \"Dimensions\": {\"Host\": \"algo-1\", \"Operation\": \"training\", \"Algorithm\": \"AWS/DeepAR\"}, \"StartTime\": 1592127219.12036}\n",
      "\u001b[0m\n",
      "\u001b[34m[06/14/2020 09:33:39 INFO 140075443283776] Epoch[19] Batch[0] avg_epoch_loss=9.318345\u001b[0m\n",
      "\u001b[34m[06/14/2020 09:33:39 INFO 140075443283776] #quality_metric: host=algo-1, epoch=19, batch=0 train loss <loss>=9.31834506989\u001b[0m\n",
      "\u001b[34m[06/14/2020 09:33:39 INFO 140075443283776] Epoch[19] Batch[5] avg_epoch_loss=9.251105\u001b[0m\n",
      "\u001b[34m[06/14/2020 09:33:39 INFO 140075443283776] #quality_metric: host=algo-1, epoch=19, batch=5 train loss <loss>=9.2511048317\u001b[0m\n",
      "\u001b[34m[06/14/2020 09:33:39 INFO 140075443283776] Epoch[19] Batch [5]#011Speed: 5196.03 samples/sec#011loss=9.251105\u001b[0m\n",
      "\u001b[34m[06/14/2020 09:33:39 INFO 140075443283776] Epoch[19] Batch[10] avg_epoch_loss=8.950071\u001b[0m\n",
      "\u001b[34m[06/14/2020 09:33:39 INFO 140075443283776] #quality_metric: host=algo-1, epoch=19, batch=10 train loss <loss>=8.58882932663\u001b[0m\n",
      "\u001b[34m[06/14/2020 09:33:39 INFO 140075443283776] Epoch[19] Batch [10]#011Speed: 4819.57 samples/sec#011loss=8.588829\u001b[0m\n",
      "\u001b[34m[06/14/2020 09:33:39 INFO 140075443283776] processed a total of 1333 examples\u001b[0m\n",
      "\u001b[34m#metrics {\"Metrics\": {\"update.time\": {\"count\": 1, \"max\": 690.6599998474121, \"sum\": 690.6599998474121, \"min\": 690.6599998474121}}, \"EndTime\": 1592127219.819993, \"Dimensions\": {\"Host\": \"algo-1\", \"Operation\": \"training\", \"Algorithm\": \"AWS/DeepAR\"}, \"StartTime\": 1592127219.129273}\n",
      "\u001b[0m\n",
      "\u001b[34m[06/14/2020 09:33:39 INFO 140075443283776] #throughput_metric: host=algo-1, train throughput=1929.71352265 records/second\u001b[0m\n",
      "\u001b[34m[06/14/2020 09:33:39 INFO 140075443283776] #progress_metric: host=algo-1, completed 40 % of epochs\u001b[0m\n",
      "\u001b[34m[06/14/2020 09:33:39 INFO 140075443283776] #quality_metric: host=algo-1, epoch=19, train loss <loss>=8.95007051121\u001b[0m\n",
      "\u001b[34m[06/14/2020 09:33:39 INFO 140075443283776] best epoch loss so far\u001b[0m\n",
      "\u001b[34m[06/14/2020 09:33:39 INFO 140075443283776] Saved checkpoint to \"/opt/ml/model/state_98f0f3d0-bbaa-4127-b115-776d9d7d7ad7-0000.params\"\u001b[0m\n",
      "\u001b[34m#metrics {\"Metrics\": {\"state.serialize.time\": {\"count\": 1, \"max\": 6.776094436645508, \"sum\": 6.776094436645508, \"min\": 6.776094436645508}}, \"EndTime\": 1592127219.827371, \"Dimensions\": {\"Host\": \"algo-1\", \"Operation\": \"training\", \"Algorithm\": \"AWS/DeepAR\"}, \"StartTime\": 1592127219.820069}\n",
      "\u001b[0m\n",
      "\u001b[34m[06/14/2020 09:33:40 INFO 140075443283776] Epoch[20] Batch[0] avg_epoch_loss=9.072448\u001b[0m\n",
      "\u001b[34m[06/14/2020 09:33:40 INFO 140075443283776] #quality_metric: host=algo-1, epoch=20, batch=0 train loss <loss>=9.07244777679\u001b[0m\n",
      "\u001b[34m[06/14/2020 09:33:40 INFO 140075443283776] Epoch[20] Batch[5] avg_epoch_loss=9.143397\u001b[0m\n",
      "\u001b[34m[06/14/2020 09:33:40 INFO 140075443283776] #quality_metric: host=algo-1, epoch=20, batch=5 train loss <loss>=9.1433968544\u001b[0m\n",
      "\u001b[34m[06/14/2020 09:33:40 INFO 140075443283776] Epoch[20] Batch [5]#011Speed: 4180.82 samples/sec#011loss=9.143397\u001b[0m\n",
      "\u001b[34m[06/14/2020 09:33:40 INFO 140075443283776] Epoch[20] Batch[10] avg_epoch_loss=9.123128\u001b[0m\n",
      "\u001b[34m[06/14/2020 09:33:40 INFO 140075443283776] #quality_metric: host=algo-1, epoch=20, batch=10 train loss <loss>=9.09880485535\u001b[0m\n",
      "\u001b[34m[06/14/2020 09:33:40 INFO 140075443283776] Epoch[20] Batch [10]#011Speed: 5090.76 samples/sec#011loss=9.098805\u001b[0m\n",
      "\u001b[34m[06/14/2020 09:33:40 INFO 140075443283776] processed a total of 1404 examples\u001b[0m\n",
      "\u001b[34m#metrics {\"Metrics\": {\"update.time\": {\"count\": 1, \"max\": 723.6709594726562, \"sum\": 723.6709594726562, \"min\": 723.6709594726562}}, \"EndTime\": 1592127220.551169, \"Dimensions\": {\"Host\": \"algo-1\", \"Operation\": \"training\", \"Algorithm\": \"AWS/DeepAR\"}, \"StartTime\": 1592127219.827436}\n",
      "\u001b[0m\n",
      "\u001b[34m[06/14/2020 09:33:40 INFO 140075443283776] #throughput_metric: host=algo-1, train throughput=1939.79190794 records/second\u001b[0m\n",
      "\u001b[34m[06/14/2020 09:33:40 INFO 140075443283776] #progress_metric: host=algo-1, completed 42 % of epochs\u001b[0m\n",
      "\u001b[34m[06/14/2020 09:33:40 INFO 140075443283776] #quality_metric: host=algo-1, epoch=20, train loss <loss>=9.12312776392\u001b[0m\n",
      "\u001b[34m[06/14/2020 09:33:40 INFO 140075443283776] loss did not improve\u001b[0m\n",
      "\u001b[34m[06/14/2020 09:33:40 INFO 140075443283776] Epoch[21] Batch[0] avg_epoch_loss=9.159270\u001b[0m\n",
      "\u001b[34m[06/14/2020 09:33:40 INFO 140075443283776] #quality_metric: host=algo-1, epoch=21, batch=0 train loss <loss>=9.15927028656\u001b[0m\n",
      "\u001b[34m[06/14/2020 09:33:41 INFO 140075443283776] Epoch[21] Batch[5] avg_epoch_loss=9.226419\u001b[0m\n",
      "\u001b[34m[06/14/2020 09:33:41 INFO 140075443283776] #quality_metric: host=algo-1, epoch=21, batch=5 train loss <loss>=9.22641897202\u001b[0m\n",
      "\u001b[34m[06/14/2020 09:33:41 INFO 140075443283776] Epoch[21] Batch [5]#011Speed: 4679.53 samples/sec#011loss=9.226419\u001b[0m\n",
      "\u001b[34m[06/14/2020 09:33:41 INFO 140075443283776] Epoch[21] Batch[10] avg_epoch_loss=9.181280\u001b[0m\n",
      "\u001b[34m[06/14/2020 09:33:41 INFO 140075443283776] #quality_metric: host=algo-1, epoch=21, batch=10 train loss <loss>=9.12711277008\u001b[0m\n",
      "\u001b[34m[06/14/2020 09:33:41 INFO 140075443283776] Epoch[21] Batch [10]#011Speed: 4490.06 samples/sec#011loss=9.127113\u001b[0m\n",
      "\u001b[34m[06/14/2020 09:33:41 INFO 140075443283776] processed a total of 1294 examples\u001b[0m\n",
      "\u001b[34m#metrics {\"Metrics\": {\"update.time\": {\"count\": 1, \"max\": 718.757152557373, \"sum\": 718.757152557373, \"min\": 718.757152557373}}, \"EndTime\": 1592127221.270506, \"Dimensions\": {\"Host\": \"algo-1\", \"Operation\": \"training\", \"Algorithm\": \"AWS/DeepAR\"}, \"StartTime\": 1592127220.551249}\n",
      "\u001b[0m\n",
      "\u001b[34m[06/14/2020 09:33:41 INFO 140075443283776] #throughput_metric: host=algo-1, train throughput=1800.05464941 records/second\u001b[0m\n",
      "\u001b[34m[06/14/2020 09:33:41 INFO 140075443283776] #progress_metric: host=algo-1, completed 44 % of epochs\u001b[0m\n",
      "\u001b[34m[06/14/2020 09:33:41 INFO 140075443283776] #quality_metric: host=algo-1, epoch=21, train loss <loss>=9.18127978932\u001b[0m\n",
      "\u001b[34m[06/14/2020 09:33:41 INFO 140075443283776] loss did not improve\u001b[0m\n",
      "\u001b[34m[06/14/2020 09:33:41 INFO 140075443283776] Epoch[22] Batch[0] avg_epoch_loss=9.076132\u001b[0m\n",
      "\u001b[34m[06/14/2020 09:33:41 INFO 140075443283776] #quality_metric: host=algo-1, epoch=22, batch=0 train loss <loss>=9.07613182068\u001b[0m\n",
      "\u001b[34m[06/14/2020 09:33:41 INFO 140075443283776] Epoch[22] Batch[5] avg_epoch_loss=9.137545\u001b[0m\n",
      "\u001b[34m[06/14/2020 09:33:41 INFO 140075443283776] #quality_metric: host=algo-1, epoch=22, batch=5 train loss <loss>=9.13754542669\u001b[0m\n",
      "\u001b[34m[06/14/2020 09:33:41 INFO 140075443283776] Epoch[22] Batch [5]#011Speed: 4698.93 samples/sec#011loss=9.137545\u001b[0m\n",
      "\u001b[34m[06/14/2020 09:33:42 INFO 140075443283776] Epoch[22] Batch[10] avg_epoch_loss=9.171427\u001b[0m\n",
      "\u001b[34m[06/14/2020 09:33:42 INFO 140075443283776] #quality_metric: host=algo-1, epoch=22, batch=10 train loss <loss>=9.21208534241\u001b[0m\n",
      "\u001b[34m[06/14/2020 09:33:42 INFO 140075443283776] Epoch[22] Batch [10]#011Speed: 5031.88 samples/sec#011loss=9.212085\u001b[0m\n",
      "\u001b[34m[06/14/2020 09:33:42 INFO 140075443283776] processed a total of 1299 examples\u001b[0m\n",
      "\u001b[34m#metrics {\"Metrics\": {\"update.time\": {\"count\": 1, \"max\": 758.5749626159668, \"sum\": 758.5749626159668, \"min\": 758.5749626159668}}, \"EndTime\": 1592127222.029568, \"Dimensions\": {\"Host\": \"algo-1\", \"Operation\": \"training\", \"Algorithm\": \"AWS/DeepAR\"}, \"StartTime\": 1592127221.270579}\n",
      "\u001b[0m\n",
      "\u001b[34m[06/14/2020 09:33:42 INFO 140075443283776] #throughput_metric: host=algo-1, train throughput=1712.13458248 records/second\u001b[0m\n",
      "\u001b[34m[06/14/2020 09:33:42 INFO 140075443283776] #progress_metric: host=algo-1, completed 46 % of epochs\u001b[0m\n",
      "\u001b[34m[06/14/2020 09:33:42 INFO 140075443283776] #quality_metric: host=algo-1, epoch=22, train loss <loss>=9.17142720656\u001b[0m\n",
      "\u001b[34m[06/14/2020 09:33:42 INFO 140075443283776] loss did not improve\u001b[0m\n",
      "\u001b[34m[06/14/2020 09:33:42 INFO 140075443283776] Epoch[23] Batch[0] avg_epoch_loss=9.473744\u001b[0m\n",
      "\u001b[34m[06/14/2020 09:33:42 INFO 140075443283776] #quality_metric: host=algo-1, epoch=23, batch=0 train loss <loss>=9.4737443924\u001b[0m\n",
      "\u001b[34m[06/14/2020 09:33:42 INFO 140075443283776] Epoch[23] Batch[5] avg_epoch_loss=9.257223\u001b[0m\n",
      "\u001b[34m[06/14/2020 09:33:42 INFO 140075443283776] #quality_metric: host=algo-1, epoch=23, batch=5 train loss <loss>=9.25722312927\u001b[0m\n",
      "\u001b[34m[06/14/2020 09:33:42 INFO 140075443283776] Epoch[23] Batch [5]#011Speed: 4356.11 samples/sec#011loss=9.257223\u001b[0m\n",
      "\u001b[34m[06/14/2020 09:33:42 INFO 140075443283776] processed a total of 1280 examples\u001b[0m\n",
      "\u001b[34m#metrics {\"Metrics\": {\"update.time\": {\"count\": 1, \"max\": 670.8931922912598, \"sum\": 670.8931922912598, \"min\": 670.8931922912598}}, \"EndTime\": 1592127222.701032, \"Dimensions\": {\"Host\": \"algo-1\", \"Operation\": \"training\", \"Algorithm\": \"AWS/DeepAR\"}, \"StartTime\": 1592127222.029653}\n",
      "\u001b[0m\n",
      "\u001b[34m[06/14/2020 09:33:42 INFO 140075443283776] #throughput_metric: host=algo-1, train throughput=1907.53755146 records/second\u001b[0m\n",
      "\u001b[34m[06/14/2020 09:33:42 INFO 140075443283776] #progress_metric: host=algo-1, completed 48 % of epochs\u001b[0m\n",
      "\u001b[34m[06/14/2020 09:33:42 INFO 140075443283776] #quality_metric: host=algo-1, epoch=23, train loss <loss>=9.18264474869\u001b[0m\n",
      "\u001b[34m[06/14/2020 09:33:42 INFO 140075443283776] loss did not improve\u001b[0m\n",
      "\u001b[34m[06/14/2020 09:33:43 INFO 140075443283776] Epoch[24] Batch[0] avg_epoch_loss=9.195661\u001b[0m\n",
      "\u001b[34m[06/14/2020 09:33:43 INFO 140075443283776] #quality_metric: host=algo-1, epoch=24, batch=0 train loss <loss>=9.19566059113\u001b[0m\n",
      "\u001b[34m[06/14/2020 09:33:43 INFO 140075443283776] Epoch[24] Batch[5] avg_epoch_loss=9.181422\u001b[0m\n",
      "\u001b[34m[06/14/2020 09:33:43 INFO 140075443283776] #quality_metric: host=algo-1, epoch=24, batch=5 train loss <loss>=9.18142207464\u001b[0m\n",
      "\u001b[34m[06/14/2020 09:33:43 INFO 140075443283776] Epoch[24] Batch [5]#011Speed: 5210.66 samples/sec#011loss=9.181422\u001b[0m\n",
      "\u001b[34m[06/14/2020 09:33:43 INFO 140075443283776] Epoch[24] Batch[10] avg_epoch_loss=9.129583\u001b[0m\n",
      "\u001b[34m[06/14/2020 09:33:43 INFO 140075443283776] #quality_metric: host=algo-1, epoch=24, batch=10 train loss <loss>=9.06737537384\u001b[0m\n",
      "\u001b[34m[06/14/2020 09:33:43 INFO 140075443283776] Epoch[24] Batch [10]#011Speed: 4731.11 samples/sec#011loss=9.067375\u001b[0m\n",
      "\u001b[34m[06/14/2020 09:33:43 INFO 140075443283776] processed a total of 1316 examples\u001b[0m\n",
      "\u001b[34m#metrics {\"Metrics\": {\"update.time\": {\"count\": 1, \"max\": 736.9029521942139, \"sum\": 736.9029521942139, \"min\": 736.9029521942139}}, \"EndTime\": 1592127223.43845, \"Dimensions\": {\"Host\": \"algo-1\", \"Operation\": \"training\", \"Algorithm\": \"AWS/DeepAR\"}, \"StartTime\": 1592127222.701126}\n",
      "\u001b[0m\n",
      "\u001b[34m[06/14/2020 09:33:43 INFO 140075443283776] #throughput_metric: host=algo-1, train throughput=1785.59602282 records/second\u001b[0m\n",
      "\u001b[34m[06/14/2020 09:33:43 INFO 140075443283776] #progress_metric: host=algo-1, completed 50 % of epochs\u001b[0m\n",
      "\u001b[34m[06/14/2020 09:33:43 INFO 140075443283776] #quality_metric: host=algo-1, epoch=24, train loss <loss>=9.12958266518\u001b[0m\n",
      "\u001b[34m[06/14/2020 09:33:43 INFO 140075443283776] loss did not improve\u001b[0m\n",
      "\u001b[34m[06/14/2020 09:33:43 INFO 140075443283776] Epoch[25] Batch[0] avg_epoch_loss=9.356910\u001b[0m\n",
      "\u001b[34m[06/14/2020 09:33:43 INFO 140075443283776] #quality_metric: host=algo-1, epoch=25, batch=0 train loss <loss>=9.35690975189\u001b[0m\n",
      "\u001b[34m[06/14/2020 09:33:44 INFO 140075443283776] Epoch[25] Batch[5] avg_epoch_loss=9.206916\u001b[0m\n",
      "\u001b[34m[06/14/2020 09:33:44 INFO 140075443283776] #quality_metric: host=algo-1, epoch=25, batch=5 train loss <loss>=9.20691585541\u001b[0m\n",
      "\u001b[34m[06/14/2020 09:33:44 INFO 140075443283776] Epoch[25] Batch [5]#011Speed: 5268.92 samples/sec#011loss=9.206916\u001b[0m\n",
      "\u001b[34m[06/14/2020 09:33:44 INFO 140075443283776] Epoch[25] Batch[10] avg_epoch_loss=9.197387\u001b[0m\n",
      "\u001b[34m[06/14/2020 09:33:44 INFO 140075443283776] #quality_metric: host=algo-1, epoch=25, batch=10 train loss <loss>=9.18595199585\u001b[0m\n",
      "\u001b[34m[06/14/2020 09:33:44 INFO 140075443283776] Epoch[25] Batch [10]#011Speed: 5073.36 samples/sec#011loss=9.185952\u001b[0m\n",
      "\u001b[34m[06/14/2020 09:33:44 INFO 140075443283776] processed a total of 1356 examples\u001b[0m\n",
      "\u001b[34m#metrics {\"Metrics\": {\"update.time\": {\"count\": 1, \"max\": 725.1710891723633, \"sum\": 725.1710891723633, \"min\": 725.1710891723633}}, \"EndTime\": 1592127224.164098, \"Dimensions\": {\"Host\": \"algo-1\", \"Operation\": \"training\", \"Algorithm\": \"AWS/DeepAR\"}, \"StartTime\": 1592127223.43852}\n",
      "\u001b[0m\n",
      "\u001b[34m[06/14/2020 09:33:44 INFO 140075443283776] #throughput_metric: host=algo-1, train throughput=1869.62264661 records/second\u001b[0m\n",
      "\u001b[34m[06/14/2020 09:33:44 INFO 140075443283776] #progress_metric: host=algo-1, completed 52 % of epochs\u001b[0m\n",
      "\u001b[34m[06/14/2020 09:33:44 INFO 140075443283776] #quality_metric: host=algo-1, epoch=25, train loss <loss>=9.19738682834\u001b[0m\n",
      "\u001b[34m[06/14/2020 09:33:44 INFO 140075443283776] loss did not improve\u001b[0m\n",
      "\u001b[34m[06/14/2020 09:33:44 INFO 140075443283776] Epoch[26] Batch[0] avg_epoch_loss=9.171569\u001b[0m\n",
      "\u001b[34m[06/14/2020 09:33:44 INFO 140075443283776] #quality_metric: host=algo-1, epoch=26, batch=0 train loss <loss>=9.17156887054\u001b[0m\n",
      "\u001b[34m[06/14/2020 09:33:44 INFO 140075443283776] Epoch[26] Batch[5] avg_epoch_loss=9.136905\u001b[0m\n",
      "\u001b[34m[06/14/2020 09:33:44 INFO 140075443283776] #quality_metric: host=algo-1, epoch=26, batch=5 train loss <loss>=9.13690471649\u001b[0m\n",
      "\u001b[34m[06/14/2020 09:33:44 INFO 140075443283776] Epoch[26] Batch [5]#011Speed: 5270.31 samples/sec#011loss=9.136905\u001b[0m\n",
      "\u001b[34m[06/14/2020 09:33:44 INFO 140075443283776] Epoch[26] Batch[10] avg_epoch_loss=9.163727\u001b[0m\n",
      "\u001b[34m[06/14/2020 09:33:44 INFO 140075443283776] #quality_metric: host=algo-1, epoch=26, batch=10 train loss <loss>=9.19591407776\u001b[0m\n",
      "\u001b[34m[06/14/2020 09:33:44 INFO 140075443283776] Epoch[26] Batch [10]#011Speed: 5049.39 samples/sec#011loss=9.195914\u001b[0m\n",
      "\u001b[34m[06/14/2020 09:33:44 INFO 140075443283776] processed a total of 1307 examples\u001b[0m\n",
      "\u001b[34m#metrics {\"Metrics\": {\"update.time\": {\"count\": 1, \"max\": 689.932107925415, \"sum\": 689.932107925415, \"min\": 689.932107925415}}, \"EndTime\": 1592127224.854574, \"Dimensions\": {\"Host\": \"algo-1\", \"Operation\": \"training\", \"Algorithm\": \"AWS/DeepAR\"}, \"StartTime\": 1592127224.164173}\n",
      "\u001b[0m\n",
      "\u001b[34m[06/14/2020 09:33:44 INFO 140075443283776] #throughput_metric: host=algo-1, train throughput=1894.09082658 records/second\u001b[0m\n",
      "\u001b[34m[06/14/2020 09:33:44 INFO 140075443283776] #progress_metric: host=algo-1, completed 54 % of epochs\u001b[0m\n",
      "\u001b[34m[06/14/2020 09:33:44 INFO 140075443283776] #quality_metric: host=algo-1, epoch=26, train loss <loss>=9.16372715343\u001b[0m\n",
      "\u001b[34m[06/14/2020 09:33:44 INFO 140075443283776] loss did not improve\u001b[0m\n",
      "\u001b[34m[06/14/2020 09:33:45 INFO 140075443283776] Epoch[27] Batch[0] avg_epoch_loss=9.211960\u001b[0m\n",
      "\u001b[34m[06/14/2020 09:33:45 INFO 140075443283776] #quality_metric: host=algo-1, epoch=27, batch=0 train loss <loss>=9.21195983887\u001b[0m\n",
      "\u001b[34m[06/14/2020 09:33:45 INFO 140075443283776] Epoch[27] Batch[5] avg_epoch_loss=9.147610\u001b[0m\n",
      "\u001b[34m[06/14/2020 09:33:45 INFO 140075443283776] #quality_metric: host=algo-1, epoch=27, batch=5 train loss <loss>=9.14761002858\u001b[0m\n",
      "\u001b[34m[06/14/2020 09:33:45 INFO 140075443283776] Epoch[27] Batch [5]#011Speed: 4863.25 samples/sec#011loss=9.147610\u001b[0m\n",
      "\u001b[34m[06/14/2020 09:33:45 INFO 140075443283776] Epoch[27] Batch[10] avg_epoch_loss=9.128504\u001b[0m\n",
      "\u001b[34m[06/14/2020 09:33:45 INFO 140075443283776] #quality_metric: host=algo-1, epoch=27, batch=10 train loss <loss>=9.10557632446\u001b[0m\n",
      "\u001b[34m[06/14/2020 09:33:45 INFO 140075443283776] Epoch[27] Batch [10]#011Speed: 5008.34 samples/sec#011loss=9.105576\u001b[0m\n",
      "\u001b[34m[06/14/2020 09:33:45 INFO 140075443283776] processed a total of 1303 examples\u001b[0m\n",
      "\u001b[34m#metrics {\"Metrics\": {\"update.time\": {\"count\": 1, \"max\": 683.5741996765137, \"sum\": 683.5741996765137, \"min\": 683.5741996765137}}, \"EndTime\": 1592127225.538715, \"Dimensions\": {\"Host\": \"algo-1\", \"Operation\": \"training\", \"Algorithm\": \"AWS/DeepAR\"}, \"StartTime\": 1592127224.854646}\n",
      "\u001b[0m\n",
      "\u001b[34m[06/14/2020 09:33:45 INFO 140075443283776] #throughput_metric: host=algo-1, train throughput=1905.82634216 records/second\u001b[0m\n",
      "\u001b[34m[06/14/2020 09:33:45 INFO 140075443283776] #progress_metric: host=algo-1, completed 56 % of epochs\u001b[0m\n",
      "\u001b[34m[06/14/2020 09:33:45 INFO 140075443283776] #quality_metric: host=algo-1, epoch=27, train loss <loss>=9.12850379944\u001b[0m\n",
      "\u001b[34m[06/14/2020 09:33:45 INFO 140075443283776] loss did not improve\u001b[0m\n",
      "\u001b[34m[06/14/2020 09:33:46 INFO 140075443283776] Epoch[28] Batch[0] avg_epoch_loss=9.074133\u001b[0m\n",
      "\u001b[34m[06/14/2020 09:33:46 INFO 140075443283776] #quality_metric: host=algo-1, epoch=28, batch=0 train loss <loss>=9.07413291931\u001b[0m\n",
      "\u001b[34m[06/14/2020 09:33:46 INFO 140075443283776] Epoch[28] Batch[5] avg_epoch_loss=9.098749\u001b[0m\n",
      "\u001b[34m[06/14/2020 09:33:46 INFO 140075443283776] #quality_metric: host=algo-1, epoch=28, batch=5 train loss <loss>=9.09874868393\u001b[0m\n",
      "\u001b[34m[06/14/2020 09:33:46 INFO 140075443283776] Epoch[28] Batch [5]#011Speed: 5430.13 samples/sec#011loss=9.098749\u001b[0m\n",
      "\u001b[34m[06/14/2020 09:33:46 INFO 140075443283776] Epoch[28] Batch[10] avg_epoch_loss=9.162901\u001b[0m\n",
      "\u001b[34m[06/14/2020 09:33:46 INFO 140075443283776] #quality_metric: host=algo-1, epoch=28, batch=10 train loss <loss>=9.23988399506\u001b[0m\n",
      "\u001b[34m[06/14/2020 09:33:46 INFO 140075443283776] Epoch[28] Batch [10]#011Speed: 4646.64 samples/sec#011loss=9.239884\u001b[0m\n",
      "\u001b[34m[06/14/2020 09:33:46 INFO 140075443283776] processed a total of 1311 examples\u001b[0m\n",
      "\u001b[34m#metrics {\"Metrics\": {\"update.time\": {\"count\": 1, \"max\": 749.2198944091797, \"sum\": 749.2198944091797, \"min\": 749.2198944091797}}, \"EndTime\": 1592127226.288403, \"Dimensions\": {\"Host\": \"algo-1\", \"Operation\": \"training\", \"Algorithm\": \"AWS/DeepAR\"}, \"StartTime\": 1592127225.538793}\n",
      "\u001b[0m\n",
      "\u001b[34m[06/14/2020 09:33:46 INFO 140075443283776] #throughput_metric: host=algo-1, train throughput=1749.52554467 records/second\u001b[0m\n",
      "\u001b[34m[06/14/2020 09:33:46 INFO 140075443283776] #progress_metric: host=algo-1, completed 58 % of epochs\u001b[0m\n",
      "\u001b[34m[06/14/2020 09:33:46 INFO 140075443283776] #quality_metric: host=algo-1, epoch=28, train loss <loss>=9.16290109808\u001b[0m\n",
      "\u001b[34m[06/14/2020 09:33:46 INFO 140075443283776] loss did not improve\u001b[0m\n",
      "\u001b[34m[06/14/2020 09:33:46 INFO 140075443283776] Epoch[29] Batch[0] avg_epoch_loss=8.935567\u001b[0m\n",
      "\u001b[34m[06/14/2020 09:33:46 INFO 140075443283776] #quality_metric: host=algo-1, epoch=29, batch=0 train loss <loss>=8.93556690216\u001b[0m\n",
      "\u001b[34m[06/14/2020 09:33:46 INFO 140075443283776] Epoch[29] Batch[5] avg_epoch_loss=9.118558\u001b[0m\n",
      "\u001b[34m[06/14/2020 09:33:46 INFO 140075443283776] #quality_metric: host=algo-1, epoch=29, batch=5 train loss <loss>=9.11855777105\u001b[0m\n",
      "\u001b[34m[06/14/2020 09:33:46 INFO 140075443283776] Epoch[29] Batch [5]#011Speed: 5251.63 samples/sec#011loss=9.118558\u001b[0m\n",
      "\u001b[34m[06/14/2020 09:33:46 INFO 140075443283776] Epoch[29] Batch[10] avg_epoch_loss=9.137293\u001b[0m\n",
      "\u001b[34m[06/14/2020 09:33:46 INFO 140075443283776] #quality_metric: host=algo-1, epoch=29, batch=10 train loss <loss>=9.15977478027\u001b[0m\n",
      "\u001b[34m[06/14/2020 09:33:46 INFO 140075443283776] Epoch[29] Batch [10]#011Speed: 5062.60 samples/sec#011loss=9.159775\u001b[0m\n",
      "\u001b[34m[06/14/2020 09:33:46 INFO 140075443283776] processed a total of 1286 examples\u001b[0m\n",
      "\u001b[34m#metrics {\"Metrics\": {\"update.time\": {\"count\": 1, \"max\": 689.0280246734619, \"sum\": 689.0280246734619, \"min\": 689.0280246734619}}, \"EndTime\": 1592127226.977999, \"Dimensions\": {\"Host\": \"algo-1\", \"Operation\": \"training\", \"Algorithm\": \"AWS/DeepAR\"}, \"StartTime\": 1592127226.288487}\n",
      "\u001b[0m\n",
      "\u001b[34m[06/14/2020 09:33:46 INFO 140075443283776] #throughput_metric: host=algo-1, train throughput=1866.04791502 records/second\u001b[0m\n",
      "\u001b[34m[06/14/2020 09:33:46 INFO 140075443283776] #progress_metric: host=algo-1, completed 60 % of epochs\u001b[0m\n",
      "\u001b[34m[06/14/2020 09:33:46 INFO 140075443283776] #quality_metric: host=algo-1, epoch=29, train loss <loss>=9.13729277524\u001b[0m\n",
      "\u001b[34m[06/14/2020 09:33:46 INFO 140075443283776] loss did not improve\u001b[0m\n",
      "\u001b[34m[06/14/2020 09:33:46 INFO 140075443283776] Loading parameters from best epoch (19)\u001b[0m\n",
      "\u001b[34m#metrics {\"Metrics\": {\"state.deserialize.time\": {\"count\": 1, \"max\": 4.250049591064453, \"sum\": 4.250049591064453, \"min\": 4.250049591064453}}, \"EndTime\": 1592127226.982903, \"Dimensions\": {\"Host\": \"algo-1\", \"Operation\": \"training\", \"Algorithm\": \"AWS/DeepAR\"}, \"StartTime\": 1592127226.978084}\n",
      "\u001b[0m\n",
      "\u001b[34m[06/14/2020 09:33:46 INFO 140075443283776] stopping training now\u001b[0m\n",
      "\u001b[34m[06/14/2020 09:33:46 INFO 140075443283776] #progress_metric: host=algo-1, completed 100 % of epochs\u001b[0m\n",
      "\u001b[34m[06/14/2020 09:33:46 INFO 140075443283776] Final loss: 8.95007051121 (occurred at epoch 19)\u001b[0m\n",
      "\u001b[34m[06/14/2020 09:33:46 INFO 140075443283776] #quality_metric: host=algo-1, train final_loss <loss>=8.95007051121\u001b[0m\n",
      "\u001b[34m[06/14/2020 09:33:46 INFO 140075443283776] Worker algo-1 finished training.\u001b[0m\n",
      "\u001b[34m[06/14/2020 09:33:46 WARNING 140075443283776] wait_for_all_workers will not sync workers since the kv store is not running distributed\u001b[0m\n",
      "\u001b[34m[06/14/2020 09:33:46 INFO 140075443283776] All workers finished. Serializing model for prediction.\u001b[0m\n",
      "\u001b[34m#metrics {\"Metrics\": {\"get_graph.time\": {\"count\": 1, \"max\": 27.395009994506836, \"sum\": 27.395009994506836, \"min\": 27.395009994506836}}, \"EndTime\": 1592127227.011046, \"Dimensions\": {\"Host\": \"algo-1\", \"Operation\": \"training\", \"Algorithm\": \"AWS/DeepAR\"}, \"StartTime\": 1592127226.982952}\n",
      "\u001b[0m\n",
      "\u001b[34m[06/14/2020 09:33:47 INFO 140075443283776] Number of GPUs being used: 0\u001b[0m\n",
      "\u001b[34m#metrics {\"Metrics\": {\"finalize.time\": {\"count\": 1, \"max\": 41.35489463806152, \"sum\": 41.35489463806152, \"min\": 41.35489463806152}}, \"EndTime\": 1592127227.024971, \"Dimensions\": {\"Host\": \"algo-1\", \"Operation\": \"training\", \"Algorithm\": \"AWS/DeepAR\"}, \"StartTime\": 1592127227.011096}\n",
      "\u001b[0m\n",
      "\u001b[34m[06/14/2020 09:33:47 INFO 140075443283776] Serializing to /opt/ml/model/model_algo-1\u001b[0m\n",
      "\u001b[34m[06/14/2020 09:33:47 INFO 140075443283776] Saved checkpoint to \"/opt/ml/model/model_algo-1-0000.params\"\u001b[0m\n",
      "\u001b[34m#metrics {\"Metrics\": {\"model.serialize.time\": {\"count\": 1, \"max\": 2.526998519897461, \"sum\": 2.526998519897461, \"min\": 2.526998519897461}}, \"EndTime\": 1592127227.027593, \"Dimensions\": {\"Host\": \"algo-1\", \"Operation\": \"training\", \"Algorithm\": \"AWS/DeepAR\"}, \"StartTime\": 1592127227.025027}\n",
      "\u001b[0m\n",
      "\u001b[34m[06/14/2020 09:33:47 INFO 140075443283776] Successfully serialized the model for prediction.\u001b[0m\n",
      "\u001b[34m[06/14/2020 09:33:47 INFO 140075443283776] Evaluating model accuracy on testset using 100 samples\u001b[0m\n",
      "\u001b[34m#metrics {\"Metrics\": {\"model.bind.time\": {\"count\": 1, \"max\": 0.03695487976074219, \"sum\": 0.03695487976074219, \"min\": 0.03695487976074219}}, \"EndTime\": 1592127227.028285, \"Dimensions\": {\"Host\": \"algo-1\", \"Operation\": \"training\", \"Algorithm\": \"AWS/DeepAR\"}, \"StartTime\": 1592127227.027638}\n",
      "\u001b[0m\n",
      "\u001b[34m#metrics {\"Metrics\": {\"model.score.time\": {\"count\": 1, \"max\": 673.7160682678223, \"sum\": 673.7160682678223, \"min\": 673.7160682678223}}, \"EndTime\": 1592127227.701959, \"Dimensions\": {\"Host\": \"algo-1\", \"Operation\": \"training\", \"Algorithm\": \"AWS/DeepAR\"}, \"StartTime\": 1592127227.028343}\n",
      "\u001b[0m\n",
      "\u001b[34m[06/14/2020 09:33:47 INFO 140075443283776] #test_score (algo-1, RMSE): 25979.7090106\u001b[0m\n",
      "\u001b[34m[06/14/2020 09:33:47 INFO 140075443283776] #test_score (algo-1, mean_absolute_QuantileLoss): 802060.3331461588\u001b[0m\n",
      "\u001b[34m[06/14/2020 09:33:47 INFO 140075443283776] #test_score (algo-1, mean_wQuantileLoss): 0.6990777862919231\u001b[0m\n",
      "\u001b[34m[06/14/2020 09:33:47 INFO 140075443283776] #test_score (algo-1, wQuantileLoss[0.1]): 0.4365392566383902\u001b[0m\n",
      "\u001b[34m[06/14/2020 09:33:47 INFO 140075443283776] #test_score (algo-1, wQuantileLoss[0.2]): 0.7664890515559413\u001b[0m\n",
      "\u001b[34m[06/14/2020 09:33:47 INFO 140075443283776] #test_score (algo-1, wQuantileLoss[0.3]): 0.8928376847327437\u001b[0m\n",
      "\u001b[34m[06/14/2020 09:33:47 INFO 140075443283776] #test_score (algo-1, wQuantileLoss[0.4]): 0.9296720411424158\u001b[0m\n",
      "\u001b[34m[06/14/2020 09:33:47 INFO 140075443283776] #test_score (algo-1, wQuantileLoss[0.5]): 0.897251945692546\u001b[0m\n",
      "\u001b[34m[06/14/2020 09:33:47 INFO 140075443283776] #test_score (algo-1, wQuantileLoss[0.6]): 0.8114564388462988\u001b[0m\n",
      "\u001b[34m[06/14/2020 09:33:47 INFO 140075443283776] #test_score (algo-1, wQuantileLoss[0.7]): 0.6935256221103656\u001b[0m\n",
      "\u001b[34m[06/14/2020 09:33:47 INFO 140075443283776] #test_score (algo-1, wQuantileLoss[0.8]): 0.5323500362287023\u001b[0m\n",
      "\u001b[34m[06/14/2020 09:33:47 INFO 140075443283776] #test_score (algo-1, wQuantileLoss[0.9]): 0.3315779996799039\u001b[0m\n",
      "\u001b[34m[06/14/2020 09:33:47 INFO 140075443283776] #quality_metric: host=algo-1, test mean_wQuantileLoss <loss>=0.699077786292\u001b[0m\n",
      "\u001b[34m[06/14/2020 09:33:47 INFO 140075443283776] #quality_metric: host=algo-1, test RMSE <loss>=25979.7090106\u001b[0m\n",
      "\u001b[34m#metrics {\"Metrics\": {\"totaltime\": {\"count\": 1, \"max\": 22910.48789024353, \"sum\": 22910.48789024353, \"min\": 22910.48789024353}, \"setuptime\": {\"count\": 1, \"max\": 8.978843688964844, \"sum\": 8.978843688964844, \"min\": 8.978843688964844}}, \"EndTime\": 1592127227.709345, \"Dimensions\": {\"Host\": \"algo-1\", \"Operation\": \"training\", \"Algorithm\": \"AWS/DeepAR\"}, \"StartTime\": 1592127227.702024}\n",
      "\u001b[0m\n",
      "\n",
      "2020-06-14 09:33:59 Uploading - Uploading generated training model\n",
      "2020-06-14 09:33:59 Completed - Training job completed\n",
      "Training seconds: 85\n",
      "Billable seconds: 85\n",
      "CPU times: user 482 ms, sys: 33.7 ms, total: 516 ms\n",
      "Wall time: 3min 42s\n"
     ]
    }
   ],
   "source": [
    "%%time\n",
    "# train and test channels\n",
    "data_channels = {\n",
    "    \"train\": train_path,\n",
    "    \"test\": test_path\n",
    "}\n",
    "\n",
    "# fit the estimator\n",
    "estimator.fit(inputs=data_channels)"
   ]
  },
  {
   "cell_type": "code",
   "execution_count": null,
   "metadata": {},
   "outputs": [],
   "source": [
    "%%time\n",
    "\n",
    "# create a predictor\n",
    "predictor = estimator.deploy(\n",
    "    initial_instance_count=1,\n",
    "    instance_type='ml.t2.medium',\n",
    "    content_type=\"application/json\" # specify that it will accept/produce JSON\n",
    ")"
   ]
  },
  {
   "cell_type": "code",
   "execution_count": null,
   "metadata": {},
   "outputs": [],
   "source": []
  },
  {
   "cell_type": "code",
   "execution_count": null,
   "metadata": {},
   "outputs": [],
   "source": []
  }
 ],
 "metadata": {
  "kernelspec": {
   "display_name": "conda_python3",
   "language": "python",
   "name": "conda_python3"
  },
  "language_info": {
   "codemirror_mode": {
    "name": "ipython",
    "version": 3
   },
   "file_extension": ".py",
   "mimetype": "text/x-python",
   "name": "python",
   "nbconvert_exporter": "python",
   "pygments_lexer": "ipython3",
   "version": "3.6.5"
  }
 },
 "nbformat": 4,
 "nbformat_minor": 4
}
